{
 "cells": [
  {
   "cell_type": "markdown",
   "metadata": {},
   "source": [
    "## Project: Model to Predict Term Deposit Subscription by Clients\n",
    "\n",
    "#### Table of Contents\n",
    "- [Introduction](#intro)\n",
    "- [Data Gathering](#gather)\n",
    "- [Exploratory Data Analysis](#explore)\n",
    "- [Feature Engineering](#feature)\n",
    "- [Modeling and Evaluation](#model)\n",
    "- [Conclusion](#conclude)"
   ]
  },
  {
   "cell_type": "markdown",
   "metadata": {},
   "source": [
    "<a id=\"intro\"></a>\n",
    "#### Introduction\n",
    "\n",
    "The objective of this project is to build a predictive model to determine the likelihood of a client subscribing to a term deposit based on the features provided in the dataset.\n",
    "\n",
    "The datasets provided are described below:\n",
    "1) **bank-additional-full.csv** with all examples (41188) and 20 inputs, ordered by date (from May 2008 to November 2010), very close to the data analyzed. \n",
    "2) **bank-additional.csv** with 10% of the examples (4119), randomly selected from 1), and 20 inputs. \n",
    "3) **bank-full.csv** with all examples and 17 inputs, ordered by date (older version of this dataset with less inputs).  \n",
    "4) **bank.csv** with 10% of the examples and 17 inputs, randomly selected from 3 (older version of this dataset with less inputs).  \n",
    "\n",
    "Since **bank-additional-full.csv** is the most complete dataset and the most recent version, this project will use that dataset for the model.\n",
    "\n",
    "The variables in the dateset are as follows.\n",
    "\n",
    "- age: age of client\n",
    "\n",
    "- job : type of job \n",
    "\n",
    " - marital : marital status \n",
    "\n",
    "- education:  \n",
    "\n",
    " - default: has credit in default\n",
    "\n",
    "- housing: has housing loan\n",
    "\n",
    "- loan: has personal loan\n",
    "\n",
    "- contact: contact communication type \n",
    "\n",
    "- month: last contact month of year\n",
    "\n",
    "- day_of_week: last contact day of the week \n",
    "\n",
    " - duration: last contact duration, in seconds \n",
    "\n",
    "- campaign: number of contacts performed during this campaign and for this client \n",
    "\n",
    "- pdays: number of days that passed by after the client was last contacted from a previous campaign \n",
    "\n",
    "- previous: number of contacts performed before this campaign and for this client \n",
    "\n",
    "- poutcome: outcome of the previous marketing campaign \n",
    "\n",
    "- emp.var.rate: employment variation rate \n",
    "\n",
    "- cons.price.idx: consumer price index \n",
    "\n",
    " - cons.conf.idx: consumer confidence index \n",
    "\n",
    " - euribor3m: euribor 3 month rate \n",
    "\n",
    "- nr.employed: number of employees\n",
    "\n",
    "Predict variable (desired target):\n",
    "- y: has the client subscribed a term deposit? "
   ]
  },
  {
   "cell_type": "code",
   "execution_count": 1,
   "metadata": {},
   "outputs": [],
   "source": [
    "# import modules\n",
    "import numpy as np\n",
    "import pandas as pd\n",
    "import matplotlib.pyplot as plt\n",
    "import seaborn as sns\n",
    "from sklearn.preprocessing import OneHotEncoder\n",
    "from sklearn.feature_selection import RFE\n",
    "from sklearn.linear_model import LogisticRegression\n",
    "from sklearn.model_selection import train_test_split\n",
    "from sklearn.metrics import accuracy_score, confusion_matrix, classification_report\n",
    "from imblearn.over_sampling import SMOTE\n",
    "from imblearn.under_sampling import RandomUnderSampler\n",
    "from imblearn.combine import SMOTETomek"
   ]
  },
  {
   "cell_type": "markdown",
   "metadata": {},
   "source": [
    "<a id=\"gather\"></a>\n",
    "##### Data Gathering"
   ]
  },
  {
   "cell_type": "code",
   "execution_count": null,
   "metadata": {},
   "outputs": [],
   "source": [
    "# import the semi-colon separated bank-additional-full.csv file into a dataframe\n",
    "df = pd.read_csv(\"bank-additional-full.csv\",sep=';')"
   ]
  },
  {
   "cell_type": "code",
   "execution_count": 3,
   "metadata": {},
   "outputs": [
    {
     "data": {
      "application/vnd.microsoft.datawrangler.viewer.v0+json": {
       "columns": [
        {
         "name": "index",
         "rawType": "int64",
         "type": "integer"
        },
        {
         "name": "age",
         "rawType": "int64",
         "type": "integer"
        },
        {
         "name": "job",
         "rawType": "object",
         "type": "string"
        },
        {
         "name": "marital",
         "rawType": "object",
         "type": "string"
        },
        {
         "name": "education",
         "rawType": "object",
         "type": "string"
        },
        {
         "name": "default",
         "rawType": "object",
         "type": "string"
        },
        {
         "name": "housing",
         "rawType": "object",
         "type": "string"
        },
        {
         "name": "loan",
         "rawType": "object",
         "type": "string"
        },
        {
         "name": "contact",
         "rawType": "object",
         "type": "string"
        },
        {
         "name": "month",
         "rawType": "object",
         "type": "string"
        },
        {
         "name": "day_of_week",
         "rawType": "object",
         "type": "string"
        },
        {
         "name": "duration",
         "rawType": "int64",
         "type": "integer"
        },
        {
         "name": "campaign",
         "rawType": "int64",
         "type": "integer"
        },
        {
         "name": "pdays",
         "rawType": "int64",
         "type": "integer"
        },
        {
         "name": "previous",
         "rawType": "int64",
         "type": "integer"
        },
        {
         "name": "poutcome",
         "rawType": "object",
         "type": "string"
        },
        {
         "name": "emp.var.rate",
         "rawType": "float64",
         "type": "float"
        },
        {
         "name": "cons.price.idx",
         "rawType": "float64",
         "type": "float"
        },
        {
         "name": "cons.conf.idx",
         "rawType": "float64",
         "type": "float"
        },
        {
         "name": "euribor3m",
         "rawType": "float64",
         "type": "float"
        },
        {
         "name": "nr.employed",
         "rawType": "float64",
         "type": "float"
        },
        {
         "name": "y",
         "rawType": "object",
         "type": "string"
        }
       ],
       "ref": "b92a9a00-becf-4db0-84cc-8832f2245549",
       "rows": [
        [
         "0",
         "56",
         "housemaid",
         "married",
         "basic.4y",
         "no",
         "no",
         "no",
         "telephone",
         "may",
         "mon",
         "261",
         "1",
         "999",
         "0",
         "nonexistent",
         "1.1",
         "93.994",
         "-36.4",
         "4.857",
         "5191.0",
         "no"
        ],
        [
         "1",
         "57",
         "services",
         "married",
         "high.school",
         "unknown",
         "no",
         "no",
         "telephone",
         "may",
         "mon",
         "149",
         "1",
         "999",
         "0",
         "nonexistent",
         "1.1",
         "93.994",
         "-36.4",
         "4.857",
         "5191.0",
         "no"
        ],
        [
         "2",
         "37",
         "services",
         "married",
         "high.school",
         "no",
         "yes",
         "no",
         "telephone",
         "may",
         "mon",
         "226",
         "1",
         "999",
         "0",
         "nonexistent",
         "1.1",
         "93.994",
         "-36.4",
         "4.857",
         "5191.0",
         "no"
        ],
        [
         "3",
         "40",
         "admin.",
         "married",
         "basic.6y",
         "no",
         "no",
         "no",
         "telephone",
         "may",
         "mon",
         "151",
         "1",
         "999",
         "0",
         "nonexistent",
         "1.1",
         "93.994",
         "-36.4",
         "4.857",
         "5191.0",
         "no"
        ],
        [
         "4",
         "56",
         "services",
         "married",
         "high.school",
         "no",
         "no",
         "yes",
         "telephone",
         "may",
         "mon",
         "307",
         "1",
         "999",
         "0",
         "nonexistent",
         "1.1",
         "93.994",
         "-36.4",
         "4.857",
         "5191.0",
         "no"
        ]
       ],
       "shape": {
        "columns": 21,
        "rows": 5
       }
      },
      "text/html": [
       "<div>\n",
       "<style scoped>\n",
       "    .dataframe tbody tr th:only-of-type {\n",
       "        vertical-align: middle;\n",
       "    }\n",
       "\n",
       "    .dataframe tbody tr th {\n",
       "        vertical-align: top;\n",
       "    }\n",
       "\n",
       "    .dataframe thead th {\n",
       "        text-align: right;\n",
       "    }\n",
       "</style>\n",
       "<table border=\"1\" class=\"dataframe\">\n",
       "  <thead>\n",
       "    <tr style=\"text-align: right;\">\n",
       "      <th></th>\n",
       "      <th>age</th>\n",
       "      <th>job</th>\n",
       "      <th>marital</th>\n",
       "      <th>education</th>\n",
       "      <th>default</th>\n",
       "      <th>housing</th>\n",
       "      <th>loan</th>\n",
       "      <th>contact</th>\n",
       "      <th>month</th>\n",
       "      <th>day_of_week</th>\n",
       "      <th>duration</th>\n",
       "      <th>campaign</th>\n",
       "      <th>pdays</th>\n",
       "      <th>previous</th>\n",
       "      <th>poutcome</th>\n",
       "      <th>emp.var.rate</th>\n",
       "      <th>cons.price.idx</th>\n",
       "      <th>cons.conf.idx</th>\n",
       "      <th>euribor3m</th>\n",
       "      <th>nr.employed</th>\n",
       "      <th>y</th>\n",
       "    </tr>\n",
       "  </thead>\n",
       "  <tbody>\n",
       "    <tr>\n",
       "      <th>0</th>\n",
       "      <td>56</td>\n",
       "      <td>housemaid</td>\n",
       "      <td>married</td>\n",
       "      <td>basic.4y</td>\n",
       "      <td>no</td>\n",
       "      <td>no</td>\n",
       "      <td>no</td>\n",
       "      <td>telephone</td>\n",
       "      <td>may</td>\n",
       "      <td>mon</td>\n",
       "      <td>261</td>\n",
       "      <td>1</td>\n",
       "      <td>999</td>\n",
       "      <td>0</td>\n",
       "      <td>nonexistent</td>\n",
       "      <td>1.1</td>\n",
       "      <td>93.994</td>\n",
       "      <td>-36.4</td>\n",
       "      <td>4.857</td>\n",
       "      <td>5191.0</td>\n",
       "      <td>no</td>\n",
       "    </tr>\n",
       "    <tr>\n",
       "      <th>1</th>\n",
       "      <td>57</td>\n",
       "      <td>services</td>\n",
       "      <td>married</td>\n",
       "      <td>high.school</td>\n",
       "      <td>unknown</td>\n",
       "      <td>no</td>\n",
       "      <td>no</td>\n",
       "      <td>telephone</td>\n",
       "      <td>may</td>\n",
       "      <td>mon</td>\n",
       "      <td>149</td>\n",
       "      <td>1</td>\n",
       "      <td>999</td>\n",
       "      <td>0</td>\n",
       "      <td>nonexistent</td>\n",
       "      <td>1.1</td>\n",
       "      <td>93.994</td>\n",
       "      <td>-36.4</td>\n",
       "      <td>4.857</td>\n",
       "      <td>5191.0</td>\n",
       "      <td>no</td>\n",
       "    </tr>\n",
       "    <tr>\n",
       "      <th>2</th>\n",
       "      <td>37</td>\n",
       "      <td>services</td>\n",
       "      <td>married</td>\n",
       "      <td>high.school</td>\n",
       "      <td>no</td>\n",
       "      <td>yes</td>\n",
       "      <td>no</td>\n",
       "      <td>telephone</td>\n",
       "      <td>may</td>\n",
       "      <td>mon</td>\n",
       "      <td>226</td>\n",
       "      <td>1</td>\n",
       "      <td>999</td>\n",
       "      <td>0</td>\n",
       "      <td>nonexistent</td>\n",
       "      <td>1.1</td>\n",
       "      <td>93.994</td>\n",
       "      <td>-36.4</td>\n",
       "      <td>4.857</td>\n",
       "      <td>5191.0</td>\n",
       "      <td>no</td>\n",
       "    </tr>\n",
       "    <tr>\n",
       "      <th>3</th>\n",
       "      <td>40</td>\n",
       "      <td>admin.</td>\n",
       "      <td>married</td>\n",
       "      <td>basic.6y</td>\n",
       "      <td>no</td>\n",
       "      <td>no</td>\n",
       "      <td>no</td>\n",
       "      <td>telephone</td>\n",
       "      <td>may</td>\n",
       "      <td>mon</td>\n",
       "      <td>151</td>\n",
       "      <td>1</td>\n",
       "      <td>999</td>\n",
       "      <td>0</td>\n",
       "      <td>nonexistent</td>\n",
       "      <td>1.1</td>\n",
       "      <td>93.994</td>\n",
       "      <td>-36.4</td>\n",
       "      <td>4.857</td>\n",
       "      <td>5191.0</td>\n",
       "      <td>no</td>\n",
       "    </tr>\n",
       "    <tr>\n",
       "      <th>4</th>\n",
       "      <td>56</td>\n",
       "      <td>services</td>\n",
       "      <td>married</td>\n",
       "      <td>high.school</td>\n",
       "      <td>no</td>\n",
       "      <td>no</td>\n",
       "      <td>yes</td>\n",
       "      <td>telephone</td>\n",
       "      <td>may</td>\n",
       "      <td>mon</td>\n",
       "      <td>307</td>\n",
       "      <td>1</td>\n",
       "      <td>999</td>\n",
       "      <td>0</td>\n",
       "      <td>nonexistent</td>\n",
       "      <td>1.1</td>\n",
       "      <td>93.994</td>\n",
       "      <td>-36.4</td>\n",
       "      <td>4.857</td>\n",
       "      <td>5191.0</td>\n",
       "      <td>no</td>\n",
       "    </tr>\n",
       "  </tbody>\n",
       "</table>\n",
       "</div>"
      ],
      "text/plain": [
       "   age        job  marital    education  default housing loan    contact  \\\n",
       "0   56  housemaid  married     basic.4y       no      no   no  telephone   \n",
       "1   57   services  married  high.school  unknown      no   no  telephone   \n",
       "2   37   services  married  high.school       no     yes   no  telephone   \n",
       "3   40     admin.  married     basic.6y       no      no   no  telephone   \n",
       "4   56   services  married  high.school       no      no  yes  telephone   \n",
       "\n",
       "  month day_of_week  duration  campaign  pdays  previous     poutcome  \\\n",
       "0   may         mon       261         1    999         0  nonexistent   \n",
       "1   may         mon       149         1    999         0  nonexistent   \n",
       "2   may         mon       226         1    999         0  nonexistent   \n",
       "3   may         mon       151         1    999         0  nonexistent   \n",
       "4   may         mon       307         1    999         0  nonexistent   \n",
       "\n",
       "   emp.var.rate  cons.price.idx  cons.conf.idx  euribor3m  nr.employed   y  \n",
       "0           1.1          93.994          -36.4      4.857       5191.0  no  \n",
       "1           1.1          93.994          -36.4      4.857       5191.0  no  \n",
       "2           1.1          93.994          -36.4      4.857       5191.0  no  \n",
       "3           1.1          93.994          -36.4      4.857       5191.0  no  \n",
       "4           1.1          93.994          -36.4      4.857       5191.0  no  "
      ]
     },
     "execution_count": 3,
     "metadata": {},
     "output_type": "execute_result"
    }
   ],
   "source": [
    "# set option to display all columns\n",
    "pd.set_option('display.max_columns', None)\n",
    "\n",
    "# display first 5 rows of the dataframe\n",
    "df.head()"
   ]
  },
  {
   "cell_type": "code",
   "execution_count": 4,
   "metadata": {},
   "outputs": [
    {
     "data": {
      "application/vnd.microsoft.datawrangler.viewer.v0+json": {
       "columns": [
        {
         "name": "index",
         "rawType": "int64",
         "type": "integer"
        },
        {
         "name": "age",
         "rawType": "int64",
         "type": "integer"
        },
        {
         "name": "job",
         "rawType": "object",
         "type": "string"
        },
        {
         "name": "marital",
         "rawType": "object",
         "type": "string"
        },
        {
         "name": "education",
         "rawType": "object",
         "type": "string"
        },
        {
         "name": "default",
         "rawType": "object",
         "type": "string"
        },
        {
         "name": "housing",
         "rawType": "object",
         "type": "string"
        },
        {
         "name": "loan",
         "rawType": "object",
         "type": "string"
        },
        {
         "name": "contact",
         "rawType": "object",
         "type": "string"
        },
        {
         "name": "month",
         "rawType": "object",
         "type": "string"
        },
        {
         "name": "day_of_week",
         "rawType": "object",
         "type": "string"
        },
        {
         "name": "duration",
         "rawType": "int64",
         "type": "integer"
        },
        {
         "name": "campaign",
         "rawType": "int64",
         "type": "integer"
        },
        {
         "name": "pdays",
         "rawType": "int64",
         "type": "integer"
        },
        {
         "name": "previous",
         "rawType": "int64",
         "type": "integer"
        },
        {
         "name": "poutcome",
         "rawType": "object",
         "type": "string"
        },
        {
         "name": "emp.var.rate",
         "rawType": "float64",
         "type": "float"
        },
        {
         "name": "cons.price.idx",
         "rawType": "float64",
         "type": "float"
        },
        {
         "name": "cons.conf.idx",
         "rawType": "float64",
         "type": "float"
        },
        {
         "name": "euribor3m",
         "rawType": "float64",
         "type": "float"
        },
        {
         "name": "nr.employed",
         "rawType": "float64",
         "type": "float"
        },
        {
         "name": "y",
         "rawType": "object",
         "type": "string"
        }
       ],
       "ref": "fcff85c2-99f5-43d4-972c-77934237b5f1",
       "rows": [
        [
         "6005",
         "31",
         "admin.",
         "single",
         "high.school",
         "no",
         "no",
         "no",
         "telephone",
         "may",
         "tue",
         "35",
         "1",
         "999",
         "0",
         "nonexistent",
         "1.1",
         "93.994",
         "-36.4",
         "4.857",
         "5191.0",
         "no"
        ],
        [
         "38661",
         "58",
         "management",
         "married",
         "basic.4y",
         "no",
         "yes",
         "no",
         "cellular",
         "nov",
         "wed",
         "70",
         "5",
         "999",
         "0",
         "nonexistent",
         "-3.4",
         "92.649",
         "-30.1",
         "0.719",
         "5017.5",
         "no"
        ],
        [
         "31494",
         "33",
         "admin.",
         "married",
         "high.school",
         "no",
         "no",
         "no",
         "telephone",
         "may",
         "wed",
         "167",
         "3",
         "999",
         "0",
         "nonexistent",
         "-1.8",
         "92.893",
         "-46.2",
         "1.334",
         "5099.1",
         "no"
        ],
        [
         "22021",
         "32",
         "self-employed",
         "married",
         "high.school",
         "no",
         "yes",
         "no",
         "cellular",
         "aug",
         "wed",
         "304",
         "3",
         "999",
         "0",
         "nonexistent",
         "1.4",
         "93.444",
         "-36.1",
         "4.964",
         "5228.1",
         "no"
        ],
        [
         "33260",
         "34",
         "self-employed",
         "single",
         "university.degree",
         "no",
         "yes",
         "no",
         "cellular",
         "may",
         "tue",
         "245",
         "1",
         "999",
         "0",
         "nonexistent",
         "-1.8",
         "92.893",
         "-46.2",
         "1.291",
         "5099.1",
         "no"
        ],
        [
         "17417",
         "58",
         "admin.",
         "single",
         "unknown",
         "unknown",
         "no",
         "no",
         "telephone",
         "jul",
         "mon",
         "228",
         "1",
         "999",
         "0",
         "nonexistent",
         "1.4",
         "93.918",
         "-42.7",
         "4.962",
         "5228.1",
         "no"
        ],
        [
         "18490",
         "29",
         "admin.",
         "single",
         "university.degree",
         "no",
         "no",
         "no",
         "cellular",
         "jul",
         "thu",
         "6",
         "14",
         "999",
         "0",
         "nonexistent",
         "1.4",
         "93.918",
         "-42.7",
         "4.968",
         "5228.1",
         "no"
        ],
        [
         "3544",
         "38",
         "services",
         "married",
         "high.school",
         "no",
         "yes",
         "no",
         "telephone",
         "may",
         "fri",
         "512",
         "1",
         "999",
         "0",
         "nonexistent",
         "1.1",
         "93.994",
         "-36.4",
         "4.859",
         "5191.0",
         "no"
        ],
        [
         "14758",
         "31",
         "blue-collar",
         "married",
         "basic.9y",
         "no",
         "no",
         "no",
         "cellular",
         "jul",
         "wed",
         "715",
         "1",
         "999",
         "0",
         "nonexistent",
         "1.4",
         "93.918",
         "-42.7",
         "4.957",
         "5228.1",
         "no"
        ],
        [
         "28183",
         "43",
         "blue-collar",
         "married",
         "basic.9y",
         "unknown",
         "yes",
         "yes",
         "cellular",
         "apr",
         "tue",
         "1096",
         "1",
         "999",
         "0",
         "nonexistent",
         "-1.8",
         "93.075",
         "-47.1",
         "1.453",
         "5099.1",
         "no"
        ]
       ],
       "shape": {
        "columns": 21,
        "rows": 10
       }
      },
      "text/html": [
       "<div>\n",
       "<style scoped>\n",
       "    .dataframe tbody tr th:only-of-type {\n",
       "        vertical-align: middle;\n",
       "    }\n",
       "\n",
       "    .dataframe tbody tr th {\n",
       "        vertical-align: top;\n",
       "    }\n",
       "\n",
       "    .dataframe thead th {\n",
       "        text-align: right;\n",
       "    }\n",
       "</style>\n",
       "<table border=\"1\" class=\"dataframe\">\n",
       "  <thead>\n",
       "    <tr style=\"text-align: right;\">\n",
       "      <th></th>\n",
       "      <th>age</th>\n",
       "      <th>job</th>\n",
       "      <th>marital</th>\n",
       "      <th>education</th>\n",
       "      <th>default</th>\n",
       "      <th>housing</th>\n",
       "      <th>loan</th>\n",
       "      <th>contact</th>\n",
       "      <th>month</th>\n",
       "      <th>day_of_week</th>\n",
       "      <th>duration</th>\n",
       "      <th>campaign</th>\n",
       "      <th>pdays</th>\n",
       "      <th>previous</th>\n",
       "      <th>poutcome</th>\n",
       "      <th>emp.var.rate</th>\n",
       "      <th>cons.price.idx</th>\n",
       "      <th>cons.conf.idx</th>\n",
       "      <th>euribor3m</th>\n",
       "      <th>nr.employed</th>\n",
       "      <th>y</th>\n",
       "    </tr>\n",
       "  </thead>\n",
       "  <tbody>\n",
       "    <tr>\n",
       "      <th>6005</th>\n",
       "      <td>31</td>\n",
       "      <td>admin.</td>\n",
       "      <td>single</td>\n",
       "      <td>high.school</td>\n",
       "      <td>no</td>\n",
       "      <td>no</td>\n",
       "      <td>no</td>\n",
       "      <td>telephone</td>\n",
       "      <td>may</td>\n",
       "      <td>tue</td>\n",
       "      <td>35</td>\n",
       "      <td>1</td>\n",
       "      <td>999</td>\n",
       "      <td>0</td>\n",
       "      <td>nonexistent</td>\n",
       "      <td>1.1</td>\n",
       "      <td>93.994</td>\n",
       "      <td>-36.4</td>\n",
       "      <td>4.857</td>\n",
       "      <td>5191.0</td>\n",
       "      <td>no</td>\n",
       "    </tr>\n",
       "    <tr>\n",
       "      <th>38661</th>\n",
       "      <td>58</td>\n",
       "      <td>management</td>\n",
       "      <td>married</td>\n",
       "      <td>basic.4y</td>\n",
       "      <td>no</td>\n",
       "      <td>yes</td>\n",
       "      <td>no</td>\n",
       "      <td>cellular</td>\n",
       "      <td>nov</td>\n",
       "      <td>wed</td>\n",
       "      <td>70</td>\n",
       "      <td>5</td>\n",
       "      <td>999</td>\n",
       "      <td>0</td>\n",
       "      <td>nonexistent</td>\n",
       "      <td>-3.4</td>\n",
       "      <td>92.649</td>\n",
       "      <td>-30.1</td>\n",
       "      <td>0.719</td>\n",
       "      <td>5017.5</td>\n",
       "      <td>no</td>\n",
       "    </tr>\n",
       "    <tr>\n",
       "      <th>31494</th>\n",
       "      <td>33</td>\n",
       "      <td>admin.</td>\n",
       "      <td>married</td>\n",
       "      <td>high.school</td>\n",
       "      <td>no</td>\n",
       "      <td>no</td>\n",
       "      <td>no</td>\n",
       "      <td>telephone</td>\n",
       "      <td>may</td>\n",
       "      <td>wed</td>\n",
       "      <td>167</td>\n",
       "      <td>3</td>\n",
       "      <td>999</td>\n",
       "      <td>0</td>\n",
       "      <td>nonexistent</td>\n",
       "      <td>-1.8</td>\n",
       "      <td>92.893</td>\n",
       "      <td>-46.2</td>\n",
       "      <td>1.334</td>\n",
       "      <td>5099.1</td>\n",
       "      <td>no</td>\n",
       "    </tr>\n",
       "    <tr>\n",
       "      <th>22021</th>\n",
       "      <td>32</td>\n",
       "      <td>self-employed</td>\n",
       "      <td>married</td>\n",
       "      <td>high.school</td>\n",
       "      <td>no</td>\n",
       "      <td>yes</td>\n",
       "      <td>no</td>\n",
       "      <td>cellular</td>\n",
       "      <td>aug</td>\n",
       "      <td>wed</td>\n",
       "      <td>304</td>\n",
       "      <td>3</td>\n",
       "      <td>999</td>\n",
       "      <td>0</td>\n",
       "      <td>nonexistent</td>\n",
       "      <td>1.4</td>\n",
       "      <td>93.444</td>\n",
       "      <td>-36.1</td>\n",
       "      <td>4.964</td>\n",
       "      <td>5228.1</td>\n",
       "      <td>no</td>\n",
       "    </tr>\n",
       "    <tr>\n",
       "      <th>33260</th>\n",
       "      <td>34</td>\n",
       "      <td>self-employed</td>\n",
       "      <td>single</td>\n",
       "      <td>university.degree</td>\n",
       "      <td>no</td>\n",
       "      <td>yes</td>\n",
       "      <td>no</td>\n",
       "      <td>cellular</td>\n",
       "      <td>may</td>\n",
       "      <td>tue</td>\n",
       "      <td>245</td>\n",
       "      <td>1</td>\n",
       "      <td>999</td>\n",
       "      <td>0</td>\n",
       "      <td>nonexistent</td>\n",
       "      <td>-1.8</td>\n",
       "      <td>92.893</td>\n",
       "      <td>-46.2</td>\n",
       "      <td>1.291</td>\n",
       "      <td>5099.1</td>\n",
       "      <td>no</td>\n",
       "    </tr>\n",
       "    <tr>\n",
       "      <th>17417</th>\n",
       "      <td>58</td>\n",
       "      <td>admin.</td>\n",
       "      <td>single</td>\n",
       "      <td>unknown</td>\n",
       "      <td>unknown</td>\n",
       "      <td>no</td>\n",
       "      <td>no</td>\n",
       "      <td>telephone</td>\n",
       "      <td>jul</td>\n",
       "      <td>mon</td>\n",
       "      <td>228</td>\n",
       "      <td>1</td>\n",
       "      <td>999</td>\n",
       "      <td>0</td>\n",
       "      <td>nonexistent</td>\n",
       "      <td>1.4</td>\n",
       "      <td>93.918</td>\n",
       "      <td>-42.7</td>\n",
       "      <td>4.962</td>\n",
       "      <td>5228.1</td>\n",
       "      <td>no</td>\n",
       "    </tr>\n",
       "    <tr>\n",
       "      <th>18490</th>\n",
       "      <td>29</td>\n",
       "      <td>admin.</td>\n",
       "      <td>single</td>\n",
       "      <td>university.degree</td>\n",
       "      <td>no</td>\n",
       "      <td>no</td>\n",
       "      <td>no</td>\n",
       "      <td>cellular</td>\n",
       "      <td>jul</td>\n",
       "      <td>thu</td>\n",
       "      <td>6</td>\n",
       "      <td>14</td>\n",
       "      <td>999</td>\n",
       "      <td>0</td>\n",
       "      <td>nonexistent</td>\n",
       "      <td>1.4</td>\n",
       "      <td>93.918</td>\n",
       "      <td>-42.7</td>\n",
       "      <td>4.968</td>\n",
       "      <td>5228.1</td>\n",
       "      <td>no</td>\n",
       "    </tr>\n",
       "    <tr>\n",
       "      <th>3544</th>\n",
       "      <td>38</td>\n",
       "      <td>services</td>\n",
       "      <td>married</td>\n",
       "      <td>high.school</td>\n",
       "      <td>no</td>\n",
       "      <td>yes</td>\n",
       "      <td>no</td>\n",
       "      <td>telephone</td>\n",
       "      <td>may</td>\n",
       "      <td>fri</td>\n",
       "      <td>512</td>\n",
       "      <td>1</td>\n",
       "      <td>999</td>\n",
       "      <td>0</td>\n",
       "      <td>nonexistent</td>\n",
       "      <td>1.1</td>\n",
       "      <td>93.994</td>\n",
       "      <td>-36.4</td>\n",
       "      <td>4.859</td>\n",
       "      <td>5191.0</td>\n",
       "      <td>no</td>\n",
       "    </tr>\n",
       "    <tr>\n",
       "      <th>14758</th>\n",
       "      <td>31</td>\n",
       "      <td>blue-collar</td>\n",
       "      <td>married</td>\n",
       "      <td>basic.9y</td>\n",
       "      <td>no</td>\n",
       "      <td>no</td>\n",
       "      <td>no</td>\n",
       "      <td>cellular</td>\n",
       "      <td>jul</td>\n",
       "      <td>wed</td>\n",
       "      <td>715</td>\n",
       "      <td>1</td>\n",
       "      <td>999</td>\n",
       "      <td>0</td>\n",
       "      <td>nonexistent</td>\n",
       "      <td>1.4</td>\n",
       "      <td>93.918</td>\n",
       "      <td>-42.7</td>\n",
       "      <td>4.957</td>\n",
       "      <td>5228.1</td>\n",
       "      <td>no</td>\n",
       "    </tr>\n",
       "    <tr>\n",
       "      <th>28183</th>\n",
       "      <td>43</td>\n",
       "      <td>blue-collar</td>\n",
       "      <td>married</td>\n",
       "      <td>basic.9y</td>\n",
       "      <td>unknown</td>\n",
       "      <td>yes</td>\n",
       "      <td>yes</td>\n",
       "      <td>cellular</td>\n",
       "      <td>apr</td>\n",
       "      <td>tue</td>\n",
       "      <td>1096</td>\n",
       "      <td>1</td>\n",
       "      <td>999</td>\n",
       "      <td>0</td>\n",
       "      <td>nonexistent</td>\n",
       "      <td>-1.8</td>\n",
       "      <td>93.075</td>\n",
       "      <td>-47.1</td>\n",
       "      <td>1.453</td>\n",
       "      <td>5099.1</td>\n",
       "      <td>no</td>\n",
       "    </tr>\n",
       "  </tbody>\n",
       "</table>\n",
       "</div>"
      ],
      "text/plain": [
       "       age            job  marital          education  default housing loan  \\\n",
       "6005    31         admin.   single        high.school       no      no   no   \n",
       "38661   58     management  married           basic.4y       no     yes   no   \n",
       "31494   33         admin.  married        high.school       no      no   no   \n",
       "22021   32  self-employed  married        high.school       no     yes   no   \n",
       "33260   34  self-employed   single  university.degree       no     yes   no   \n",
       "17417   58         admin.   single            unknown  unknown      no   no   \n",
       "18490   29         admin.   single  university.degree       no      no   no   \n",
       "3544    38       services  married        high.school       no     yes   no   \n",
       "14758   31    blue-collar  married           basic.9y       no      no   no   \n",
       "28183   43    blue-collar  married           basic.9y  unknown     yes  yes   \n",
       "\n",
       "         contact month day_of_week  duration  campaign  pdays  previous  \\\n",
       "6005   telephone   may         tue        35         1    999         0   \n",
       "38661   cellular   nov         wed        70         5    999         0   \n",
       "31494  telephone   may         wed       167         3    999         0   \n",
       "22021   cellular   aug         wed       304         3    999         0   \n",
       "33260   cellular   may         tue       245         1    999         0   \n",
       "17417  telephone   jul         mon       228         1    999         0   \n",
       "18490   cellular   jul         thu         6        14    999         0   \n",
       "3544   telephone   may         fri       512         1    999         0   \n",
       "14758   cellular   jul         wed       715         1    999         0   \n",
       "28183   cellular   apr         tue      1096         1    999         0   \n",
       "\n",
       "          poutcome  emp.var.rate  cons.price.idx  cons.conf.idx  euribor3m  \\\n",
       "6005   nonexistent           1.1          93.994          -36.4      4.857   \n",
       "38661  nonexistent          -3.4          92.649          -30.1      0.719   \n",
       "31494  nonexistent          -1.8          92.893          -46.2      1.334   \n",
       "22021  nonexistent           1.4          93.444          -36.1      4.964   \n",
       "33260  nonexistent          -1.8          92.893          -46.2      1.291   \n",
       "17417  nonexistent           1.4          93.918          -42.7      4.962   \n",
       "18490  nonexistent           1.4          93.918          -42.7      4.968   \n",
       "3544   nonexistent           1.1          93.994          -36.4      4.859   \n",
       "14758  nonexistent           1.4          93.918          -42.7      4.957   \n",
       "28183  nonexistent          -1.8          93.075          -47.1      1.453   \n",
       "\n",
       "       nr.employed   y  \n",
       "6005        5191.0  no  \n",
       "38661       5017.5  no  \n",
       "31494       5099.1  no  \n",
       "22021       5228.1  no  \n",
       "33260       5099.1  no  \n",
       "17417       5228.1  no  \n",
       "18490       5228.1  no  \n",
       "3544        5191.0  no  \n",
       "14758       5228.1  no  \n",
       "28183       5099.1  no  "
      ]
     },
     "execution_count": 4,
     "metadata": {},
     "output_type": "execute_result"
    }
   ],
   "source": [
    "# display a random sample of 10 rows\n",
    "df.sample(10)"
   ]
  },
  {
   "cell_type": "markdown",
   "metadata": {},
   "source": [
    "After successfully loading the data into a dataframe, the next step is to perform data assessment to identify any issues with the data that may interfere with the model."
   ]
  },
  {
   "cell_type": "code",
   "execution_count": 5,
   "metadata": {},
   "outputs": [
    {
     "data": {
      "text/plain": [
       "(41188, 21)"
      ]
     },
     "execution_count": 5,
     "metadata": {},
     "output_type": "execute_result"
    }
   ],
   "source": [
    "# check shape of dataframe\n",
    "df.shape"
   ]
  },
  {
   "cell_type": "markdown",
   "metadata": {},
   "source": [
    "The dataset has 41188 rows with 21 columns."
   ]
  },
  {
   "cell_type": "code",
   "execution_count": 6,
   "metadata": {},
   "outputs": [
    {
     "name": "stdout",
     "output_type": "stream",
     "text": [
      "<class 'pandas.core.frame.DataFrame'>\n",
      "RangeIndex: 41188 entries, 0 to 41187\n",
      "Data columns (total 21 columns):\n",
      " #   Column          Non-Null Count  Dtype  \n",
      "---  ------          --------------  -----  \n",
      " 0   age             41188 non-null  int64  \n",
      " 1   job             41188 non-null  object \n",
      " 2   marital         41188 non-null  object \n",
      " 3   education       41188 non-null  object \n",
      " 4   default         41188 non-null  object \n",
      " 5   housing         41188 non-null  object \n",
      " 6   loan            41188 non-null  object \n",
      " 7   contact         41188 non-null  object \n",
      " 8   month           41188 non-null  object \n",
      " 9   day_of_week     41188 non-null  object \n",
      " 10  duration        41188 non-null  int64  \n",
      " 11  campaign        41188 non-null  int64  \n",
      " 12  pdays           41188 non-null  int64  \n",
      " 13  previous        41188 non-null  int64  \n",
      " 14  poutcome        41188 non-null  object \n",
      " 15  emp.var.rate    41188 non-null  float64\n",
      " 16  cons.price.idx  41188 non-null  float64\n",
      " 17  cons.conf.idx   41188 non-null  float64\n",
      " 18  euribor3m       41188 non-null  float64\n",
      " 19  nr.employed     41188 non-null  float64\n",
      " 20  y               41188 non-null  object \n",
      "dtypes: float64(5), int64(5), object(11)\n",
      "memory usage: 6.6+ MB\n"
     ]
    }
   ],
   "source": [
    "# display dataframe info\n",
    "df.info()"
   ]
  },
  {
   "cell_type": "markdown",
   "metadata": {},
   "source": [
    "The data has no nulls and the data types appear appropriate at this stage."
   ]
  },
  {
   "cell_type": "code",
   "execution_count": 8,
   "metadata": {},
   "outputs": [
    {
     "data": {
      "application/vnd.microsoft.datawrangler.viewer.v0+json": {
       "columns": [
        {
         "name": "index",
         "rawType": "object",
         "type": "string"
        },
        {
         "name": "age",
         "rawType": "float64",
         "type": "float"
        },
        {
         "name": "duration",
         "rawType": "float64",
         "type": "float"
        },
        {
         "name": "campaign",
         "rawType": "float64",
         "type": "float"
        },
        {
         "name": "pdays",
         "rawType": "float64",
         "type": "float"
        },
        {
         "name": "previous",
         "rawType": "float64",
         "type": "float"
        },
        {
         "name": "emp.var.rate",
         "rawType": "float64",
         "type": "float"
        },
        {
         "name": "cons.price.idx",
         "rawType": "float64",
         "type": "float"
        },
        {
         "name": "cons.conf.idx",
         "rawType": "float64",
         "type": "float"
        },
        {
         "name": "euribor3m",
         "rawType": "float64",
         "type": "float"
        },
        {
         "name": "nr.employed",
         "rawType": "float64",
         "type": "float"
        }
       ],
       "ref": "832282e7-57a9-40b7-b30e-fe2affa8d9f3",
       "rows": [
        [
         "count",
         "41188.0",
         "41188.0",
         "41188.0",
         "41188.0",
         "41188.0",
         "41188.0",
         "41188.0",
         "41188.0",
         "41188.0",
         "41188.0"
        ],
        [
         "mean",
         "40.02406040594348",
         "258.2850101971448",
         "2.567592502670681",
         "962.4754540157328",
         "0.17296299893172767",
         "0.08188550063125165",
         "93.57566436826262",
         "-40.50260027192386",
         "3.621290812858114",
         "5167.035910944936"
        ],
        [
         "std",
         "10.421249980934048",
         "259.2792488364648",
         "2.7700135429023276",
         "186.9109073447418",
         "0.4949010798392897",
         "1.5709597405170255",
         "0.5788400489541262",
         "4.628197856174544",
         "1.734447404851267",
         "72.25152766826108"
        ],
        [
         "min",
         "17.0",
         "0.0",
         "1.0",
         "0.0",
         "0.0",
         "-3.4",
         "92.201",
         "-50.8",
         "0.634",
         "4963.6"
        ],
        [
         "25%",
         "32.0",
         "102.0",
         "1.0",
         "999.0",
         "0.0",
         "-1.8",
         "93.075",
         "-42.7",
         "1.344",
         "5099.1"
        ],
        [
         "50%",
         "38.0",
         "180.0",
         "2.0",
         "999.0",
         "0.0",
         "1.1",
         "93.749",
         "-41.8",
         "4.857",
         "5191.0"
        ],
        [
         "75%",
         "47.0",
         "319.0",
         "3.0",
         "999.0",
         "0.0",
         "1.4",
         "93.994",
         "-36.4",
         "4.961",
         "5228.1"
        ],
        [
         "max",
         "98.0",
         "4918.0",
         "56.0",
         "999.0",
         "7.0",
         "1.4",
         "94.767",
         "-26.9",
         "5.045",
         "5228.1"
        ]
       ],
       "shape": {
        "columns": 10,
        "rows": 8
       }
      },
      "text/html": [
       "<div>\n",
       "<style scoped>\n",
       "    .dataframe tbody tr th:only-of-type {\n",
       "        vertical-align: middle;\n",
       "    }\n",
       "\n",
       "    .dataframe tbody tr th {\n",
       "        vertical-align: top;\n",
       "    }\n",
       "\n",
       "    .dataframe thead th {\n",
       "        text-align: right;\n",
       "    }\n",
       "</style>\n",
       "<table border=\"1\" class=\"dataframe\">\n",
       "  <thead>\n",
       "    <tr style=\"text-align: right;\">\n",
       "      <th></th>\n",
       "      <th>age</th>\n",
       "      <th>duration</th>\n",
       "      <th>campaign</th>\n",
       "      <th>pdays</th>\n",
       "      <th>previous</th>\n",
       "      <th>emp.var.rate</th>\n",
       "      <th>cons.price.idx</th>\n",
       "      <th>cons.conf.idx</th>\n",
       "      <th>euribor3m</th>\n",
       "      <th>nr.employed</th>\n",
       "    </tr>\n",
       "  </thead>\n",
       "  <tbody>\n",
       "    <tr>\n",
       "      <th>count</th>\n",
       "      <td>41188.00000</td>\n",
       "      <td>41188.000000</td>\n",
       "      <td>41188.000000</td>\n",
       "      <td>41188.000000</td>\n",
       "      <td>41188.000000</td>\n",
       "      <td>41188.000000</td>\n",
       "      <td>41188.000000</td>\n",
       "      <td>41188.000000</td>\n",
       "      <td>41188.000000</td>\n",
       "      <td>41188.000000</td>\n",
       "    </tr>\n",
       "    <tr>\n",
       "      <th>mean</th>\n",
       "      <td>40.02406</td>\n",
       "      <td>258.285010</td>\n",
       "      <td>2.567593</td>\n",
       "      <td>962.475454</td>\n",
       "      <td>0.172963</td>\n",
       "      <td>0.081886</td>\n",
       "      <td>93.575664</td>\n",
       "      <td>-40.502600</td>\n",
       "      <td>3.621291</td>\n",
       "      <td>5167.035911</td>\n",
       "    </tr>\n",
       "    <tr>\n",
       "      <th>std</th>\n",
       "      <td>10.42125</td>\n",
       "      <td>259.279249</td>\n",
       "      <td>2.770014</td>\n",
       "      <td>186.910907</td>\n",
       "      <td>0.494901</td>\n",
       "      <td>1.570960</td>\n",
       "      <td>0.578840</td>\n",
       "      <td>4.628198</td>\n",
       "      <td>1.734447</td>\n",
       "      <td>72.251528</td>\n",
       "    </tr>\n",
       "    <tr>\n",
       "      <th>min</th>\n",
       "      <td>17.00000</td>\n",
       "      <td>0.000000</td>\n",
       "      <td>1.000000</td>\n",
       "      <td>0.000000</td>\n",
       "      <td>0.000000</td>\n",
       "      <td>-3.400000</td>\n",
       "      <td>92.201000</td>\n",
       "      <td>-50.800000</td>\n",
       "      <td>0.634000</td>\n",
       "      <td>4963.600000</td>\n",
       "    </tr>\n",
       "    <tr>\n",
       "      <th>25%</th>\n",
       "      <td>32.00000</td>\n",
       "      <td>102.000000</td>\n",
       "      <td>1.000000</td>\n",
       "      <td>999.000000</td>\n",
       "      <td>0.000000</td>\n",
       "      <td>-1.800000</td>\n",
       "      <td>93.075000</td>\n",
       "      <td>-42.700000</td>\n",
       "      <td>1.344000</td>\n",
       "      <td>5099.100000</td>\n",
       "    </tr>\n",
       "    <tr>\n",
       "      <th>50%</th>\n",
       "      <td>38.00000</td>\n",
       "      <td>180.000000</td>\n",
       "      <td>2.000000</td>\n",
       "      <td>999.000000</td>\n",
       "      <td>0.000000</td>\n",
       "      <td>1.100000</td>\n",
       "      <td>93.749000</td>\n",
       "      <td>-41.800000</td>\n",
       "      <td>4.857000</td>\n",
       "      <td>5191.000000</td>\n",
       "    </tr>\n",
       "    <tr>\n",
       "      <th>75%</th>\n",
       "      <td>47.00000</td>\n",
       "      <td>319.000000</td>\n",
       "      <td>3.000000</td>\n",
       "      <td>999.000000</td>\n",
       "      <td>0.000000</td>\n",
       "      <td>1.400000</td>\n",
       "      <td>93.994000</td>\n",
       "      <td>-36.400000</td>\n",
       "      <td>4.961000</td>\n",
       "      <td>5228.100000</td>\n",
       "    </tr>\n",
       "    <tr>\n",
       "      <th>max</th>\n",
       "      <td>98.00000</td>\n",
       "      <td>4918.000000</td>\n",
       "      <td>56.000000</td>\n",
       "      <td>999.000000</td>\n",
       "      <td>7.000000</td>\n",
       "      <td>1.400000</td>\n",
       "      <td>94.767000</td>\n",
       "      <td>-26.900000</td>\n",
       "      <td>5.045000</td>\n",
       "      <td>5228.100000</td>\n",
       "    </tr>\n",
       "  </tbody>\n",
       "</table>\n",
       "</div>"
      ],
      "text/plain": [
       "               age      duration      campaign         pdays      previous  \\\n",
       "count  41188.00000  41188.000000  41188.000000  41188.000000  41188.000000   \n",
       "mean      40.02406    258.285010      2.567593    962.475454      0.172963   \n",
       "std       10.42125    259.279249      2.770014    186.910907      0.494901   \n",
       "min       17.00000      0.000000      1.000000      0.000000      0.000000   \n",
       "25%       32.00000    102.000000      1.000000    999.000000      0.000000   \n",
       "50%       38.00000    180.000000      2.000000    999.000000      0.000000   \n",
       "75%       47.00000    319.000000      3.000000    999.000000      0.000000   \n",
       "max       98.00000   4918.000000     56.000000    999.000000      7.000000   \n",
       "\n",
       "       emp.var.rate  cons.price.idx  cons.conf.idx     euribor3m   nr.employed  \n",
       "count  41188.000000    41188.000000   41188.000000  41188.000000  41188.000000  \n",
       "mean       0.081886       93.575664     -40.502600      3.621291   5167.035911  \n",
       "std        1.570960        0.578840       4.628198      1.734447     72.251528  \n",
       "min       -3.400000       92.201000     -50.800000      0.634000   4963.600000  \n",
       "25%       -1.800000       93.075000     -42.700000      1.344000   5099.100000  \n",
       "50%        1.100000       93.749000     -41.800000      4.857000   5191.000000  \n",
       "75%        1.400000       93.994000     -36.400000      4.961000   5228.100000  \n",
       "max        1.400000       94.767000     -26.900000      5.045000   5228.100000  "
      ]
     },
     "execution_count": 8,
     "metadata": {},
     "output_type": "execute_result"
    }
   ],
   "source": [
    "# display summary statistics for numeric columns\n",
    "df.describe()"
   ]
  },
  {
   "cell_type": "markdown",
   "metadata": {},
   "source": [
    "There appears to be outliers in the `duration` and `campaign` columns. These will be investigated during exploratory data analysis."
   ]
  },
  {
   "cell_type": "markdown",
   "metadata": {},
   "source": [
    "<a id=\"explore\"></a>\n",
    "#### Exploratory Data Analysis\n",
    "\n",
    "##### Target variable analysis"
   ]
  },
  {
   "cell_type": "code",
   "execution_count": 9,
   "metadata": {},
   "outputs": [
    {
     "data": {
      "application/vnd.microsoft.datawrangler.viewer.v0+json": {
       "columns": [
        {
         "name": "y",
         "rawType": "object",
         "type": "string"
        },
        {
         "name": "count",
         "rawType": "int64",
         "type": "integer"
        }
       ],
       "ref": "20b620a1-b2d9-4d1c-a559-b04ddec94b09",
       "rows": [
        [
         "no",
         "36548"
        ],
        [
         "yes",
         "4640"
        ]
       ],
       "shape": {
        "columns": 1,
        "rows": 2
       }
      },
      "text/plain": [
       "y\n",
       "no     36548\n",
       "yes     4640\n",
       "Name: count, dtype: int64"
      ]
     },
     "execution_count": 9,
     "metadata": {},
     "output_type": "execute_result"
    }
   ],
   "source": [
    "# check value counts of y column which indicates subscription or not\n",
    "df['y'].value_counts()"
   ]
  },
  {
   "cell_type": "code",
   "execution_count": 10,
   "metadata": {},
   "outputs": [
    {
     "data": {
      "image/png": "[encoded data removed]",
      "text/plain": [
       "<Figure size 640x480 with 1 Axes>"
      ]
     },
     "metadata": {},
     "output_type": "display_data"
    }
   ],
   "source": [
    "# visualize value counts\n",
    "# save value counts to variable\n",
    "response = df['y'].value_counts()\n",
    "#plot bar chart from value counts\n",
    "response.plot(kind='bar')\n",
    "# set xlabel\n",
    "plt.xlabel(\"Subscription Status\")\n",
    "# set ylabel\n",
    "plt.ylabel(\"Frequency\")\n",
    "# set chart title\n",
    "plt.title(\"Distribution of Term Deposit Subscription Status\")\\\n",
    "# display chart\n",
    "plt.show()"
   ]
  },
  {
   "cell_type": "markdown",
   "metadata": {},
   "source": [
    "Majority of the clients in the survey did not subscribe to a term deposit."
   ]
  },
  {
   "cell_type": "code",
   "execution_count": 11,
   "metadata": {},
   "outputs": [],
   "source": [
    "def plot_histogram(column):\n",
    "    \"\"\"Plots histogram\"\"\"\n",
    "    plt.figure(figsize=(6,4))\n",
    "    sns.histplot(df[column], bins =30)\n",
    "    plt.title(f\"Distribution of {column}\")\n",
    "    plt.show"
   ]
  },
  {
   "cell_type": "code",
   "execution_count": 12,
   "metadata": {},
   "outputs": [],
   "source": [
    "def plot_facetgrid(column, type):\n",
    "    \"\"\"Plots a facetgrid of histograms or countplots\"\"\"\n",
    "    if type == 'histogram':\n",
    "        g = sns.FacetGrid(df, col='y', sharey=True)\n",
    "        g.map(sns.histplot, column )\n",
    "        plt.show()\n",
    "    elif type == 'countplot':\n",
    "        g = sns.FacetGrid(df, col='y', sharey=True)\n",
    "        g.map(sns.countplot, column )\n",
    "        plt.show()"
   ]
  },
  {
   "cell_type": "code",
   "execution_count": 13,
   "metadata": {},
   "outputs": [],
   "source": [
    "def plot_countplot(column):\n",
    "    \"\"\"Plots countplot\"\"\"\n",
    "    sns.countplot(data=df, x=column)\n",
    "    plt.title(f\"Distribution of {column}\")\n",
    "    plt.xlabel(f\"{column}\")\n",
    "    plt.ylabel(\"frequency\")\n",
    "    plt.show()"
   ]
  },
  {
   "cell_type": "code",
   "execution_count": 14,
   "metadata": {},
   "outputs": [
    {
     "data": {
      "application/vnd.microsoft.datawrangler.viewer.v0+json": {
       "columns": [
        {
         "name": "age",
         "rawType": "int64",
         "type": "integer"
        },
        {
         "name": "count",
         "rawType": "int64",
         "type": "integer"
        }
       ],
       "ref": "c255b594-9497-4ca1-bf35-f3d52dbb9382",
       "rows": [
        [
         "31",
         "1947"
        ],
        [
         "32",
         "1846"
        ],
        [
         "33",
         "1833"
        ],
        [
         "36",
         "1780"
        ],
        [
         "35",
         "1759"
        ],
        [
         "34",
         "1745"
        ],
        [
         "30",
         "1714"
        ],
        [
         "37",
         "1475"
        ],
        [
         "29",
         "1453"
        ],
        [
         "39",
         "1432"
        ],
        [
         "38",
         "1407"
        ],
        [
         "41",
         "1278"
        ],
        [
         "40",
         "1161"
        ],
        [
         "42",
         "1142"
        ],
        [
         "45",
         "1103"
        ],
        [
         "43",
         "1055"
        ],
        [
         "46",
         "1030"
        ],
        [
         "44",
         "1011"
        ],
        [
         "28",
         "1001"
        ],
        [
         "48",
         "979"
        ],
        [
         "47",
         "928"
        ],
        [
         "50",
         "875"
        ],
        [
         "27",
         "851"
        ],
        [
         "49",
         "839"
        ],
        [
         "52",
         "779"
        ],
        [
         "51",
         "754"
        ],
        [
         "53",
         "733"
        ],
        [
         "56",
         "704"
        ],
        [
         "26",
         "698"
        ],
        [
         "54",
         "684"
        ],
        [
         "55",
         "648"
        ],
        [
         "57",
         "646"
        ],
        [
         "25",
         "598"
        ],
        [
         "58",
         "576"
        ],
        [
         "24",
         "463"
        ],
        [
         "59",
         "463"
        ],
        [
         "60",
         "283"
        ],
        [
         "23",
         "226"
        ],
        [
         "22",
         "137"
        ],
        [
         "21",
         "102"
        ],
        [
         "61",
         "73"
        ],
        [
         "20",
         "65"
        ],
        [
         "62",
         "62"
        ],
        [
         "64",
         "57"
        ],
        [
         "66",
         "57"
        ],
        [
         "63",
         "55"
        ],
        [
         "71",
         "53"
        ],
        [
         "70",
         "47"
        ],
        [
         "65",
         "44"
        ],
        [
         "19",
         "42"
        ]
       ],
       "shape": {
        "columns": 1,
        "rows": 78
       }
      },
      "text/plain": [
       "age\n",
       "31    1947\n",
       "32    1846\n",
       "33    1833\n",
       "36    1780\n",
       "35    1759\n",
       "      ... \n",
       "89       2\n",
       "91       2\n",
       "94       1\n",
       "87       1\n",
       "95       1\n",
       "Name: count, Length: 78, dtype: int64"
      ]
     },
     "execution_count": 14,
     "metadata": {},
     "output_type": "execute_result"
    }
   ],
   "source": [
    "# get distribution of age \n",
    "df['age'].value_counts()"
   ]
  },
  {
   "cell_type": "code",
   "execution_count": 15,
   "metadata": {},
   "outputs": [
    {
     "name": "stderr",
     "output_type": "stream",
     "text": [
      "c:\\Users\\BEACON POWER SERVICE\\anaconda3\\envs\\myenv\\Lib\\site-packages\\seaborn\\_oldcore.py:1119: FutureWarning: use_inf_as_na option is deprecated and will be removed in a future version. Convert inf values to NaN before operating instead.\n",
      "  with pd.option_context('mode.use_inf_as_na', True):\n"
     ]
    },
    {
     "data": {
      "image/png": "[encoded data removed]",
      "text/plain": [
       "<Figure size 600x400 with 1 Axes>"
      ]
     },
     "metadata": {},
     "output_type": "display_data"
    }
   ],
   "source": [
    "# plot distribution of age\n",
    "plot_histogram('age')"
   ]
  },
  {
   "cell_type": "markdown",
   "metadata": {},
   "source": [
    "The distribution of **age** is right skewed with most clients falling between the age of 30 to 40 years old and very few clients older than 60 years. For the model, the ages will be binned.\n",
    "\n",
    "Next step is to check the age distribution of clients who subscribed to the term deposit and those who did not.\n"
   ]
  },
  {
   "cell_type": "code",
   "execution_count": 16,
   "metadata": {},
   "outputs": [
    {
     "name": "stderr",
     "output_type": "stream",
     "text": [
      "c:\\Users\\BEACON POWER SERVICE\\anaconda3\\envs\\myenv\\Lib\\site-packages\\seaborn\\_oldcore.py:1119: FutureWarning: use_inf_as_na option is deprecated and will be removed in a future version. Convert inf values to NaN before operating instead.\n",
      "  with pd.option_context('mode.use_inf_as_na', True):\n",
      "c:\\Users\\BEACON POWER SERVICE\\anaconda3\\envs\\myenv\\Lib\\site-packages\\seaborn\\_oldcore.py:1119: FutureWarning: use_inf_as_na option is deprecated and will be removed in a future version. Convert inf values to NaN before operating instead.\n",
      "  with pd.option_context('mode.use_inf_as_na', True):\n"
     ]
    },
    {
     "data": {
      "image/png": "[encoded data removed]",
      "text/plain": [
       "<Figure size 600x300 with 2 Axes>"
      ]
     },
     "metadata": {},
     "output_type": "display_data"
    }
   ],
   "source": [
    "# plot hsitogram of age by subscription outcome\n",
    "plot_facetgrid('age', 'histogram')"
   ]
  },
  {
   "cell_type": "markdown",
   "metadata": {},
   "source": [
    "The group of clients that did not subscribe to a term deposit have a larger proportion of young individuals (20 -50 years), while the group that subscribed to the term deposit have a more diverse spread but with more people in the 30-40 range"
   ]
  },
  {
   "cell_type": "code",
   "execution_count": 17,
   "metadata": {},
   "outputs": [
    {
     "data": {
      "application/vnd.microsoft.datawrangler.viewer.v0+json": {
       "columns": [
        {
         "name": "duration",
         "rawType": "int64",
         "type": "integer"
        },
        {
         "name": "count",
         "rawType": "int64",
         "type": "integer"
        }
       ],
       "ref": "0d7e44a1-0a35-410c-95b1-2e3555820d13",
       "rows": [
        [
         "90",
         "170"
        ],
        [
         "85",
         "170"
        ],
        [
         "136",
         "168"
        ],
        [
         "73",
         "167"
        ],
        [
         "124",
         "164"
        ],
        [
         "87",
         "162"
        ],
        [
         "72",
         "161"
        ],
        [
         "104",
         "161"
        ],
        [
         "111",
         "160"
        ],
        [
         "106",
         "159"
        ],
        [
         "97",
         "158"
        ],
        [
         "109",
         "158"
        ],
        [
         "122",
         "157"
        ],
        [
         "114",
         "156"
        ],
        [
         "135",
         "156"
        ],
        [
         "92",
         "156"
        ],
        [
         "119",
         "155"
        ],
        [
         "96",
         "155"
        ],
        [
         "139",
         "155"
        ],
        [
         "82",
         "154"
        ],
        [
         "89",
         "153"
        ],
        [
         "76",
         "153"
        ],
        [
         "71",
         "152"
        ],
        [
         "125",
         "152"
        ],
        [
         "126",
         "152"
        ],
        [
         "93",
         "151"
        ],
        [
         "107",
         "150"
        ],
        [
         "88",
         "150"
        ],
        [
         "123",
         "149"
        ],
        [
         "83",
         "149"
        ],
        [
         "80",
         "148"
        ],
        [
         "95",
         "148"
        ],
        [
         "103",
         "147"
        ],
        [
         "128",
         "147"
        ],
        [
         "91",
         "147"
        ],
        [
         "81",
         "147"
        ],
        [
         "67",
         "147"
        ],
        [
         "127",
         "146"
        ],
        [
         "77",
         "146"
        ],
        [
         "101",
         "145"
        ],
        [
         "105",
         "145"
        ],
        [
         "78",
         "145"
        ],
        [
         "100",
         "145"
        ],
        [
         "157",
         "145"
        ],
        [
         "140",
         "145"
        ],
        [
         "112",
         "144"
        ],
        [
         "98",
         "144"
        ],
        [
         "133",
         "143"
        ],
        [
         "110",
         "142"
        ],
        [
         "113",
         "142"
        ]
       ],
       "shape": {
        "columns": 1,
        "rows": 1544
       }
      },
      "text/plain": [
       "duration\n",
       "90      170\n",
       "85      170\n",
       "136     168\n",
       "73      167\n",
       "124     164\n",
       "       ... \n",
       "1569      1\n",
       "1053      1\n",
       "1263      1\n",
       "1169      1\n",
       "1868      1\n",
       "Name: count, Length: 1544, dtype: int64"
      ]
     },
     "execution_count": 17,
     "metadata": {},
     "output_type": "execute_result"
    }
   ],
   "source": [
    "# get distribution of duration\n",
    "df['duration'].value_counts()"
   ]
  },
  {
   "cell_type": "code",
   "execution_count": 18,
   "metadata": {},
   "outputs": [
    {
     "data": {
      "text/plain": [
       "<Axes: xlabel='duration'>"
      ]
     },
     "execution_count": 18,
     "metadata": {},
     "output_type": "execute_result"
    },
    {
     "data": {
      "image/png": "[encoded data removed]",
      "text/plain": [
       "<Figure size 640x480 with 1 Axes>"
      ]
     },
     "metadata": {},
     "output_type": "display_data"
    }
   ],
   "source": [
    "# plot boxplot for duration distribution to identify any outliers\n",
    "sns.boxplot(df, x='duration')"
   ]
  },
  {
   "cell_type": "markdown",
   "metadata": {},
   "source": [
    "The boxplot for duration confirms the existence of outliers in the duration column. These outliers will be removed using the Inter-Quartile Range method."
   ]
  },
  {
   "cell_type": "code",
   "execution_count": 20,
   "metadata": {},
   "outputs": [],
   "source": [
    "# get 3rd quartile\n",
    "q3 = df['duration'].quantile(.75)\n",
    "# get 1st quartile\n",
    "q1 = df['duration'].quantile(.25)\n",
    "# get iqr\n",
    "iqr = q3 - q1\n",
    "# upper threshold for outliers\n",
    "upper = q3 + (1.5 * iqr)\n",
    "# lower threshold for outliers\n",
    "lower = q1 - (1.5 * iqr)\n",
    "# filter dataframe to exclude outliers\n",
    "df = df[(df['duration'] > lower) & (df['duration'] < upper)]"
   ]
  },
  {
   "cell_type": "code",
   "execution_count": 21,
   "metadata": {},
   "outputs": [
    {
     "data": {
      "text/plain": [
       "<Axes: xlabel='duration'>"
      ]
     },
     "execution_count": 21,
     "metadata": {},
     "output_type": "execute_result"
    },
    {
     "data": {
      "image/png": "[encoded data removed]",
      "text/plain": [
       "<Figure size 640x480 with 1 Axes>"
      ]
     },
     "metadata": {},
     "output_type": "display_data"
    }
   ],
   "source": [
    "# replot boxplot of duration\n",
    "sns.boxplot(df, x='duration')"
   ]
  },
  {
   "cell_type": "code",
   "execution_count": 22,
   "metadata": {},
   "outputs": [
    {
     "name": "stderr",
     "output_type": "stream",
     "text": [
      "c:\\Users\\BEACON POWER SERVICE\\anaconda3\\envs\\myenv\\Lib\\site-packages\\seaborn\\_oldcore.py:1119: FutureWarning: use_inf_as_na option is deprecated and will be removed in a future version. Convert inf values to NaN before operating instead.\n",
      "  with pd.option_context('mode.use_inf_as_na', True):\n",
      "c:\\Users\\BEACON POWER SERVICE\\anaconda3\\envs\\myenv\\Lib\\site-packages\\seaborn\\_oldcore.py:1119: FutureWarning: use_inf_as_na option is deprecated and will be removed in a future version. Convert inf values to NaN before operating instead.\n",
      "  with pd.option_context('mode.use_inf_as_na', True):\n"
     ]
    },
    {
     "data": {
      "image/png": "[encoded data removed]",
      "text/plain": [
       "<Figure size 600x300 with 2 Axes>"
      ]
     },
     "metadata": {},
     "output_type": "display_data"
    }
   ],
   "source": [
    "# plot histogram facetgrid for duration by subscription outcome\n",
    "plot_facetgrid('duration', 'histogram')"
   ]
  },
  {
   "cell_type": "markdown",
   "metadata": {},
   "source": [
    "The no subscription group seems to have a higher concentration of shorter durations, while the subscription group shows a slightly more evenly distributed range of durations."
   ]
  },
  {
   "cell_type": "code",
   "execution_count": 23,
   "metadata": {},
   "outputs": [
    {
     "data": {
      "application/vnd.microsoft.datawrangler.viewer.v0+json": {
       "columns": [
        {
         "name": "campaign",
         "rawType": "int64",
         "type": "integer"
        },
        {
         "name": "count",
         "rawType": "int64",
         "type": "integer"
        }
       ],
       "ref": "b3b97b9b-89c0-4c6e-abd4-83017629d8e4",
       "rows": [
        [
         "1",
         "16483"
        ],
        [
         "2",
         "9711"
        ],
        [
         "3",
         "4923"
        ],
        [
         "4",
         "2441"
        ],
        [
         "5",
         "1495"
        ],
        [
         "6",
         "910"
        ],
        [
         "7",
         "585"
        ],
        [
         "8",
         "379"
        ],
        [
         "9",
         "264"
        ],
        [
         "10",
         "205"
        ],
        [
         "11",
         "165"
        ],
        [
         "12",
         "117"
        ],
        [
         "13",
         "85"
        ],
        [
         "14",
         "67"
        ],
        [
         "17",
         "54"
        ],
        [
         "16",
         "51"
        ],
        [
         "15",
         "49"
        ],
        [
         "18",
         "32"
        ],
        [
         "20",
         "30"
        ],
        [
         "19",
         "25"
        ],
        [
         "21",
         "24"
        ],
        [
         "22",
         "17"
        ],
        [
         "23",
         "15"
        ],
        [
         "24",
         "15"
        ],
        [
         "27",
         "11"
        ],
        [
         "29",
         "10"
        ],
        [
         "28",
         "8"
        ],
        [
         "25",
         "8"
        ],
        [
         "30",
         "7"
        ],
        [
         "31",
         "7"
        ],
        [
         "26",
         "6"
        ],
        [
         "35",
         "5"
        ],
        [
         "33",
         "4"
        ],
        [
         "32",
         "4"
        ],
        [
         "34",
         "3"
        ],
        [
         "42",
         "2"
        ],
        [
         "40",
         "2"
        ],
        [
         "43",
         "2"
        ],
        [
         "39",
         "1"
        ],
        [
         "41",
         "1"
        ],
        [
         "37",
         "1"
        ],
        [
         "56",
         "1"
        ]
       ],
       "shape": {
        "columns": 1,
        "rows": 42
       }
      },
      "text/plain": [
       "campaign\n",
       "1     16483\n",
       "2      9711\n",
       "3      4923\n",
       "4      2441\n",
       "5      1495\n",
       "6       910\n",
       "7       585\n",
       "8       379\n",
       "9       264\n",
       "10      205\n",
       "11      165\n",
       "12      117\n",
       "13       85\n",
       "14       67\n",
       "17       54\n",
       "16       51\n",
       "15       49\n",
       "18       32\n",
       "20       30\n",
       "19       25\n",
       "21       24\n",
       "22       17\n",
       "23       15\n",
       "24       15\n",
       "27       11\n",
       "29       10\n",
       "28        8\n",
       "25        8\n",
       "30        7\n",
       "31        7\n",
       "26        6\n",
       "35        5\n",
       "33        4\n",
       "32        4\n",
       "34        3\n",
       "42        2\n",
       "40        2\n",
       "43        2\n",
       "39        1\n",
       "41        1\n",
       "37        1\n",
       "56        1\n",
       "Name: count, dtype: int64"
      ]
     },
     "execution_count": 23,
     "metadata": {},
     "output_type": "execute_result"
    }
   ],
   "source": [
    "# distributiom of campaign column\n",
    "df['campaign'].value_counts()"
   ]
  },
  {
   "cell_type": "code",
   "execution_count": 25,
   "metadata": {},
   "outputs": [
    {
     "data": {
      "text/plain": [
       "<Axes: xlabel='campaign'>"
      ]
     },
     "execution_count": 25,
     "metadata": {},
     "output_type": "execute_result"
    },
    {
     "data": {
      "image/png": "[encoded data removed]",
      "text/plain": [
       "<Figure size 640x480 with 1 Axes>"
      ]
     },
     "metadata": {},
     "output_type": "display_data"
    }
   ],
   "source": [
    "# plot boxplot of campaign column\n",
    "sns.boxplot(df, x='campaign')"
   ]
  },
  {
   "cell_type": "markdown",
   "metadata": {},
   "source": [
    "The boxplot for the `campaign` column confirms the existence of outliers. The IQR method will be used to clean these outliers from the data."
   ]
  },
  {
   "cell_type": "code",
   "execution_count": 26,
   "metadata": {},
   "outputs": [],
   "source": [
    "# get third quartile\n",
    "q3 = df['campaign'].quantile(.75)\n",
    "# get 1st quartile\n",
    "q1 = df['campaign'].quantile(.25)\n",
    "# calculate iqr\n",
    "iqr = q3 - q1\n",
    "# calculate upper and lower thresholds for outliers\n",
    "upper = q3 + (1.5 * iqr)\n",
    "lower = q1 - (1.5 * iqr)\n",
    "# filter data to exclude outliers\n",
    "df = df[(df['campaign'] > lower) & (df['campaign'] < upper)]"
   ]
  },
  {
   "cell_type": "code",
   "execution_count": 27,
   "metadata": {},
   "outputs": [
    {
     "data": {
      "text/plain": [
       "<Axes: xlabel='campaign'>"
      ]
     },
     "execution_count": 27,
     "metadata": {},
     "output_type": "execute_result"
    },
    {
     "data": {
      "image/png": "[encoded data removed]",
      "text/plain": [
       "<Figure size 640x480 with 1 Axes>"
      ]
     },
     "metadata": {},
     "output_type": "display_data"
    }
   ],
   "source": [
    "# replot boxplot\n",
    "sns.boxplot(df, x='campaign')"
   ]
  },
  {
   "cell_type": "code",
   "execution_count": 28,
   "metadata": {},
   "outputs": [
    {
     "name": "stderr",
     "output_type": "stream",
     "text": [
      "c:\\Users\\BEACON POWER SERVICE\\anaconda3\\envs\\myenv\\Lib\\site-packages\\seaborn\\_oldcore.py:1119: FutureWarning: use_inf_as_na option is deprecated and will be removed in a future version. Convert inf values to NaN before operating instead.\n",
      "  with pd.option_context('mode.use_inf_as_na', True):\n",
      "c:\\Users\\BEACON POWER SERVICE\\anaconda3\\envs\\myenv\\Lib\\site-packages\\seaborn\\_oldcore.py:1119: FutureWarning: use_inf_as_na option is deprecated and will be removed in a future version. Convert inf values to NaN before operating instead.\n",
      "  with pd.option_context('mode.use_inf_as_na', True):\n"
     ]
    },
    {
     "data": {
      "image/png": "[encoded data removed]",
      "text/plain": [
       "<Figure size 600x300 with 2 Axes>"
      ]
     },
     "metadata": {},
     "output_type": "display_data"
    }
   ],
   "source": [
    "# facetgrid of histogram for campaign by subscription outcome\n",
    "plot_facetgrid('campaign', 'histogram')"
   ]
  },
  {
   "cell_type": "markdown",
   "metadata": {},
   "source": [
    "The distribution suggests that in both the non-subscription group (y=no) and the subscription group (y = yes), most individuals have participated in few or no campaigns. However, the subscription group has slightly more variation with a few higher values."
   ]
  },
  {
   "cell_type": "code",
   "execution_count": 29,
   "metadata": {},
   "outputs": [
    {
     "data": {
      "application/vnd.microsoft.datawrangler.viewer.v0+json": {
       "columns": [
        {
         "name": "pdays",
         "rawType": "int64",
         "type": "integer"
        },
        {
         "name": "count",
         "rawType": "int64",
         "type": "integer"
        }
       ],
       "ref": "64e9fcf9-dfd1-455c-a7ee-f5dda22ef206",
       "rows": [
        [
         "999",
         "33714"
        ],
        [
         "3",
         "397"
        ],
        [
         "6",
         "361"
        ],
        [
         "4",
         "111"
        ],
        [
         "9",
         "58"
        ],
        [
         "7",
         "52"
        ],
        [
         "2",
         "51"
        ],
        [
         "12",
         "50"
        ],
        [
         "10",
         "45"
        ],
        [
         "5",
         "38"
        ],
        [
         "13",
         "30"
        ],
        [
         "1",
         "23"
        ],
        [
         "11",
         "22"
        ],
        [
         "15",
         "22"
        ],
        [
         "14",
         "17"
        ],
        [
         "8",
         "15"
        ],
        [
         "0",
         "13"
        ],
        [
         "16",
         "10"
        ],
        [
         "17",
         "8"
        ],
        [
         "18",
         "6"
        ],
        [
         "22",
         "3"
        ],
        [
         "21",
         "2"
        ],
        [
         "25",
         "1"
        ],
        [
         "26",
         "1"
        ],
        [
         "27",
         "1"
        ],
        [
         "20",
         "1"
        ],
        [
         "19",
         "1"
        ]
       ],
       "shape": {
        "columns": 1,
        "rows": 27
       }
      },
      "text/plain": [
       "pdays\n",
       "999    33714\n",
       "3        397\n",
       "6        361\n",
       "4        111\n",
       "9         58\n",
       "7         52\n",
       "2         51\n",
       "12        50\n",
       "10        45\n",
       "5         38\n",
       "13        30\n",
       "1         23\n",
       "11        22\n",
       "15        22\n",
       "14        17\n",
       "8         15\n",
       "0         13\n",
       "16        10\n",
       "17         8\n",
       "18         6\n",
       "22         3\n",
       "21         2\n",
       "25         1\n",
       "26         1\n",
       "27         1\n",
       "20         1\n",
       "19         1\n",
       "Name: count, dtype: int64"
      ]
     },
     "execution_count": 29,
     "metadata": {},
     "output_type": "execute_result"
    }
   ],
   "source": [
    "# distribution of pdays\n",
    "df['pdays'].value_counts()"
   ]
  },
  {
   "cell_type": "code",
   "execution_count": 30,
   "metadata": {},
   "outputs": [
    {
     "name": "stderr",
     "output_type": "stream",
     "text": [
      "c:\\Users\\BEACON POWER SERVICE\\anaconda3\\envs\\myenv\\Lib\\site-packages\\seaborn\\_oldcore.py:1119: FutureWarning: use_inf_as_na option is deprecated and will be removed in a future version. Convert inf values to NaN before operating instead.\n",
      "  with pd.option_context('mode.use_inf_as_na', True):\n"
     ]
    },
    {
     "data": {
      "image/png": "[encoded data removed]",
      "text/plain": [
       "<Figure size 600x400 with 1 Axes>"
      ]
     },
     "metadata": {},
     "output_type": "display_data"
    }
   ],
   "source": [
    "# plot histogram\n",
    "plot_histogram('pdays')"
   ]
  },
  {
   "cell_type": "markdown",
   "metadata": {},
   "source": [
    "Majority of the client were contacted after 999 days. However, research on the data shows that 999 means the client has not been previously contacted."
   ]
  },
  {
   "cell_type": "code",
   "execution_count": 31,
   "metadata": {},
   "outputs": [
    {
     "name": "stderr",
     "output_type": "stream",
     "text": [
      "c:\\Users\\BEACON POWER SERVICE\\anaconda3\\envs\\myenv\\Lib\\site-packages\\seaborn\\_oldcore.py:1119: FutureWarning: use_inf_as_na option is deprecated and will be removed in a future version. Convert inf values to NaN before operating instead.\n",
      "  with pd.option_context('mode.use_inf_as_na', True):\n",
      "c:\\Users\\BEACON POWER SERVICE\\anaconda3\\envs\\myenv\\Lib\\site-packages\\seaborn\\_oldcore.py:1119: FutureWarning: use_inf_as_na option is deprecated and will be removed in a future version. Convert inf values to NaN before operating instead.\n",
      "  with pd.option_context('mode.use_inf_as_na', True):\n"
     ]
    },
    {
     "data": {
      "image/png": "[encoded data removed]",
      "text/plain": [
       "<Figure size 600x300 with 2 Axes>"
      ]
     },
     "metadata": {},
     "output_type": "display_data"
    }
   ],
   "source": [
    "# histograms of pdays by sibscription outcome\n",
    "plot_facetgrid('pdays', 'histogram')"
   ]
  },
  {
   "cell_type": "markdown",
   "metadata": {},
   "source": [
    "For the \"no\" group, most individuals seem to have not been contacted previously, as indicated by the overwhelming number of 1000 values.\n",
    "For the \"yes\" group, there is some variation, with a few having recent contact (0 days), while others still have the value of 1000, indicating no prior contact."
   ]
  },
  {
   "cell_type": "code",
   "execution_count": 32,
   "metadata": {},
   "outputs": [
    {
     "data": {
      "application/vnd.microsoft.datawrangler.viewer.v0+json": {
       "columns": [
        {
         "name": "previous",
         "rawType": "int64",
         "type": "integer"
        },
        {
         "name": "count",
         "rawType": "int64",
         "type": "integer"
        }
       ],
       "ref": "cdb144d3-fd91-474d-99a0-f682c46acfd4",
       "rows": [
        [
         "0",
         "30010"
        ],
        [
         "1",
         "4096"
        ],
        [
         "2",
         "670"
        ],
        [
         "3",
         "192"
        ],
        [
         "4",
         "63"
        ],
        [
         "5",
         "16"
        ],
        [
         "6",
         "5"
        ],
        [
         "7",
         "1"
        ]
       ],
       "shape": {
        "columns": 1,
        "rows": 8
       }
      },
      "text/plain": [
       "previous\n",
       "0    30010\n",
       "1     4096\n",
       "2      670\n",
       "3      192\n",
       "4       63\n",
       "5       16\n",
       "6        5\n",
       "7        1\n",
       "Name: count, dtype: int64"
      ]
     },
     "execution_count": 32,
     "metadata": {},
     "output_type": "execute_result"
    }
   ],
   "source": [
    "# get distribution\n",
    "df['previous'].value_counts()"
   ]
  },
  {
   "cell_type": "code",
   "execution_count": 33,
   "metadata": {},
   "outputs": [
    {
     "data": {
      "image/png": "[encoded data removed]",
      "text/plain": [
       "<Figure size 640x480 with 1 Axes>"
      ]
     },
     "metadata": {},
     "output_type": "display_data"
    }
   ],
   "source": [
    "# plot countplot of Distribution\n",
    "plot_countplot('previous')"
   ]
  },
  {
   "cell_type": "markdown",
   "metadata": {},
   "source": [
    "The vast majority of observations have a \"previous\" value of 0, indicating that the majority of individuals have had no prior contact before the current campaign."
   ]
  },
  {
   "cell_type": "code",
   "execution_count": 34,
   "metadata": {},
   "outputs": [
    {
     "name": "stderr",
     "output_type": "stream",
     "text": [
      "c:\\Users\\BEACON POWER SERVICE\\anaconda3\\envs\\myenv\\Lib\\site-packages\\seaborn\\axisgrid.py:712: UserWarning: Using the countplot function without specifying `order` is likely to produce an incorrect plot.\n",
      "  warnings.warn(warning)\n"
     ]
    },
    {
     "data": {
      "image/png": "[encoded data removed]",
      "text/plain": [
       "<Figure size 600x300 with 2 Axes>"
      ]
     },
     "metadata": {},
     "output_type": "display_data"
    }
   ],
   "source": [
    "# plot countplot facetgird\n",
    "plot_facetgrid('previous', 'countplot')"
   ]
  },
  {
   "cell_type": "markdown",
   "metadata": {},
   "source": [
    "For both groups, majority of clients have not contacted before, while a few have been contacted 1-3 times."
   ]
  },
  {
   "cell_type": "code",
   "execution_count": 35,
   "metadata": {},
   "outputs": [
    {
     "data": {
      "application/vnd.microsoft.datawrangler.viewer.v0+json": {
       "columns": [
        {
         "name": "emp.var.rate",
         "rawType": "float64",
         "type": "float"
        },
        {
         "name": "count",
         "rawType": "int64",
         "type": "integer"
        }
       ],
       "ref": "f05f2954-cf21-4d12-a43b-c8bc97bfc482",
       "rows": [
        [
         "1.4",
         "13125"
        ],
        [
         "-1.8",
         "7985"
        ],
        [
         "1.1",
         "6708"
        ],
        [
         "-0.1",
         "3310"
        ],
        [
         "-2.9",
         "1547"
        ],
        [
         "-3.4",
         "980"
        ],
        [
         "-1.7",
         "680"
        ],
        [
         "-1.1",
         "565"
        ],
        [
         "-3.0",
         "143"
        ],
        [
         "-0.2",
         "10"
        ]
       ],
       "shape": {
        "columns": 1,
        "rows": 10
       }
      },
      "text/plain": [
       "emp.var.rate\n",
       " 1.4    13125\n",
       "-1.8     7985\n",
       " 1.1     6708\n",
       "-0.1     3310\n",
       "-2.9     1547\n",
       "-3.4      980\n",
       "-1.7      680\n",
       "-1.1      565\n",
       "-3.0      143\n",
       "-0.2       10\n",
       "Name: count, dtype: int64"
      ]
     },
     "execution_count": 35,
     "metadata": {},
     "output_type": "execute_result"
    }
   ],
   "source": [
    "# get distribution\n",
    "df['emp.var.rate'].value_counts()"
   ]
  },
  {
   "cell_type": "code",
   "execution_count": 36,
   "metadata": {},
   "outputs": [
    {
     "data": {
      "image/png": "[encoded data removed]",
      "text/plain": [
       "<Figure size 640x480 with 1 Axes>"
      ]
     },
     "metadata": {},
     "output_type": "display_data"
    }
   ],
   "source": [
    "# plot distribution on countplot\n",
    "plot_countplot('emp.var.rate')"
   ]
  },
  {
   "cell_type": "markdown",
   "metadata": {},
   "source": [
    "Most of the clients contacted have an employment variation rate value of 1.4"
   ]
  },
  {
   "cell_type": "code",
   "execution_count": 37,
   "metadata": {},
   "outputs": [
    {
     "name": "stderr",
     "output_type": "stream",
     "text": [
      "c:\\Users\\BEACON POWER SERVICE\\anaconda3\\envs\\myenv\\Lib\\site-packages\\seaborn\\axisgrid.py:712: UserWarning: Using the countplot function without specifying `order` is likely to produce an incorrect plot.\n",
      "  warnings.warn(warning)\n"
     ]
    },
    {
     "data": {
      "image/png": "[encoded data removed]",
      "text/plain": [
       "<Figure size 600x300 with 2 Axes>"
      ]
     },
     "metadata": {},
     "output_type": "display_data"
    }
   ],
   "source": [
    "# facetgrid of countplots for emp var rate by subscription outcome\n",
    "plot_facetgrid('emp.var.rate', 'countplot')"
   ]
  },
  {
   "cell_type": "markdown",
   "metadata": {},
   "source": [
    "For the subscription group, majority of clients had a negative employment variation rate of -1.8."
   ]
  },
  {
   "cell_type": "code",
   "execution_count": 38,
   "metadata": {},
   "outputs": [
    {
     "data": {
      "application/vnd.microsoft.datawrangler.viewer.v0+json": {
       "columns": [
        {
         "name": "cons.price.idx",
         "rawType": "float64",
         "type": "float"
        },
        {
         "name": "count",
         "rawType": "int64",
         "type": "integer"
        }
       ],
       "ref": "994e8068-0c1f-4135-8e0c-17ca12808ad5",
       "rows": [
        [
         "93.994",
         "6708"
        ],
        [
         "93.918",
         "5282"
        ],
        [
         "92.893",
         "4966"
        ],
        [
         "93.444",
         "4334"
        ],
        [
         "94.465",
         "3509"
        ],
        [
         "93.2",
         "3249"
        ],
        [
         "93.075",
         "2182"
        ],
        [
         "92.201",
         "724"
        ],
        [
         "92.963",
         "668"
        ],
        [
         "92.431",
         "410"
        ],
        [
         "92.649",
         "329"
        ],
        [
         "94.215",
         "269"
        ],
        [
         "94.199",
         "262"
        ],
        [
         "92.843",
         "252"
        ],
        [
         "93.369",
         "244"
        ],
        [
         "92.379",
         "241"
        ],
        [
         "94.027",
         "208"
        ],
        [
         "94.055",
         "203"
        ],
        [
         "93.876",
         "189"
        ],
        [
         "94.601",
         "187"
        ],
        [
         "92.469",
         "155"
        ],
        [
         "93.749",
         "152"
        ],
        [
         "92.713",
         "143"
        ],
        [
         "94.767",
         "116"
        ],
        [
         "93.798",
         "61"
        ],
        [
         "92.756",
         "10"
        ]
       ],
       "shape": {
        "columns": 1,
        "rows": 26
       }
      },
      "text/plain": [
       "cons.price.idx\n",
       "93.994    6708\n",
       "93.918    5282\n",
       "92.893    4966\n",
       "93.444    4334\n",
       "94.465    3509\n",
       "93.200    3249\n",
       "93.075    2182\n",
       "92.201     724\n",
       "92.963     668\n",
       "92.431     410\n",
       "92.649     329\n",
       "94.215     269\n",
       "94.199     262\n",
       "92.843     252\n",
       "93.369     244\n",
       "92.379     241\n",
       "94.027     208\n",
       "94.055     203\n",
       "93.876     189\n",
       "94.601     187\n",
       "92.469     155\n",
       "93.749     152\n",
       "92.713     143\n",
       "94.767     116\n",
       "93.798      61\n",
       "92.756      10\n",
       "Name: count, dtype: int64"
      ]
     },
     "execution_count": 38,
     "metadata": {},
     "output_type": "execute_result"
    }
   ],
   "source": [
    "# get distribution of consumer price index\n",
    "df['cons.price.idx'].value_counts()"
   ]
  },
  {
   "cell_type": "code",
   "execution_count": 39,
   "metadata": {},
   "outputs": [
    {
     "name": "stderr",
     "output_type": "stream",
     "text": [
      "c:\\Users\\BEACON POWER SERVICE\\anaconda3\\envs\\myenv\\Lib\\site-packages\\seaborn\\_oldcore.py:1119: FutureWarning: use_inf_as_na option is deprecated and will be removed in a future version. Convert inf values to NaN before operating instead.\n",
      "  with pd.option_context('mode.use_inf_as_na', True):\n"
     ]
    },
    {
     "data": {
      "image/png": "[encoded data removed]",
      "text/plain": [
       "<Figure size 600x400 with 1 Axes>"
      ]
     },
     "metadata": {},
     "output_type": "display_data"
    }
   ],
   "source": [
    "# plot histogram of consumer price index\n",
    "plot_histogram('cons.price.idx')"
   ]
  },
  {
   "cell_type": "markdown",
   "metadata": {},
   "source": [
    "Majority of clients had a consumer price index of 94."
   ]
  },
  {
   "cell_type": "code",
   "execution_count": 40,
   "metadata": {},
   "outputs": [
    {
     "data": {
      "application/vnd.microsoft.datawrangler.viewer.v0+json": {
       "columns": [
        {
         "name": "cons.conf.idx",
         "rawType": "float64",
         "type": "float"
        },
        {
         "name": "count",
         "rawType": "int64",
         "type": "integer"
        }
       ],
       "ref": "0e34ed86-81e9-48a1-aedd-a19e75a129df",
       "rows": [
        [
         "-36.4",
         "6708"
        ],
        [
         "-42.7",
         "5282"
        ],
        [
         "-46.2",
         "4966"
        ],
        [
         "-36.1",
         "4334"
        ],
        [
         "-41.8",
         "3509"
        ],
        [
         "-42.0",
         "3249"
        ],
        [
         "-47.1",
         "2182"
        ],
        [
         "-31.4",
         "724"
        ],
        [
         "-40.8",
         "668"
        ],
        [
         "-26.9",
         "410"
        ],
        [
         "-30.1",
         "329"
        ],
        [
         "-40.3",
         "269"
        ],
        [
         "-37.5",
         "262"
        ],
        [
         "-50.0",
         "252"
        ],
        [
         "-34.8",
         "244"
        ],
        [
         "-29.8",
         "241"
        ],
        [
         "-38.3",
         "208"
        ],
        [
         "-39.8",
         "203"
        ],
        [
         "-40.0",
         "189"
        ],
        [
         "-49.5",
         "187"
        ],
        [
         "-33.6",
         "155"
        ],
        [
         "-34.6",
         "152"
        ],
        [
         "-33.0",
         "143"
        ],
        [
         "-50.8",
         "116"
        ],
        [
         "-40.4",
         "61"
        ],
        [
         "-45.9",
         "10"
        ]
       ],
       "shape": {
        "columns": 1,
        "rows": 26
       }
      },
      "text/plain": [
       "cons.conf.idx\n",
       "-36.4    6708\n",
       "-42.7    5282\n",
       "-46.2    4966\n",
       "-36.1    4334\n",
       "-41.8    3509\n",
       "-42.0    3249\n",
       "-47.1    2182\n",
       "-31.4     724\n",
       "-40.8     668\n",
       "-26.9     410\n",
       "-30.1     329\n",
       "-40.3     269\n",
       "-37.5     262\n",
       "-50.0     252\n",
       "-34.8     244\n",
       "-29.8     241\n",
       "-38.3     208\n",
       "-39.8     203\n",
       "-40.0     189\n",
       "-49.5     187\n",
       "-33.6     155\n",
       "-34.6     152\n",
       "-33.0     143\n",
       "-50.8     116\n",
       "-40.4      61\n",
       "-45.9      10\n",
       "Name: count, dtype: int64"
      ]
     },
     "execution_count": 40,
     "metadata": {},
     "output_type": "execute_result"
    }
   ],
   "source": [
    "# distribution of consumer confidence index\n",
    "df['cons.conf.idx'].value_counts()"
   ]
  },
  {
   "cell_type": "code",
   "execution_count": 41,
   "metadata": {},
   "outputs": [
    {
     "name": "stderr",
     "output_type": "stream",
     "text": [
      "c:\\Users\\BEACON POWER SERVICE\\anaconda3\\envs\\myenv\\Lib\\site-packages\\seaborn\\_oldcore.py:1119: FutureWarning: use_inf_as_na option is deprecated and will be removed in a future version. Convert inf values to NaN before operating instead.\n",
      "  with pd.option_context('mode.use_inf_as_na', True):\n"
     ]
    },
    {
     "data": {
      "image/png": "[encoded data removed]",
      "text/plain": [
       "<Figure size 600x400 with 1 Axes>"
      ]
     },
     "metadata": {},
     "output_type": "display_data"
    }
   ],
   "source": [
    "# plot distribution\n",
    "plot_histogram('cons.conf.idx')"
   ]
  },
  {
   "cell_type": "code",
   "execution_count": 35,
   "metadata": {},
   "outputs": [
    {
     "data": {
      "image/png": "[encoded data removed]",
      "text/plain": [
       "<Figure size 600x300 with 2 Axes>"
      ]
     },
     "metadata": {},
     "output_type": "display_data"
    }
   ],
   "source": [
    "plot_facetgrid('cons.conf.idx', 'histogram')"
   ]
  },
  {
   "cell_type": "code",
   "execution_count": 42,
   "metadata": {},
   "outputs": [
    {
     "data": {
      "application/vnd.microsoft.datawrangler.viewer.v0+json": {
       "columns": [
        {
         "name": "euribor3m",
         "rawType": "float64",
         "type": "float"
        },
        {
         "name": "count",
         "rawType": "int64",
         "type": "integer"
        }
       ],
       "ref": "f262d4a3-2def-4586-8961-208f0edb4310",
       "rows": [
        [
         "4.857",
         "2554"
        ],
        [
         "4.963",
         "2044"
        ],
        [
         "4.962",
         "2038"
        ],
        [
         "4.961",
         "1522"
        ],
        [
         "4.856",
         "1050"
        ],
        [
         "1.405",
         "1049"
        ],
        [
         "4.964",
         "985"
        ],
        [
         "4.965",
         "893"
        ],
        [
         "4.864",
         "826"
        ],
        [
         "4.96",
         "822"
        ],
        [
         "4.855",
         "773"
        ],
        [
         "4.968",
         "770"
        ],
        [
         "4.86",
         "728"
        ],
        [
         "4.076",
         "718"
        ],
        [
         "1.266",
         "692"
        ],
        [
         "4.12",
         "677"
        ],
        [
         "4.153",
         "652"
        ],
        [
         "4.859",
         "651"
        ],
        [
         "4.959",
         "643"
        ],
        [
         "4.858",
         "605"
        ],
        [
         "4.191",
         "574"
        ],
        [
         "4.021",
         "569"
        ],
        [
         "4.967",
         "567"
        ],
        [
         "4.966",
         "548"
        ],
        [
         "1.281",
         "547"
        ],
        [
         "1.327",
         "483"
        ],
        [
         "4.958",
         "468"
        ],
        [
         "1.299",
         "462"
        ],
        [
         "1.291",
         "460"
        ],
        [
         "1.25",
         "445"
        ],
        [
         "1.313",
         "442"
        ],
        [
         "1.334",
         "437"
        ],
        [
         "4.957",
         "411"
        ],
        [
         "1.344",
         "346"
        ],
        [
         "1.244",
         "341"
        ],
        [
         "4.865",
         "307"
        ],
        [
         "4.866",
         "289"
        ],
        [
         "1.365",
         "266"
        ],
        [
         "1.26",
         "238"
        ],
        [
         "1.41",
         "219"
        ],
        [
         "1.354",
         "180"
        ],
        [
         "0.879",
         "163"
        ],
        [
         "4.97",
         "160"
        ],
        [
         "1.262",
         "136"
        ],
        [
         "0.715",
         "124"
        ],
        [
         "0.714",
         "123"
        ],
        [
         "0.884",
         "116"
        ],
        [
         "0.883",
         "110"
        ],
        [
         "1.27",
         "102"
        ],
        [
         "1.445",
         "90"
        ]
       ],
       "shape": {
        "columns": 1,
        "rows": 314
       }
      },
      "text/plain": [
       "euribor3m\n",
       "4.857    2554\n",
       "4.963    2044\n",
       "4.962    2038\n",
       "4.961    1522\n",
       "4.856    1050\n",
       "         ... \n",
       "0.956       1\n",
       "1.574       1\n",
       "3.853       1\n",
       "3.901       1\n",
       "0.749       1\n",
       "Name: count, Length: 314, dtype: int64"
      ]
     },
     "execution_count": 42,
     "metadata": {},
     "output_type": "execute_result"
    }
   ],
   "source": [
    "# get distribution\n",
    "df['euribor3m'].value_counts()"
   ]
  },
  {
   "cell_type": "code",
   "execution_count": 43,
   "metadata": {},
   "outputs": [
    {
     "name": "stderr",
     "output_type": "stream",
     "text": [
      "c:\\Users\\BEACON POWER SERVICE\\anaconda3\\envs\\myenv\\Lib\\site-packages\\seaborn\\_oldcore.py:1119: FutureWarning: use_inf_as_na option is deprecated and will be removed in a future version. Convert inf values to NaN before operating instead.\n",
      "  with pd.option_context('mode.use_inf_as_na', True):\n"
     ]
    },
    {
     "data": {
      "image/png": "[encoded data removed]",
      "text/plain": [
       "<Figure size 600x400 with 1 Axes>"
      ]
     },
     "metadata": {},
     "output_type": "display_data"
    }
   ],
   "source": [
    "# plot distribution\n",
    "plot_histogram('euribor3m')"
   ]
  },
  {
   "cell_type": "code",
   "execution_count": 38,
   "metadata": {},
   "outputs": [
    {
     "data": {
      "image/png": "[encoded data removed]",
      "text/plain": [
       "<Figure size 600x300 with 2 Axes>"
      ]
     },
     "metadata": {},
     "output_type": "display_data"
    }
   ],
   "source": [
    "plot_facetgrid('euribor3m', 'histogram')"
   ]
  },
  {
   "cell_type": "code",
   "execution_count": 44,
   "metadata": {},
   "outputs": [
    {
     "data": {
      "application/vnd.microsoft.datawrangler.viewer.v0+json": {
       "columns": [
        {
         "name": "nr.employed",
         "rawType": "float64",
         "type": "float"
        },
        {
         "name": "count",
         "rawType": "int64",
         "type": "integer"
        }
       ],
       "ref": "ca019093-18fa-4ebf-835e-a06f7ba3effd",
       "rows": [
        [
         "5228.1",
         "13125"
        ],
        [
         "5099.1",
         "7400"
        ],
        [
         "5191.0",
         "6708"
        ],
        [
         "5195.8",
         "3310"
        ],
        [
         "5076.2",
         "1547"
        ],
        [
         "5017.5",
         "980"
        ],
        [
         "4991.6",
         "680"
        ],
        [
         "5008.7",
         "585"
        ],
        [
         "4963.6",
         "565"
        ],
        [
         "5023.5",
         "143"
        ],
        [
         "5176.3",
         "10"
        ]
       ],
       "shape": {
        "columns": 1,
        "rows": 11
       }
      },
      "text/plain": [
       "nr.employed\n",
       "5228.1    13125\n",
       "5099.1     7400\n",
       "5191.0     6708\n",
       "5195.8     3310\n",
       "5076.2     1547\n",
       "5017.5      980\n",
       "4991.6      680\n",
       "5008.7      585\n",
       "4963.6      565\n",
       "5023.5      143\n",
       "5176.3       10\n",
       "Name: count, dtype: int64"
      ]
     },
     "execution_count": 44,
     "metadata": {},
     "output_type": "execute_result"
    }
   ],
   "source": [
    "# distribution of number of employees\n",
    "df['nr.employed'].value_counts()"
   ]
  },
  {
   "cell_type": "code",
   "execution_count": 45,
   "metadata": {},
   "outputs": [
    {
     "name": "stderr",
     "output_type": "stream",
     "text": [
      "c:\\Users\\BEACON POWER SERVICE\\anaconda3\\envs\\myenv\\Lib\\site-packages\\seaborn\\_oldcore.py:1119: FutureWarning: use_inf_as_na option is deprecated and will be removed in a future version. Convert inf values to NaN before operating instead.\n",
      "  with pd.option_context('mode.use_inf_as_na', True):\n"
     ]
    },
    {
     "data": {
      "image/png": "[encoded data removed]",
      "text/plain": [
       "<Figure size 600x400 with 1 Axes>"
      ]
     },
     "metadata": {},
     "output_type": "display_data"
    }
   ],
   "source": [
    "# plot distribution\n",
    "plot_histogram('nr.employed')"
   ]
  },
  {
   "cell_type": "code",
   "execution_count": 46,
   "metadata": {},
   "outputs": [
    {
     "name": "stderr",
     "output_type": "stream",
     "text": [
      "c:\\Users\\BEACON POWER SERVICE\\anaconda3\\envs\\myenv\\Lib\\site-packages\\seaborn\\_oldcore.py:1119: FutureWarning: use_inf_as_na option is deprecated and will be removed in a future version. Convert inf values to NaN before operating instead.\n",
      "  with pd.option_context('mode.use_inf_as_na', True):\n",
      "c:\\Users\\BEACON POWER SERVICE\\anaconda3\\envs\\myenv\\Lib\\site-packages\\seaborn\\_oldcore.py:1119: FutureWarning: use_inf_as_na option is deprecated and will be removed in a future version. Convert inf values to NaN before operating instead.\n",
      "  with pd.option_context('mode.use_inf_as_na', True):\n"
     ]
    },
    {
     "data": {
      "image/png": "[encoded data removed]",
      "text/plain": [
       "<Figure size 600x300 with 2 Axes>"
      ]
     },
     "metadata": {},
     "output_type": "display_data"
    }
   ],
   "source": [
    "plot_facetgrid('nr.employed', 'histogram')"
   ]
  },
  {
   "cell_type": "code",
   "execution_count": null,
   "metadata": {},
   "outputs": [],
   "source": []
  },
  {
   "cell_type": "code",
   "execution_count": 47,
   "metadata": {},
   "outputs": [
    {
     "data": {
      "application/vnd.microsoft.datawrangler.viewer.v0+json": {
       "columns": [
        {
         "name": "job",
         "rawType": "object",
         "type": "string"
        },
        {
         "name": "count",
         "rawType": "int64",
         "type": "integer"
        }
       ],
       "ref": "ecd68563-d52c-42c5-ad2f-c01e351f9789",
       "rows": [
        [
         "admin.",
         "8864"
        ],
        [
         "blue-collar",
         "7864"
        ],
        [
         "technician",
         "5740"
        ],
        [
         "services",
         "3350"
        ],
        [
         "management",
         "2499"
        ],
        [
         "retired",
         "1488"
        ],
        [
         "entrepreneur",
         "1250"
        ],
        [
         "self-employed",
         "1197"
        ],
        [
         "housemaid",
         "894"
        ],
        [
         "unemployed",
         "866"
        ],
        [
         "student",
         "765"
        ],
        [
         "unknown",
         "276"
        ]
       ],
       "shape": {
        "columns": 1,
        "rows": 12
       }
      },
      "text/plain": [
       "job\n",
       "admin.           8864\n",
       "blue-collar      7864\n",
       "technician       5740\n",
       "services         3350\n",
       "management       2499\n",
       "retired          1488\n",
       "entrepreneur     1250\n",
       "self-employed    1197\n",
       "housemaid         894\n",
       "unemployed        866\n",
       "student           765\n",
       "unknown           276\n",
       "Name: count, dtype: int64"
      ]
     },
     "execution_count": 47,
     "metadata": {},
     "output_type": "execute_result"
    }
   ],
   "source": [
    "# get distribution of jobs\n",
    "df['job'].value_counts()"
   ]
  },
  {
   "cell_type": "code",
   "execution_count": 48,
   "metadata": {},
   "outputs": [
    {
     "data": {
      "text/plain": [
       "<Axes: ylabel='job'>"
      ]
     },
     "execution_count": 48,
     "metadata": {},
     "output_type": "execute_result"
    },
    {
     "data": {
      "image/png": "[encoded data removed]",
      "text/plain": [
       "<Figure size 640x480 with 1 Axes>"
      ]
     },
     "metadata": {},
     "output_type": "display_data"
    }
   ],
   "source": [
    "# plot horizontal bar chart of jobs\n",
    "df['job'].value_counts().plot(kind='barh')"
   ]
  },
  {
   "cell_type": "markdown",
   "metadata": {},
   "source": [
    "Majority of the clients worked as admin."
   ]
  },
  {
   "cell_type": "code",
   "execution_count": 49,
   "metadata": {},
   "outputs": [
    {
     "data": {
      "application/vnd.microsoft.datawrangler.viewer.v0+json": {
       "columns": [
        {
         "name": "job",
         "rawType": "object",
         "type": "string"
        },
        {
         "name": "no",
         "rawType": "float64",
         "type": "float"
        },
        {
         "name": "yes",
         "rawType": "float64",
         "type": "float"
        }
       ],
       "ref": "52c32c03-fb07-4bb1-9303-6e2b1f52b1b9",
       "rows": [
        [
         "admin.",
         "7916.0",
         "948.0"
        ],
        [
         "blue-collar",
         "7570.0",
         "294.0"
        ],
        [
         "entrepreneur",
         "1183.0",
         "67.0"
        ],
        [
         "housemaid",
         "820.0",
         "74.0"
        ],
        [
         "management",
         "2293.0",
         "206.0"
        ],
        [
         "retired",
         "1136.0",
         "352.0"
        ],
        [
         "self-employed",
         "1110.0",
         "87.0"
        ],
        [
         "services",
         "3180.0",
         "170.0"
        ],
        [
         "student",
         "538.0",
         "227.0"
        ],
        [
         "technician",
         "5271.0",
         "469.0"
        ],
        [
         "unemployed",
         "754.0",
         "112.0"
        ],
        [
         "unknown",
         "252.0",
         "24.0"
        ]
       ],
       "shape": {
        "columns": 2,
        "rows": 12
       }
      },
      "text/html": [
       "<div>\n",
       "<style scoped>\n",
       "    .dataframe tbody tr th:only-of-type {\n",
       "        vertical-align: middle;\n",
       "    }\n",
       "\n",
       "    .dataframe tbody tr th {\n",
       "        vertical-align: top;\n",
       "    }\n",
       "\n",
       "    .dataframe thead th {\n",
       "        text-align: right;\n",
       "    }\n",
       "</style>\n",
       "<table border=\"1\" class=\"dataframe\">\n",
       "  <thead>\n",
       "    <tr style=\"text-align: right;\">\n",
       "      <th>y</th>\n",
       "      <th>no</th>\n",
       "      <th>yes</th>\n",
       "    </tr>\n",
       "    <tr>\n",
       "      <th>job</th>\n",
       "      <th></th>\n",
       "      <th></th>\n",
       "    </tr>\n",
       "  </thead>\n",
       "  <tbody>\n",
       "    <tr>\n",
       "      <th>admin.</th>\n",
       "      <td>7916.0</td>\n",
       "      <td>948.0</td>\n",
       "    </tr>\n",
       "    <tr>\n",
       "      <th>blue-collar</th>\n",
       "      <td>7570.0</td>\n",
       "      <td>294.0</td>\n",
       "    </tr>\n",
       "    <tr>\n",
       "      <th>entrepreneur</th>\n",
       "      <td>1183.0</td>\n",
       "      <td>67.0</td>\n",
       "    </tr>\n",
       "    <tr>\n",
       "      <th>housemaid</th>\n",
       "      <td>820.0</td>\n",
       "      <td>74.0</td>\n",
       "    </tr>\n",
       "    <tr>\n",
       "      <th>management</th>\n",
       "      <td>2293.0</td>\n",
       "      <td>206.0</td>\n",
       "    </tr>\n",
       "    <tr>\n",
       "      <th>retired</th>\n",
       "      <td>1136.0</td>\n",
       "      <td>352.0</td>\n",
       "    </tr>\n",
       "    <tr>\n",
       "      <th>self-employed</th>\n",
       "      <td>1110.0</td>\n",
       "      <td>87.0</td>\n",
       "    </tr>\n",
       "    <tr>\n",
       "      <th>services</th>\n",
       "      <td>3180.0</td>\n",
       "      <td>170.0</td>\n",
       "    </tr>\n",
       "    <tr>\n",
       "      <th>student</th>\n",
       "      <td>538.0</td>\n",
       "      <td>227.0</td>\n",
       "    </tr>\n",
       "    <tr>\n",
       "      <th>technician</th>\n",
       "      <td>5271.0</td>\n",
       "      <td>469.0</td>\n",
       "    </tr>\n",
       "    <tr>\n",
       "      <th>unemployed</th>\n",
       "      <td>754.0</td>\n",
       "      <td>112.0</td>\n",
       "    </tr>\n",
       "    <tr>\n",
       "      <th>unknown</th>\n",
       "      <td>252.0</td>\n",
       "      <td>24.0</td>\n",
       "    </tr>\n",
       "  </tbody>\n",
       "</table>\n",
       "</div>"
      ],
      "text/plain": [
       "y                  no    yes\n",
       "job                         \n",
       "admin.         7916.0  948.0\n",
       "blue-collar    7570.0  294.0\n",
       "entrepreneur   1183.0   67.0\n",
       "housemaid       820.0   74.0\n",
       "management     2293.0  206.0\n",
       "retired        1136.0  352.0\n",
       "self-employed  1110.0   87.0\n",
       "services       3180.0  170.0\n",
       "student         538.0  227.0\n",
       "technician     5271.0  469.0\n",
       "unemployed      754.0  112.0\n",
       "unknown         252.0   24.0"
      ]
     },
     "execution_count": 49,
     "metadata": {},
     "output_type": "execute_result"
    }
   ],
   "source": [
    "df_job = df.groupby(['y', 'job'], as_index=False).size()\n",
    "pv_job = pd.pivot_table(df_job, values='size', columns=['y'], index='job')\n",
    "pv_job"
   ]
  },
  {
   "cell_type": "markdown",
   "metadata": {},
   "source": [
    "For both groups, majority of clients worked as admins."
   ]
  },
  {
   "cell_type": "code",
   "execution_count": 50,
   "metadata": {},
   "outputs": [
    {
     "data": {
      "application/vnd.microsoft.datawrangler.viewer.v0+json": {
       "columns": [
        {
         "name": "marital",
         "rawType": "object",
         "type": "string"
        },
        {
         "name": "count",
         "rawType": "int64",
         "type": "integer"
        }
       ],
       "ref": "0edc9aec-6529-48d8-b314-908eb7cbbb82",
       "rows": [
        [
         "married",
         "21251"
        ],
        [
         "single",
         "9830"
        ],
        [
         "divorced",
         "3913"
        ],
        [
         "unknown",
         "59"
        ]
       ],
       "shape": {
        "columns": 1,
        "rows": 4
       }
      },
      "text/plain": [
       "marital\n",
       "married     21251\n",
       "single       9830\n",
       "divorced     3913\n",
       "unknown        59\n",
       "Name: count, dtype: int64"
      ]
     },
     "execution_count": 50,
     "metadata": {},
     "output_type": "execute_result"
    }
   ],
   "source": [
    "# get value counts of marital status\n",
    "df['marital'].value_counts()"
   ]
  },
  {
   "cell_type": "code",
   "execution_count": 52,
   "metadata": {},
   "outputs": [
    {
     "name": "stdout",
     "output_type": "stream",
     "text": [
      "\n",
      "EDA for job and target variable\n",
      "y                no  yes\n",
      "job                     \n",
      "admin.         7916  948\n",
      "blue-collar    7570  294\n",
      "entrepreneur   1183   67\n",
      "housemaid       820   74\n",
      "management     2293  206\n",
      "retired        1136  352\n",
      "self-employed  1110   87\n",
      "services       3180  170\n",
      "student         538  227\n",
      "technician     5271  469\n",
      "unemployed      754  112\n",
      "unknown         252   24\n"
     ]
    },
    {
     "data": {
      "image/png": "[encoded data removed]",
      "text/plain": [
       "<Figure size 640x480 with 1 Axes>"
      ]
     },
     "metadata": {},
     "output_type": "display_data"
    },
    {
     "name": "stdout",
     "output_type": "stream",
     "text": [
      "\n",
      "EDA for marital and target variable\n",
      "y            no   yes\n",
      "marital              \n",
      "divorced   3613   300\n",
      "married   19657  1594\n",
      "single     8702  1128\n",
      "unknown      51     8\n"
     ]
    },
    {
     "data": {
      "image/png": "[encoded data removed]",
      "text/plain": [
       "<Figure size 640x480 with 1 Axes>"
      ]
     },
     "metadata": {},
     "output_type": "display_data"
    },
    {
     "name": "stdout",
     "output_type": "stream",
     "text": [
      "\n",
      "EDA for education and target variable\n",
      "y                      no   yes\n",
      "education                      \n",
      "basic.4y             3249   298\n",
      "basic.6y             1845    88\n",
      "basic.9y             4939   241\n",
      "high.school          7433   639\n",
      "illiterate             12     3\n",
      "professional.course  4071   404\n",
      "university.degree    9192  1176\n",
      "unknown              1282   181\n"
     ]
    },
    {
     "data": {
      "image/png": "[encoded data removed]",
      "text/plain": [
       "<Figure size 640x480 with 1 Axes>"
      ]
     },
     "metadata": {},
     "output_type": "display_data"
    },
    {
     "name": "stdout",
     "output_type": "stream",
     "text": [
      "\n",
      "EDA for default and target variable\n",
      "y           no   yes\n",
      "default             \n",
      "no       24983  2870\n",
      "unknown   7037   160\n",
      "yes          3     0\n"
     ]
    },
    {
     "data": {
      "image/png": "[encoded data removed]",
      "text/plain": [
       "<Figure size 640x480 with 1 Axes>"
      ]
     },
     "metadata": {},
     "output_type": "display_data"
    },
    {
     "name": "stdout",
     "output_type": "stream",
     "text": [
      "\n",
      "EDA for housing and target variable\n",
      "y           no   yes\n",
      "housing             \n",
      "no       14484  1301\n",
      "unknown    780    67\n",
      "yes      16759  1662\n"
     ]
    },
    {
     "data": {
      "image/png": "[encoded data removed]",
      "text/plain": [
       "<Figure size 640x480 with 1 Axes>"
      ]
     },
     "metadata": {},
     "output_type": "display_data"
    },
    {
     "name": "stdout",
     "output_type": "stream",
     "text": [
      "\n",
      "EDA for loan and target variable\n",
      "y           no   yes\n",
      "loan                \n",
      "no       26384  2534\n",
      "unknown    780    67\n",
      "yes       4859   429\n"
     ]
    },
    {
     "data": {
      "image/png": "[encoded data removed]",
      "text/plain": [
       "<Figure size 640x480 with 1 Axes>"
      ]
     },
     "metadata": {},
     "output_type": "display_data"
    },
    {
     "name": "stdout",
     "output_type": "stream",
     "text": [
      "\n",
      "EDA for contact and target variable\n",
      "y             no   yes\n",
      "contact               \n",
      "cellular   19789  2675\n",
      "telephone  12234   355\n"
     ]
    },
    {
     "data": {
      "image/png": "[encoded data removed]",
      "text/plain": [
       "<Figure size 640x480 with 1 Axes>"
      ]
     },
     "metadata": {},
     "output_type": "display_data"
    },
    {
     "name": "stdout",
     "output_type": "stream",
     "text": [
      "\n",
      "EDA for month and target variable\n",
      "y         no  yes\n",
      "month            \n",
      "apr     1924  410\n",
      "aug     4839  427\n",
      "dec       79   74\n",
      "jul     5404  302\n",
      "jun     4015  365\n",
      "mar      243  253\n",
      "may    11443  420\n",
      "nov     3414  280\n",
      "oct      377  281\n",
      "sep      285  218\n"
     ]
    },
    {
     "data": {
      "image/png": "[encoded data removed]",
      "text/plain": [
       "<Figure size 640x480 with 1 Axes>"
      ]
     },
     "metadata": {},
     "output_type": "display_data"
    },
    {
     "name": "stdout",
     "output_type": "stream",
     "text": [
      "\n",
      "EDA for day_of_week and target variable\n",
      "y              no  yes\n",
      "day_of_week           \n",
      "fri          6058  530\n",
      "mon          6804  554\n",
      "thu          6514  697\n",
      "tue          6334  647\n",
      "wed          6313  602\n"
     ]
    },
    {
     "data": {
      "image/png": "[encoded data removed]",
      "text/plain": [
       "<Figure size 640x480 with 1 Axes>"
      ]
     },
     "metadata": {},
     "output_type": "display_data"
    },
    {
     "name": "stdout",
     "output_type": "stream",
     "text": [
      "\n",
      "EDA for poutcome and target variable\n",
      "y               no   yes\n",
      "poutcome                \n",
      "failure       3372   451\n",
      "nonexistent  28214  1796\n",
      "success        437   783\n"
     ]
    },
    {
     "data": {
      "image/png": "[encoded data removed]",
      "text/plain": [
       "<Figure size 640x480 with 1 Axes>"
      ]
     },
     "metadata": {},
     "output_type": "display_data"
    }
   ],
   "source": [
    "# plot bar charts of categorical columns\n",
    "categorical_columns = df.select_dtypes(include=['object', 'category']).columns\n",
    "\n",
    "for col in categorical_columns:\n",
    "    if col != 'y':\n",
    "        print(f\"\\nEDA for {col} and target variable\")\n",
    "        print(pd.crosstab(df[col], df['y']))\n",
    "        pd.crosstab(df[col], df['y']).plot(kind='bar', stacked=True)\n",
    "        plt.title(f'Relationship between {col} and target variable')\n",
    "        plt.show()\n"
   ]
  },
  {
   "cell_type": "markdown",
   "metadata": {},
   "source": [
    "<a id=\"feature\"></a>\n",
    "#### Feature Engineering\n",
    "\n",
    "\n",
    "One hot encoding will be used to convert categorical values into a binary format so that it can be effectively used in the model. After encoding, Recursive Feature Limitation (RFE) will be used to determine the best predictors for the model."
   ]
  },
  {
   "cell_type": "code",
   "execution_count": 53,
   "metadata": {},
   "outputs": [
    {
     "data": {
      "application/vnd.microsoft.datawrangler.viewer.v0+json": {
       "columns": [
        {
         "name": "index",
         "rawType": "int64",
         "type": "integer"
        },
        {
         "name": "age",
         "rawType": "int64",
         "type": "integer"
        },
        {
         "name": "duration",
         "rawType": "int64",
         "type": "integer"
        },
        {
         "name": "campaign",
         "rawType": "int64",
         "type": "integer"
        },
        {
         "name": "pdays",
         "rawType": "int64",
         "type": "integer"
        },
        {
         "name": "previous",
         "rawType": "int64",
         "type": "integer"
        },
        {
         "name": "emp.var.rate",
         "rawType": "float64",
         "type": "float"
        },
        {
         "name": "cons.price.idx",
         "rawType": "float64",
         "type": "float"
        },
        {
         "name": "cons.conf.idx",
         "rawType": "float64",
         "type": "float"
        },
        {
         "name": "euribor3m",
         "rawType": "float64",
         "type": "float"
        },
        {
         "name": "nr.employed",
         "rawType": "float64",
         "type": "float"
        },
        {
         "name": "y",
         "rawType": "object",
         "type": "string"
        },
        {
         "name": "job_blue-collar",
         "rawType": "bool",
         "type": "boolean"
        },
        {
         "name": "job_entrepreneur",
         "rawType": "bool",
         "type": "boolean"
        },
        {
         "name": "job_housemaid",
         "rawType": "bool",
         "type": "boolean"
        },
        {
         "name": "job_management",
         "rawType": "bool",
         "type": "boolean"
        },
        {
         "name": "job_retired",
         "rawType": "bool",
         "type": "boolean"
        },
        {
         "name": "job_self-employed",
         "rawType": "bool",
         "type": "boolean"
        },
        {
         "name": "job_services",
         "rawType": "bool",
         "type": "boolean"
        },
        {
         "name": "job_student",
         "rawType": "bool",
         "type": "boolean"
        },
        {
         "name": "job_technician",
         "rawType": "bool",
         "type": "boolean"
        },
        {
         "name": "job_unemployed",
         "rawType": "bool",
         "type": "boolean"
        },
        {
         "name": "job_unknown",
         "rawType": "bool",
         "type": "boolean"
        },
        {
         "name": "marital_married",
         "rawType": "bool",
         "type": "boolean"
        },
        {
         "name": "marital_single",
         "rawType": "bool",
         "type": "boolean"
        },
        {
         "name": "marital_unknown",
         "rawType": "bool",
         "type": "boolean"
        },
        {
         "name": "education_basic.6y",
         "rawType": "bool",
         "type": "boolean"
        },
        {
         "name": "education_basic.9y",
         "rawType": "bool",
         "type": "boolean"
        },
        {
         "name": "education_high.school",
         "rawType": "bool",
         "type": "boolean"
        },
        {
         "name": "education_illiterate",
         "rawType": "bool",
         "type": "boolean"
        },
        {
         "name": "education_professional.course",
         "rawType": "bool",
         "type": "boolean"
        },
        {
         "name": "education_university.degree",
         "rawType": "bool",
         "type": "boolean"
        },
        {
         "name": "education_unknown",
         "rawType": "bool",
         "type": "boolean"
        },
        {
         "name": "default_unknown",
         "rawType": "bool",
         "type": "boolean"
        },
        {
         "name": "default_yes",
         "rawType": "bool",
         "type": "boolean"
        },
        {
         "name": "housing_unknown",
         "rawType": "bool",
         "type": "boolean"
        },
        {
         "name": "housing_yes",
         "rawType": "bool",
         "type": "boolean"
        },
        {
         "name": "loan_unknown",
         "rawType": "bool",
         "type": "boolean"
        },
        {
         "name": "loan_yes",
         "rawType": "bool",
         "type": "boolean"
        },
        {
         "name": "contact_telephone",
         "rawType": "bool",
         "type": "boolean"
        },
        {
         "name": "month_aug",
         "rawType": "bool",
         "type": "boolean"
        },
        {
         "name": "month_dec",
         "rawType": "bool",
         "type": "boolean"
        },
        {
         "name": "month_jul",
         "rawType": "bool",
         "type": "boolean"
        },
        {
         "name": "month_jun",
         "rawType": "bool",
         "type": "boolean"
        },
        {
         "name": "month_mar",
         "rawType": "bool",
         "type": "boolean"
        },
        {
         "name": "month_may",
         "rawType": "bool",
         "type": "boolean"
        },
        {
         "name": "month_nov",
         "rawType": "bool",
         "type": "boolean"
        },
        {
         "name": "month_oct",
         "rawType": "bool",
         "type": "boolean"
        },
        {
         "name": "month_sep",
         "rawType": "bool",
         "type": "boolean"
        },
        {
         "name": "day_of_week_mon",
         "rawType": "bool",
         "type": "boolean"
        },
        {
         "name": "day_of_week_thu",
         "rawType": "bool",
         "type": "boolean"
        },
        {
         "name": "day_of_week_tue",
         "rawType": "bool",
         "type": "boolean"
        },
        {
         "name": "day_of_week_wed",
         "rawType": "bool",
         "type": "boolean"
        },
        {
         "name": "poutcome_nonexistent",
         "rawType": "bool",
         "type": "boolean"
        },
        {
         "name": "poutcome_success",
         "rawType": "bool",
         "type": "boolean"
        }
       ],
       "ref": "8e5be4f7-83c4-476d-bffd-64878f29c556",
       "rows": [
        [
         "0",
         "56",
         "261",
         "1",
         "999",
         "0",
         "1.1",
         "93.994",
         "-36.4",
         "4.857",
         "5191.0",
         "no",
         "False",
         "False",
         "True",
         "False",
         "False",
         "False",
         "False",
         "False",
         "False",
         "False",
         "False",
         "True",
         "False",
         "False",
         "False",
         "False",
         "False",
         "False",
         "False",
         "False",
         "False",
         "False",
         "False",
         "False",
         "False",
         "False",
         "False",
         "True",
         "False",
         "False",
         "False",
         "False",
         "False",
         "True",
         "False",
         "False",
         "False",
         "True",
         "False",
         "False",
         "False",
         "True",
         "False"
        ],
        [
         "1",
         "57",
         "149",
         "1",
         "999",
         "0",
         "1.1",
         "93.994",
         "-36.4",
         "4.857",
         "5191.0",
         "no",
         "False",
         "False",
         "False",
         "False",
         "False",
         "False",
         "True",
         "False",
         "False",
         "False",
         "False",
         "True",
         "False",
         "False",
         "False",
         "False",
         "True",
         "False",
         "False",
         "False",
         "False",
         "True",
         "False",
         "False",
         "False",
         "False",
         "False",
         "True",
         "False",
         "False",
         "False",
         "False",
         "False",
         "True",
         "False",
         "False",
         "False",
         "True",
         "False",
         "False",
         "False",
         "True",
         "False"
        ],
        [
         "2",
         "37",
         "226",
         "1",
         "999",
         "0",
         "1.1",
         "93.994",
         "-36.4",
         "4.857",
         "5191.0",
         "no",
         "False",
         "False",
         "False",
         "False",
         "False",
         "False",
         "True",
         "False",
         "False",
         "False",
         "False",
         "True",
         "False",
         "False",
         "False",
         "False",
         "True",
         "False",
         "False",
         "False",
         "False",
         "False",
         "False",
         "False",
         "True",
         "False",
         "False",
         "True",
         "False",
         "False",
         "False",
         "False",
         "False",
         "True",
         "False",
         "False",
         "False",
         "True",
         "False",
         "False",
         "False",
         "True",
         "False"
        ],
        [
         "3",
         "40",
         "151",
         "1",
         "999",
         "0",
         "1.1",
         "93.994",
         "-36.4",
         "4.857",
         "5191.0",
         "no",
         "False",
         "False",
         "False",
         "False",
         "False",
         "False",
         "False",
         "False",
         "False",
         "False",
         "False",
         "True",
         "False",
         "False",
         "True",
         "False",
         "False",
         "False",
         "False",
         "False",
         "False",
         "False",
         "False",
         "False",
         "False",
         "False",
         "False",
         "True",
         "False",
         "False",
         "False",
         "False",
         "False",
         "True",
         "False",
         "False",
         "False",
         "True",
         "False",
         "False",
         "False",
         "True",
         "False"
        ],
        [
         "4",
         "56",
         "307",
         "1",
         "999",
         "0",
         "1.1",
         "93.994",
         "-36.4",
         "4.857",
         "5191.0",
         "no",
         "False",
         "False",
         "False",
         "False",
         "False",
         "False",
         "True",
         "False",
         "False",
         "False",
         "False",
         "True",
         "False",
         "False",
         "False",
         "False",
         "True",
         "False",
         "False",
         "False",
         "False",
         "False",
         "False",
         "False",
         "False",
         "False",
         "True",
         "True",
         "False",
         "False",
         "False",
         "False",
         "False",
         "True",
         "False",
         "False",
         "False",
         "True",
         "False",
         "False",
         "False",
         "True",
         "False"
        ]
       ],
       "shape": {
        "columns": 54,
        "rows": 5
       }
      },
      "text/html": [
       "<div>\n",
       "<style scoped>\n",
       "    .dataframe tbody tr th:only-of-type {\n",
       "        vertical-align: middle;\n",
       "    }\n",
       "\n",
       "    .dataframe tbody tr th {\n",
       "        vertical-align: top;\n",
       "    }\n",
       "\n",
       "    .dataframe thead th {\n",
       "        text-align: right;\n",
       "    }\n",
       "</style>\n",
       "<table border=\"1\" class=\"dataframe\">\n",
       "  <thead>\n",
       "    <tr style=\"text-align: right;\">\n",
       "      <th></th>\n",
       "      <th>age</th>\n",
       "      <th>duration</th>\n",
       "      <th>campaign</th>\n",
       "      <th>pdays</th>\n",
       "      <th>previous</th>\n",
       "      <th>emp.var.rate</th>\n",
       "      <th>cons.price.idx</th>\n",
       "      <th>cons.conf.idx</th>\n",
       "      <th>euribor3m</th>\n",
       "      <th>nr.employed</th>\n",
       "      <th>y</th>\n",
       "      <th>job_blue-collar</th>\n",
       "      <th>job_entrepreneur</th>\n",
       "      <th>job_housemaid</th>\n",
       "      <th>job_management</th>\n",
       "      <th>job_retired</th>\n",
       "      <th>job_self-employed</th>\n",
       "      <th>job_services</th>\n",
       "      <th>job_student</th>\n",
       "      <th>job_technician</th>\n",
       "      <th>job_unemployed</th>\n",
       "      <th>job_unknown</th>\n",
       "      <th>marital_married</th>\n",
       "      <th>marital_single</th>\n",
       "      <th>marital_unknown</th>\n",
       "      <th>education_basic.6y</th>\n",
       "      <th>education_basic.9y</th>\n",
       "      <th>education_high.school</th>\n",
       "      <th>education_illiterate</th>\n",
       "      <th>education_professional.course</th>\n",
       "      <th>education_university.degree</th>\n",
       "      <th>education_unknown</th>\n",
       "      <th>default_unknown</th>\n",
       "      <th>default_yes</th>\n",
       "      <th>housing_unknown</th>\n",
       "      <th>housing_yes</th>\n",
       "      <th>loan_unknown</th>\n",
       "      <th>loan_yes</th>\n",
       "      <th>contact_telephone</th>\n",
       "      <th>month_aug</th>\n",
       "      <th>month_dec</th>\n",
       "      <th>month_jul</th>\n",
       "      <th>month_jun</th>\n",
       "      <th>month_mar</th>\n",
       "      <th>month_may</th>\n",
       "      <th>month_nov</th>\n",
       "      <th>month_oct</th>\n",
       "      <th>month_sep</th>\n",
       "      <th>day_of_week_mon</th>\n",
       "      <th>day_of_week_thu</th>\n",
       "      <th>day_of_week_tue</th>\n",
       "      <th>day_of_week_wed</th>\n",
       "      <th>poutcome_nonexistent</th>\n",
       "      <th>poutcome_success</th>\n",
       "    </tr>\n",
       "  </thead>\n",
       "  <tbody>\n",
       "    <tr>\n",
       "      <th>0</th>\n",
       "      <td>56</td>\n",
       "      <td>261</td>\n",
       "      <td>1</td>\n",
       "      <td>999</td>\n",
       "      <td>0</td>\n",
       "      <td>1.1</td>\n",
       "      <td>93.994</td>\n",
       "      <td>-36.4</td>\n",
       "      <td>4.857</td>\n",
       "      <td>5191.0</td>\n",
       "      <td>no</td>\n",
       "      <td>False</td>\n",
       "      <td>False</td>\n",
       "      <td>True</td>\n",
       "      <td>False</td>\n",
       "      <td>False</td>\n",
       "      <td>False</td>\n",
       "      <td>False</td>\n",
       "      <td>False</td>\n",
       "      <td>False</td>\n",
       "      <td>False</td>\n",
       "      <td>False</td>\n",
       "      <td>True</td>\n",
       "      <td>False</td>\n",
       "      <td>False</td>\n",
       "      <td>False</td>\n",
       "      <td>False</td>\n",
       "      <td>False</td>\n",
       "      <td>False</td>\n",
       "      <td>False</td>\n",
       "      <td>False</td>\n",
       "      <td>False</td>\n",
       "      <td>False</td>\n",
       "      <td>False</td>\n",
       "      <td>False</td>\n",
       "      <td>False</td>\n",
       "      <td>False</td>\n",
       "      <td>False</td>\n",
       "      <td>True</td>\n",
       "      <td>False</td>\n",
       "      <td>False</td>\n",
       "      <td>False</td>\n",
       "      <td>False</td>\n",
       "      <td>False</td>\n",
       "      <td>True</td>\n",
       "      <td>False</td>\n",
       "      <td>False</td>\n",
       "      <td>False</td>\n",
       "      <td>True</td>\n",
       "      <td>False</td>\n",
       "      <td>False</td>\n",
       "      <td>False</td>\n",
       "      <td>True</td>\n",
       "      <td>False</td>\n",
       "    </tr>\n",
       "    <tr>\n",
       "      <th>1</th>\n",
       "      <td>57</td>\n",
       "      <td>149</td>\n",
       "      <td>1</td>\n",
       "      <td>999</td>\n",
       "      <td>0</td>\n",
       "      <td>1.1</td>\n",
       "      <td>93.994</td>\n",
       "      <td>-36.4</td>\n",
       "      <td>4.857</td>\n",
       "      <td>5191.0</td>\n",
       "      <td>no</td>\n",
       "      <td>False</td>\n",
       "      <td>False</td>\n",
       "      <td>False</td>\n",
       "      <td>False</td>\n",
       "      <td>False</td>\n",
       "      <td>False</td>\n",
       "      <td>True</td>\n",
       "      <td>False</td>\n",
       "      <td>False</td>\n",
       "      <td>False</td>\n",
       "      <td>False</td>\n",
       "      <td>True</td>\n",
       "      <td>False</td>\n",
       "      <td>False</td>\n",
       "      <td>False</td>\n",
       "      <td>False</td>\n",
       "      <td>True</td>\n",
       "      <td>False</td>\n",
       "      <td>False</td>\n",
       "      <td>False</td>\n",
       "      <td>False</td>\n",
       "      <td>True</td>\n",
       "      <td>False</td>\n",
       "      <td>False</td>\n",
       "      <td>False</td>\n",
       "      <td>False</td>\n",
       "      <td>False</td>\n",
       "      <td>True</td>\n",
       "      <td>False</td>\n",
       "      <td>False</td>\n",
       "      <td>False</td>\n",
       "      <td>False</td>\n",
       "      <td>False</td>\n",
       "      <td>True</td>\n",
       "      <td>False</td>\n",
       "      <td>False</td>\n",
       "      <td>False</td>\n",
       "      <td>True</td>\n",
       "      <td>False</td>\n",
       "      <td>False</td>\n",
       "      <td>False</td>\n",
       "      <td>True</td>\n",
       "      <td>False</td>\n",
       "    </tr>\n",
       "    <tr>\n",
       "      <th>2</th>\n",
       "      <td>37</td>\n",
       "      <td>226</td>\n",
       "      <td>1</td>\n",
       "      <td>999</td>\n",
       "      <td>0</td>\n",
       "      <td>1.1</td>\n",
       "      <td>93.994</td>\n",
       "      <td>-36.4</td>\n",
       "      <td>4.857</td>\n",
       "      <td>5191.0</td>\n",
       "      <td>no</td>\n",
       "      <td>False</td>\n",
       "      <td>False</td>\n",
       "      <td>False</td>\n",
       "      <td>False</td>\n",
       "      <td>False</td>\n",
       "      <td>False</td>\n",
       "      <td>True</td>\n",
       "      <td>False</td>\n",
       "      <td>False</td>\n",
       "      <td>False</td>\n",
       "      <td>False</td>\n",
       "      <td>True</td>\n",
       "      <td>False</td>\n",
       "      <td>False</td>\n",
       "      <td>False</td>\n",
       "      <td>False</td>\n",
       "      <td>True</td>\n",
       "      <td>False</td>\n",
       "      <td>False</td>\n",
       "      <td>False</td>\n",
       "      <td>False</td>\n",
       "      <td>False</td>\n",
       "      <td>False</td>\n",
       "      <td>False</td>\n",
       "      <td>True</td>\n",
       "      <td>False</td>\n",
       "      <td>False</td>\n",
       "      <td>True</td>\n",
       "      <td>False</td>\n",
       "      <td>False</td>\n",
       "      <td>False</td>\n",
       "      <td>False</td>\n",
       "      <td>False</td>\n",
       "      <td>True</td>\n",
       "      <td>False</td>\n",
       "      <td>False</td>\n",
       "      <td>False</td>\n",
       "      <td>True</td>\n",
       "      <td>False</td>\n",
       "      <td>False</td>\n",
       "      <td>False</td>\n",
       "      <td>True</td>\n",
       "      <td>False</td>\n",
       "    </tr>\n",
       "    <tr>\n",
       "      <th>3</th>\n",
       "      <td>40</td>\n",
       "      <td>151</td>\n",
       "      <td>1</td>\n",
       "      <td>999</td>\n",
       "      <td>0</td>\n",
       "      <td>1.1</td>\n",
       "      <td>93.994</td>\n",
       "      <td>-36.4</td>\n",
       "      <td>4.857</td>\n",
       "      <td>5191.0</td>\n",
       "      <td>no</td>\n",
       "      <td>False</td>\n",
       "      <td>False</td>\n",
       "      <td>False</td>\n",
       "      <td>False</td>\n",
       "      <td>False</td>\n",
       "      <td>False</td>\n",
       "      <td>False</td>\n",
       "      <td>False</td>\n",
       "      <td>False</td>\n",
       "      <td>False</td>\n",
       "      <td>False</td>\n",
       "      <td>True</td>\n",
       "      <td>False</td>\n",
       "      <td>False</td>\n",
       "      <td>True</td>\n",
       "      <td>False</td>\n",
       "      <td>False</td>\n",
       "      <td>False</td>\n",
       "      <td>False</td>\n",
       "      <td>False</td>\n",
       "      <td>False</td>\n",
       "      <td>False</td>\n",
       "      <td>False</td>\n",
       "      <td>False</td>\n",
       "      <td>False</td>\n",
       "      <td>False</td>\n",
       "      <td>False</td>\n",
       "      <td>True</td>\n",
       "      <td>False</td>\n",
       "      <td>False</td>\n",
       "      <td>False</td>\n",
       "      <td>False</td>\n",
       "      <td>False</td>\n",
       "      <td>True</td>\n",
       "      <td>False</td>\n",
       "      <td>False</td>\n",
       "      <td>False</td>\n",
       "      <td>True</td>\n",
       "      <td>False</td>\n",
       "      <td>False</td>\n",
       "      <td>False</td>\n",
       "      <td>True</td>\n",
       "      <td>False</td>\n",
       "    </tr>\n",
       "    <tr>\n",
       "      <th>4</th>\n",
       "      <td>56</td>\n",
       "      <td>307</td>\n",
       "      <td>1</td>\n",
       "      <td>999</td>\n",
       "      <td>0</td>\n",
       "      <td>1.1</td>\n",
       "      <td>93.994</td>\n",
       "      <td>-36.4</td>\n",
       "      <td>4.857</td>\n",
       "      <td>5191.0</td>\n",
       "      <td>no</td>\n",
       "      <td>False</td>\n",
       "      <td>False</td>\n",
       "      <td>False</td>\n",
       "      <td>False</td>\n",
       "      <td>False</td>\n",
       "      <td>False</td>\n",
       "      <td>True</td>\n",
       "      <td>False</td>\n",
       "      <td>False</td>\n",
       "      <td>False</td>\n",
       "      <td>False</td>\n",
       "      <td>True</td>\n",
       "      <td>False</td>\n",
       "      <td>False</td>\n",
       "      <td>False</td>\n",
       "      <td>False</td>\n",
       "      <td>True</td>\n",
       "      <td>False</td>\n",
       "      <td>False</td>\n",
       "      <td>False</td>\n",
       "      <td>False</td>\n",
       "      <td>False</td>\n",
       "      <td>False</td>\n",
       "      <td>False</td>\n",
       "      <td>False</td>\n",
       "      <td>False</td>\n",
       "      <td>True</td>\n",
       "      <td>True</td>\n",
       "      <td>False</td>\n",
       "      <td>False</td>\n",
       "      <td>False</td>\n",
       "      <td>False</td>\n",
       "      <td>False</td>\n",
       "      <td>True</td>\n",
       "      <td>False</td>\n",
       "      <td>False</td>\n",
       "      <td>False</td>\n",
       "      <td>True</td>\n",
       "      <td>False</td>\n",
       "      <td>False</td>\n",
       "      <td>False</td>\n",
       "      <td>True</td>\n",
       "      <td>False</td>\n",
       "    </tr>\n",
       "  </tbody>\n",
       "</table>\n",
       "</div>"
      ],
      "text/plain": [
       "   age  duration  campaign  pdays  previous  emp.var.rate  cons.price.idx  \\\n",
       "0   56       261         1    999         0           1.1          93.994   \n",
       "1   57       149         1    999         0           1.1          93.994   \n",
       "2   37       226         1    999         0           1.1          93.994   \n",
       "3   40       151         1    999         0           1.1          93.994   \n",
       "4   56       307         1    999         0           1.1          93.994   \n",
       "\n",
       "   cons.conf.idx  euribor3m  nr.employed   y  job_blue-collar  \\\n",
       "0          -36.4      4.857       5191.0  no            False   \n",
       "1          -36.4      4.857       5191.0  no            False   \n",
       "2          -36.4      4.857       5191.0  no            False   \n",
       "3          -36.4      4.857       5191.0  no            False   \n",
       "4          -36.4      4.857       5191.0  no            False   \n",
       "\n",
       "   job_entrepreneur  job_housemaid  job_management  job_retired  \\\n",
       "0             False           True           False        False   \n",
       "1             False          False           False        False   \n",
       "2             False          False           False        False   \n",
       "3             False          False           False        False   \n",
       "4             False          False           False        False   \n",
       "\n",
       "   job_self-employed  job_services  job_student  job_technician  \\\n",
       "0              False         False        False           False   \n",
       "1              False          True        False           False   \n",
       "2              False          True        False           False   \n",
       "3              False         False        False           False   \n",
       "4              False          True        False           False   \n",
       "\n",
       "   job_unemployed  job_unknown  marital_married  marital_single  \\\n",
       "0           False        False             True           False   \n",
       "1           False        False             True           False   \n",
       "2           False        False             True           False   \n",
       "3           False        False             True           False   \n",
       "4           False        False             True           False   \n",
       "\n",
       "   marital_unknown  education_basic.6y  education_basic.9y  \\\n",
       "0            False               False               False   \n",
       "1            False               False               False   \n",
       "2            False               False               False   \n",
       "3            False                True               False   \n",
       "4            False               False               False   \n",
       "\n",
       "   education_high.school  education_illiterate  education_professional.course  \\\n",
       "0                  False                 False                          False   \n",
       "1                   True                 False                          False   \n",
       "2                   True                 False                          False   \n",
       "3                  False                 False                          False   \n",
       "4                   True                 False                          False   \n",
       "\n",
       "   education_university.degree  education_unknown  default_unknown  \\\n",
       "0                        False              False            False   \n",
       "1                        False              False             True   \n",
       "2                        False              False            False   \n",
       "3                        False              False            False   \n",
       "4                        False              False            False   \n",
       "\n",
       "   default_yes  housing_unknown  housing_yes  loan_unknown  loan_yes  \\\n",
       "0        False            False        False         False     False   \n",
       "1        False            False        False         False     False   \n",
       "2        False            False         True         False     False   \n",
       "3        False            False        False         False     False   \n",
       "4        False            False        False         False      True   \n",
       "\n",
       "   contact_telephone  month_aug  month_dec  month_jul  month_jun  month_mar  \\\n",
       "0               True      False      False      False      False      False   \n",
       "1               True      False      False      False      False      False   \n",
       "2               True      False      False      False      False      False   \n",
       "3               True      False      False      False      False      False   \n",
       "4               True      False      False      False      False      False   \n",
       "\n",
       "   month_may  month_nov  month_oct  month_sep  day_of_week_mon  \\\n",
       "0       True      False      False      False             True   \n",
       "1       True      False      False      False             True   \n",
       "2       True      False      False      False             True   \n",
       "3       True      False      False      False             True   \n",
       "4       True      False      False      False             True   \n",
       "\n",
       "   day_of_week_thu  day_of_week_tue  day_of_week_wed  poutcome_nonexistent  \\\n",
       "0            False            False            False                  True   \n",
       "1            False            False            False                  True   \n",
       "2            False            False            False                  True   \n",
       "3            False            False            False                  True   \n",
       "4            False            False            False                  True   \n",
       "\n",
       "   poutcome_success  \n",
       "0             False  \n",
       "1             False  \n",
       "2             False  \n",
       "3             False  \n",
       "4             False  "
      ]
     },
     "execution_count": 53,
     "metadata": {},
     "output_type": "execute_result"
    }
   ],
   "source": [
    "encoder = OneHotEncoder(drop='first', sparse=False)\n",
    "\n",
    "cat_cols = ['job', 'marital', 'education', 'default', 'housing', 'loan', 'contact', 'month', 'day_of_week', 'poutcome']\n",
    "\n",
    "df_encoded = pd.get_dummies(df, columns=cat_cols, drop_first=True)\n",
    "df_encoded.head()"
   ]
  },
  {
   "cell_type": "code",
   "execution_count": 54,
   "metadata": {},
   "outputs": [
    {
     "name": "stderr",
     "output_type": "stream",
     "text": [
      "c:\\Users\\BEACON POWER SERVICE\\anaconda3\\envs\\myenv\\Lib\\site-packages\\sklearn\\linear_model\\_logistic.py:460: ConvergenceWarning: lbfgs failed to converge (status=1):\n",
      "STOP: TOTAL NO. of ITERATIONS REACHED LIMIT.\n",
      "\n",
      "Increase the number of iterations (max_iter) or scale the data as shown in:\n",
      "    https://scikit-learn.org/stable/modules/preprocessing.html\n",
      "Please also refer to the documentation for alternative solver options:\n",
      "    https://scikit-learn.org/stable/modules/linear_model.html#logistic-regression\n",
      "  n_iter_i = _check_optimize_result(\n",
      "c:\\Users\\BEACON POWER SERVICE\\anaconda3\\envs\\myenv\\Lib\\site-packages\\sklearn\\linear_model\\_logistic.py:460: ConvergenceWarning: lbfgs failed to converge (status=1):\n",
      "STOP: TOTAL NO. of ITERATIONS REACHED LIMIT.\n",
      "\n",
      "Increase the number of iterations (max_iter) or scale the data as shown in:\n",
      "    https://scikit-learn.org/stable/modules/preprocessing.html\n",
      "Please also refer to the documentation for alternative solver options:\n",
      "    https://scikit-learn.org/stable/modules/linear_model.html#logistic-regression\n",
      "  n_iter_i = _check_optimize_result(\n",
      "c:\\Users\\BEACON POWER SERVICE\\anaconda3\\envs\\myenv\\Lib\\site-packages\\sklearn\\linear_model\\_logistic.py:460: ConvergenceWarning: lbfgs failed to converge (status=1):\n",
      "STOP: TOTAL NO. of ITERATIONS REACHED LIMIT.\n",
      "\n",
      "Increase the number of iterations (max_iter) or scale the data as shown in:\n",
      "    https://scikit-learn.org/stable/modules/preprocessing.html\n",
      "Please also refer to the documentation for alternative solver options:\n",
      "    https://scikit-learn.org/stable/modules/linear_model.html#logistic-regression\n",
      "  n_iter_i = _check_optimize_result(\n",
      "c:\\Users\\BEACON POWER SERVICE\\anaconda3\\envs\\myenv\\Lib\\site-packages\\sklearn\\linear_model\\_logistic.py:460: ConvergenceWarning: lbfgs failed to converge (status=1):\n",
      "STOP: TOTAL NO. of ITERATIONS REACHED LIMIT.\n",
      "\n",
      "Increase the number of iterations (max_iter) or scale the data as shown in:\n",
      "    https://scikit-learn.org/stable/modules/preprocessing.html\n",
      "Please also refer to the documentation for alternative solver options:\n",
      "    https://scikit-learn.org/stable/modules/linear_model.html#logistic-regression\n",
      "  n_iter_i = _check_optimize_result(\n",
      "c:\\Users\\BEACON POWER SERVICE\\anaconda3\\envs\\myenv\\Lib\\site-packages\\sklearn\\linear_model\\_logistic.py:460: ConvergenceWarning: lbfgs failed to converge (status=1):\n",
      "STOP: TOTAL NO. of ITERATIONS REACHED LIMIT.\n",
      "\n",
      "Increase the number of iterations (max_iter) or scale the data as shown in:\n",
      "    https://scikit-learn.org/stable/modules/preprocessing.html\n",
      "Please also refer to the documentation for alternative solver options:\n",
      "    https://scikit-learn.org/stable/modules/linear_model.html#logistic-regression\n",
      "  n_iter_i = _check_optimize_result(\n",
      "c:\\Users\\BEACON POWER SERVICE\\anaconda3\\envs\\myenv\\Lib\\site-packages\\sklearn\\linear_model\\_logistic.py:460: ConvergenceWarning: lbfgs failed to converge (status=1):\n",
      "STOP: TOTAL NO. of ITERATIONS REACHED LIMIT.\n",
      "\n",
      "Increase the number of iterations (max_iter) or scale the data as shown in:\n",
      "    https://scikit-learn.org/stable/modules/preprocessing.html\n",
      "Please also refer to the documentation for alternative solver options:\n",
      "    https://scikit-learn.org/stable/modules/linear_model.html#logistic-regression\n",
      "  n_iter_i = _check_optimize_result(\n",
      "c:\\Users\\BEACON POWER SERVICE\\anaconda3\\envs\\myenv\\Lib\\site-packages\\sklearn\\linear_model\\_logistic.py:460: ConvergenceWarning: lbfgs failed to converge (status=1):\n",
      "STOP: TOTAL NO. of ITERATIONS REACHED LIMIT.\n",
      "\n",
      "Increase the number of iterations (max_iter) or scale the data as shown in:\n",
      "    https://scikit-learn.org/stable/modules/preprocessing.html\n",
      "Please also refer to the documentation for alternative solver options:\n",
      "    https://scikit-learn.org/stable/modules/linear_model.html#logistic-regression\n",
      "  n_iter_i = _check_optimize_result(\n",
      "c:\\Users\\BEACON POWER SERVICE\\anaconda3\\envs\\myenv\\Lib\\site-packages\\sklearn\\linear_model\\_logistic.py:460: ConvergenceWarning: lbfgs failed to converge (status=1):\n",
      "STOP: TOTAL NO. of ITERATIONS REACHED LIMIT.\n",
      "\n",
      "Increase the number of iterations (max_iter) or scale the data as shown in:\n",
      "    https://scikit-learn.org/stable/modules/preprocessing.html\n",
      "Please also refer to the documentation for alternative solver options:\n",
      "    https://scikit-learn.org/stable/modules/linear_model.html#logistic-regression\n",
      "  n_iter_i = _check_optimize_result(\n",
      "c:\\Users\\BEACON POWER SERVICE\\anaconda3\\envs\\myenv\\Lib\\site-packages\\sklearn\\linear_model\\_logistic.py:460: ConvergenceWarning: lbfgs failed to converge (status=1):\n",
      "STOP: TOTAL NO. of ITERATIONS REACHED LIMIT.\n",
      "\n",
      "Increase the number of iterations (max_iter) or scale the data as shown in:\n",
      "    https://scikit-learn.org/stable/modules/preprocessing.html\n",
      "Please also refer to the documentation for alternative solver options:\n",
      "    https://scikit-learn.org/stable/modules/linear_model.html#logistic-regression\n",
      "  n_iter_i = _check_optimize_result(\n",
      "c:\\Users\\BEACON POWER SERVICE\\anaconda3\\envs\\myenv\\Lib\\site-packages\\sklearn\\linear_model\\_logistic.py:460: ConvergenceWarning: lbfgs failed to converge (status=1):\n",
      "STOP: TOTAL NO. of ITERATIONS REACHED LIMIT.\n",
      "\n",
      "Increase the number of iterations (max_iter) or scale the data as shown in:\n",
      "    https://scikit-learn.org/stable/modules/preprocessing.html\n",
      "Please also refer to the documentation for alternative solver options:\n",
      "    https://scikit-learn.org/stable/modules/linear_model.html#logistic-regression\n",
      "  n_iter_i = _check_optimize_result(\n",
      "c:\\Users\\BEACON POWER SERVICE\\anaconda3\\envs\\myenv\\Lib\\site-packages\\sklearn\\linear_model\\_logistic.py:460: ConvergenceWarning: lbfgs failed to converge (status=1):\n",
      "STOP: TOTAL NO. of ITERATIONS REACHED LIMIT.\n",
      "\n",
      "Increase the number of iterations (max_iter) or scale the data as shown in:\n",
      "    https://scikit-learn.org/stable/modules/preprocessing.html\n",
      "Please also refer to the documentation for alternative solver options:\n",
      "    https://scikit-learn.org/stable/modules/linear_model.html#logistic-regression\n",
      "  n_iter_i = _check_optimize_result(\n",
      "c:\\Users\\BEACON POWER SERVICE\\anaconda3\\envs\\myenv\\Lib\\site-packages\\sklearn\\linear_model\\_logistic.py:460: ConvergenceWarning: lbfgs failed to converge (status=1):\n",
      "STOP: TOTAL NO. of ITERATIONS REACHED LIMIT.\n",
      "\n",
      "Increase the number of iterations (max_iter) or scale the data as shown in:\n",
      "    https://scikit-learn.org/stable/modules/preprocessing.html\n",
      "Please also refer to the documentation for alternative solver options:\n",
      "    https://scikit-learn.org/stable/modules/linear_model.html#logistic-regression\n",
      "  n_iter_i = _check_optimize_result(\n",
      "c:\\Users\\BEACON POWER SERVICE\\anaconda3\\envs\\myenv\\Lib\\site-packages\\sklearn\\linear_model\\_logistic.py:460: ConvergenceWarning: lbfgs failed to converge (status=1):\n",
      "STOP: TOTAL NO. of ITERATIONS REACHED LIMIT.\n",
      "\n",
      "Increase the number of iterations (max_iter) or scale the data as shown in:\n",
      "    https://scikit-learn.org/stable/modules/preprocessing.html\n",
      "Please also refer to the documentation for alternative solver options:\n",
      "    https://scikit-learn.org/stable/modules/linear_model.html#logistic-regression\n",
      "  n_iter_i = _check_optimize_result(\n",
      "c:\\Users\\BEACON POWER SERVICE\\anaconda3\\envs\\myenv\\Lib\\site-packages\\sklearn\\linear_model\\_logistic.py:460: ConvergenceWarning: lbfgs failed to converge (status=1):\n",
      "STOP: TOTAL NO. of ITERATIONS REACHED LIMIT.\n",
      "\n",
      "Increase the number of iterations (max_iter) or scale the data as shown in:\n",
      "    https://scikit-learn.org/stable/modules/preprocessing.html\n",
      "Please also refer to the documentation for alternative solver options:\n",
      "    https://scikit-learn.org/stable/modules/linear_model.html#logistic-regression\n",
      "  n_iter_i = _check_optimize_result(\n",
      "c:\\Users\\BEACON POWER SERVICE\\anaconda3\\envs\\myenv\\Lib\\site-packages\\sklearn\\linear_model\\_logistic.py:460: ConvergenceWarning: lbfgs failed to converge (status=1):\n",
      "STOP: TOTAL NO. of ITERATIONS REACHED LIMIT.\n",
      "\n",
      "Increase the number of iterations (max_iter) or scale the data as shown in:\n",
      "    https://scikit-learn.org/stable/modules/preprocessing.html\n",
      "Please also refer to the documentation for alternative solver options:\n",
      "    https://scikit-learn.org/stable/modules/linear_model.html#logistic-regression\n",
      "  n_iter_i = _check_optimize_result(\n",
      "c:\\Users\\BEACON POWER SERVICE\\anaconda3\\envs\\myenv\\Lib\\site-packages\\sklearn\\linear_model\\_logistic.py:460: ConvergenceWarning: lbfgs failed to converge (status=1):\n",
      "STOP: TOTAL NO. of ITERATIONS REACHED LIMIT.\n",
      "\n",
      "Increase the number of iterations (max_iter) or scale the data as shown in:\n",
      "    https://scikit-learn.org/stable/modules/preprocessing.html\n",
      "Please also refer to the documentation for alternative solver options:\n",
      "    https://scikit-learn.org/stable/modules/linear_model.html#logistic-regression\n",
      "  n_iter_i = _check_optimize_result(\n",
      "c:\\Users\\BEACON POWER SERVICE\\anaconda3\\envs\\myenv\\Lib\\site-packages\\sklearn\\linear_model\\_logistic.py:460: ConvergenceWarning: lbfgs failed to converge (status=1):\n",
      "STOP: TOTAL NO. of ITERATIONS REACHED LIMIT.\n",
      "\n",
      "Increase the number of iterations (max_iter) or scale the data as shown in:\n",
      "    https://scikit-learn.org/stable/modules/preprocessing.html\n",
      "Please also refer to the documentation for alternative solver options:\n",
      "    https://scikit-learn.org/stable/modules/linear_model.html#logistic-regression\n",
      "  n_iter_i = _check_optimize_result(\n",
      "c:\\Users\\BEACON POWER SERVICE\\anaconda3\\envs\\myenv\\Lib\\site-packages\\sklearn\\linear_model\\_logistic.py:460: ConvergenceWarning: lbfgs failed to converge (status=1):\n",
      "STOP: TOTAL NO. of ITERATIONS REACHED LIMIT.\n",
      "\n",
      "Increase the number of iterations (max_iter) or scale the data as shown in:\n",
      "    https://scikit-learn.org/stable/modules/preprocessing.html\n",
      "Please also refer to the documentation for alternative solver options:\n",
      "    https://scikit-learn.org/stable/modules/linear_model.html#logistic-regression\n",
      "  n_iter_i = _check_optimize_result(\n",
      "c:\\Users\\BEACON POWER SERVICE\\anaconda3\\envs\\myenv\\Lib\\site-packages\\sklearn\\linear_model\\_logistic.py:460: ConvergenceWarning: lbfgs failed to converge (status=1):\n",
      "STOP: TOTAL NO. of ITERATIONS REACHED LIMIT.\n",
      "\n",
      "Increase the number of iterations (max_iter) or scale the data as shown in:\n",
      "    https://scikit-learn.org/stable/modules/preprocessing.html\n",
      "Please also refer to the documentation for alternative solver options:\n",
      "    https://scikit-learn.org/stable/modules/linear_model.html#logistic-regression\n",
      "  n_iter_i = _check_optimize_result(\n",
      "c:\\Users\\BEACON POWER SERVICE\\anaconda3\\envs\\myenv\\Lib\\site-packages\\sklearn\\linear_model\\_logistic.py:460: ConvergenceWarning: lbfgs failed to converge (status=1):\n",
      "STOP: TOTAL NO. of ITERATIONS REACHED LIMIT.\n",
      "\n",
      "Increase the number of iterations (max_iter) or scale the data as shown in:\n",
      "    https://scikit-learn.org/stable/modules/preprocessing.html\n",
      "Please also refer to the documentation for alternative solver options:\n",
      "    https://scikit-learn.org/stable/modules/linear_model.html#logistic-regression\n",
      "  n_iter_i = _check_optimize_result(\n",
      "c:\\Users\\BEACON POWER SERVICE\\anaconda3\\envs\\myenv\\Lib\\site-packages\\sklearn\\linear_model\\_logistic.py:460: ConvergenceWarning: lbfgs failed to converge (status=1):\n",
      "STOP: TOTAL NO. of ITERATIONS REACHED LIMIT.\n",
      "\n",
      "Increase the number of iterations (max_iter) or scale the data as shown in:\n",
      "    https://scikit-learn.org/stable/modules/preprocessing.html\n",
      "Please also refer to the documentation for alternative solver options:\n",
      "    https://scikit-learn.org/stable/modules/linear_model.html#logistic-regression\n",
      "  n_iter_i = _check_optimize_result(\n",
      "c:\\Users\\BEACON POWER SERVICE\\anaconda3\\envs\\myenv\\Lib\\site-packages\\sklearn\\linear_model\\_logistic.py:460: ConvergenceWarning: lbfgs failed to converge (status=1):\n",
      "STOP: TOTAL NO. of ITERATIONS REACHED LIMIT.\n",
      "\n",
      "Increase the number of iterations (max_iter) or scale the data as shown in:\n",
      "    https://scikit-learn.org/stable/modules/preprocessing.html\n",
      "Please also refer to the documentation for alternative solver options:\n",
      "    https://scikit-learn.org/stable/modules/linear_model.html#logistic-regression\n",
      "  n_iter_i = _check_optimize_result(\n"
     ]
    },
    {
     "name": "stdout",
     "output_type": "stream",
     "text": [
      "[False False False False  True False False False  True False  True  True\n",
      " False False  True False  True  True  True  True False False False False\n",
      "  True  True  True False False False  True  True False False False False\n",
      "  True  True False  True  True  True  True  True False  True  True  True\n",
      " False False False  True  True]\n",
      "[15 10  2 17  1  5 12  7  1 14  1  1 20 21  1 25  1  1  1  1 26 11  3 27\n",
      "  1  1  1 24  4  6  1  1 28 23 13 22  1  1 18  1  1  1  1  1 16  1  1  1\n",
      "  8  9 19  1  1]\n"
     ]
    }
   ],
   "source": [
    "regression = LogisticRegression()\n",
    "y = 'y'\n",
    "new_cols = df_encoded.columns.values\n",
    "x_vals = [i for i in new_cols if i != y]\n",
    "rfe = RFE(regression,n_features_to_select=None)\n",
    "rfe = rfe.fit(df_encoded[x_vals], df_encoded[y])\n",
    "print(rfe.support_)\n",
    "print(rfe.ranking_)"
   ]
  },
  {
   "cell_type": "code",
   "execution_count": 55,
   "metadata": {},
   "outputs": [
    {
     "name": "stdout",
     "output_type": "stream",
     "text": [
      "Selected Features\n",
      "previous\n",
      "euribor3m\n",
      "job_blue-collar\n",
      "job_entrepreneur\n",
      "job_retired\n",
      "job_services\n",
      "job_student\n",
      "job_technician\n",
      "job_unemployed\n",
      "education_basic.6y\n",
      "education_basic.9y\n",
      "education_high.school\n",
      "education_unknown\n",
      "default_unknown\n",
      "loan_yes\n",
      "contact_telephone\n",
      "month_dec\n",
      "month_jul\n",
      "month_jun\n",
      "month_mar\n",
      "month_may\n",
      "month_oct\n",
      "month_sep\n",
      "day_of_week_mon\n",
      "poutcome_nonexistent\n",
      "poutcome_success\n"
     ]
    }
   ],
   "source": [
    "selected_features = [col for col, support in zip(x_vals, rfe.support_) if support]\n",
    "print('Selected Features')\n",
    "for column in selected_features:\n",
    "    print(column)"
   ]
  },
  {
   "cell_type": "markdown",
   "metadata": {},
   "source": [
    "The above columns have been identified as being ideal for the model. These features will be used to develop the model."
   ]
  },
  {
   "cell_type": "markdown",
   "metadata": {},
   "source": [
    "<a id=\"model\"></a>\n",
    "#### Building and Evaluation"
   ]
  },
  {
   "cell_type": "code",
   "execution_count": 56,
   "metadata": {},
   "outputs": [],
   "source": [
    "x = df_encoded[selected_features]\n",
    "y = df_encoded['y']"
   ]
  },
  {
   "cell_type": "code",
   "execution_count": 59,
   "metadata": {},
   "outputs": [],
   "source": [
    "x_train, x_test, y_train, y_test = train_test_split(x, y, test_size=0.2, random_state=0)"
   ]
  },
  {
   "cell_type": "code",
   "execution_count": 60,
   "metadata": {},
   "outputs": [],
   "source": [
    "model = LogisticRegression()"
   ]
  },
  {
   "cell_type": "code",
   "execution_count": 61,
   "metadata": {},
   "outputs": [
    {
     "data": {
      "text/html": [
       "<style>#sk-container-id-1 {color: black;}#sk-container-id-1 pre{padding: 0;}#sk-container-id-1 div.sk-toggleable {background-color: white;}#sk-container-id-1 label.sk-toggleable__label {cursor: pointer;display: block;width: 100%;margin-bottom: 0;padding: 0.3em;box-sizing: border-box;text-align: center;}#sk-container-id-1 label.sk-toggleable__label-arrow:before {content: \"▸\";float: left;margin-right: 0.25em;color: #696969;}#sk-container-id-1 label.sk-toggleable__label-arrow:hover:before {color: black;}#sk-container-id-1 div.sk-estimator:hover label.sk-toggleable__label-arrow:before {color: black;}#sk-container-id-1 div.sk-toggleable__content {max-height: 0;max-width: 0;overflow: hidden;text-align: left;background-color: #f0f8ff;}#sk-container-id-1 div.sk-toggleable__content pre {margin: 0.2em;color: black;border-radius: 0.25em;background-color: #f0f8ff;}#sk-container-id-1 input.sk-toggleable__control:checked~div.sk-toggleable__content {max-height: 200px;max-width: 100%;overflow: auto;}#sk-container-id-1 input.sk-toggleable__control:checked~label.sk-toggleable__label-arrow:before {content: \"▾\";}#sk-container-id-1 div.sk-estimator input.sk-toggleable__control:checked~label.sk-toggleable__label {background-color: #d4ebff;}#sk-container-id-1 div.sk-label input.sk-toggleable__control:checked~label.sk-toggleable__label {background-color: #d4ebff;}#sk-container-id-1 input.sk-hidden--visually {border: 0;clip: rect(1px 1px 1px 1px);clip: rect(1px, 1px, 1px, 1px);height: 1px;margin: -1px;overflow: hidden;padding: 0;position: absolute;width: 1px;}#sk-container-id-1 div.sk-estimator {font-family: monospace;background-color: #f0f8ff;border: 1px dotted black;border-radius: 0.25em;box-sizing: border-box;margin-bottom: 0.5em;}#sk-container-id-1 div.sk-estimator:hover {background-color: #d4ebff;}#sk-container-id-1 div.sk-parallel-item::after {content: \"\";width: 100%;border-bottom: 1px solid gray;flex-grow: 1;}#sk-container-id-1 div.sk-label:hover label.sk-toggleable__label {background-color: #d4ebff;}#sk-container-id-1 div.sk-serial::before {content: \"\";position: absolute;border-left: 1px solid gray;box-sizing: border-box;top: 0;bottom: 0;left: 50%;z-index: 0;}#sk-container-id-1 div.sk-serial {display: flex;flex-direction: column;align-items: center;background-color: white;padding-right: 0.2em;padding-left: 0.2em;position: relative;}#sk-container-id-1 div.sk-item {position: relative;z-index: 1;}#sk-container-id-1 div.sk-parallel {display: flex;align-items: stretch;justify-content: center;background-color: white;position: relative;}#sk-container-id-1 div.sk-item::before, #sk-container-id-1 div.sk-parallel-item::before {content: \"\";position: absolute;border-left: 1px solid gray;box-sizing: border-box;top: 0;bottom: 0;left: 50%;z-index: -1;}#sk-container-id-1 div.sk-parallel-item {display: flex;flex-direction: column;z-index: 1;position: relative;background-color: white;}#sk-container-id-1 div.sk-parallel-item:first-child::after {align-self: flex-end;width: 50%;}#sk-container-id-1 div.sk-parallel-item:last-child::after {align-self: flex-start;width: 50%;}#sk-container-id-1 div.sk-parallel-item:only-child::after {width: 0;}#sk-container-id-1 div.sk-dashed-wrapped {border: 1px dashed gray;margin: 0 0.4em 0.5em 0.4em;box-sizing: border-box;padding-bottom: 0.4em;background-color: white;}#sk-container-id-1 div.sk-label label {font-family: monospace;font-weight: bold;display: inline-block;line-height: 1.2em;}#sk-container-id-1 div.sk-label-container {text-align: center;}#sk-container-id-1 div.sk-container {/* jupyter's `normalize.less` sets `[hidden] { display: none; }` but bootstrap.min.css set `[hidden] { display: none !important; }` so we also need the `!important` here to be able to override the default hidden behavior on the sphinx rendered scikit-learn.org. See: https://github.com/scikit-learn/scikit-learn/issues/21755 */display: inline-block !important;position: relative;}#sk-container-id-1 div.sk-text-repr-fallback {display: none;}</style><div id=\"sk-container-id-1\" class=\"sk-top-container\"><div class=\"sk-text-repr-fallback\"><pre>LogisticRegression()</pre><b>In a Jupyter environment, please rerun this cell to show the HTML representation or trust the notebook. <br />On GitHub, the HTML representation is unable to render, please try loading this page with nbviewer.org.</b></div><div class=\"sk-container\" hidden><div class=\"sk-item\"><div class=\"sk-estimator sk-toggleable\"><input class=\"sk-toggleable__control sk-hidden--visually\" id=\"sk-estimator-id-1\" type=\"checkbox\" checked><label for=\"sk-estimator-id-1\" class=\"sk-toggleable__label sk-toggleable__label-arrow\">LogisticRegression</label><div class=\"sk-toggleable__content\"><pre>LogisticRegression()</pre></div></div></div></div></div>"
      ],
      "text/plain": [
       "LogisticRegression()"
      ]
     },
     "execution_count": 61,
     "metadata": {},
     "output_type": "execute_result"
    }
   ],
   "source": [
    "model.fit(x_train, y_train)"
   ]
  },
  {
   "cell_type": "code",
   "execution_count": 62,
   "metadata": {},
   "outputs": [
    {
     "name": "stdout",
     "output_type": "stream",
     "text": [
      "0.9281129653401797\n"
     ]
    }
   ],
   "source": [
    "y_pred = model.predict(x_test)\n",
    "accuracy = accuracy_score(y_test, y_pred)\n",
    "print(accuracy)"
   ]
  },
  {
   "cell_type": "code",
   "execution_count": 63,
   "metadata": {},
   "outputs": [
    {
     "name": "stdout",
     "output_type": "stream",
     "text": [
      "[[6339   71]\n",
      " [ 433  168]]\n"
     ]
    }
   ],
   "source": [
    "conf_matrix = confusion_matrix(y_test, y_pred)\n",
    "print(conf_matrix)"
   ]
  },
  {
   "cell_type": "code",
   "execution_count": 65,
   "metadata": {},
   "outputs": [
    {
     "name": "stdout",
     "output_type": "stream",
     "text": [
      "              precision    recall  f1-score   support\n",
      "\n",
      "          no       0.94      0.99      0.96      6410\n",
      "         yes       0.70      0.28      0.40       601\n",
      "\n",
      "    accuracy                           0.93      7011\n",
      "   macro avg       0.82      0.63      0.68      7011\n",
      "weighted avg       0.92      0.93      0.91      7011\n",
      "\n"
     ]
    }
   ],
   "source": [
    "class_report = classification_report(y_test, y_pred)\n",
    "print(class_report)"
   ]
  },
  {
   "cell_type": "markdown",
   "metadata": {},
   "source": [
    "Overall, 90% of the predictions made by the model are accurate. \n",
    "\n",
    "For precision, 91% of the predicted \"no\" values are accurate while 66% of the predicted \"yes\" values are accurate.This means that when the model predicts that a client will subscribe to a term deposit, it is correct 66% of the time.\n",
    "\n",
    "For recall, the model correctly captures 99% of the actual \"no' cases and only 20% of the actual \"yes\" cases. This means that when the model misses 80% of the actual clients who subscribe to term deposits.\n",
    "\n",
    "For F1 score, 0.95 for the \"no\" group indicates excellent performance of the model in predicting \"no\" values while 0.31 for the \"yes\" group indicates very poor performance.\n",
    "\n",
    "The support value indicates that there were 7319 clients who did not subscribe and 919 clients who subscribed. This indicates an in imbalance in the data and explains why the model performs well on the \"no\" group but poorly on the \"yes\" group.\n",
    "\n",
    "In conclusion, the model is good for predicting clients who will not subscribe to the term deposit but poor for predicting clients who will, and thus, it needs improvement. The model will be rebuilt using the oversampling technique because it synthetically generates samples for the minority class to balance the dataset."
   ]
  },
  {
   "cell_type": "code",
   "execution_count": 66,
   "metadata": {},
   "outputs": [],
   "source": [
    "smote = SMOTE(random_state=0)\n",
    "x_resampled, y_resampled = smote.fit_resample(x,y)\n",
    "\n",
    "x_train, x_test, y_train, y_test = train_test_split(x_resampled, y_resampled, test_size=0.2, random_state=0)"
   ]
  },
  {
   "cell_type": "code",
   "execution_count": 67,
   "metadata": {},
   "outputs": [],
   "source": [
    "newmodel = LogisticRegression()"
   ]
  },
  {
   "cell_type": "code",
   "execution_count": 68,
   "metadata": {},
   "outputs": [
    {
     "data": {
      "text/html": [
       "<style>#sk-container-id-2 {color: black;}#sk-container-id-2 pre{padding: 0;}#sk-container-id-2 div.sk-toggleable {background-color: white;}#sk-container-id-2 label.sk-toggleable__label {cursor: pointer;display: block;width: 100%;margin-bottom: 0;padding: 0.3em;box-sizing: border-box;text-align: center;}#sk-container-id-2 label.sk-toggleable__label-arrow:before {content: \"▸\";float: left;margin-right: 0.25em;color: #696969;}#sk-container-id-2 label.sk-toggleable__label-arrow:hover:before {color: black;}#sk-container-id-2 div.sk-estimator:hover label.sk-toggleable__label-arrow:before {color: black;}#sk-container-id-2 div.sk-toggleable__content {max-height: 0;max-width: 0;overflow: hidden;text-align: left;background-color: #f0f8ff;}#sk-container-id-2 div.sk-toggleable__content pre {margin: 0.2em;color: black;border-radius: 0.25em;background-color: #f0f8ff;}#sk-container-id-2 input.sk-toggleable__control:checked~div.sk-toggleable__content {max-height: 200px;max-width: 100%;overflow: auto;}#sk-container-id-2 input.sk-toggleable__control:checked~label.sk-toggleable__label-arrow:before {content: \"▾\";}#sk-container-id-2 div.sk-estimator input.sk-toggleable__control:checked~label.sk-toggleable__label {background-color: #d4ebff;}#sk-container-id-2 div.sk-label input.sk-toggleable__control:checked~label.sk-toggleable__label {background-color: #d4ebff;}#sk-container-id-2 input.sk-hidden--visually {border: 0;clip: rect(1px 1px 1px 1px);clip: rect(1px, 1px, 1px, 1px);height: 1px;margin: -1px;overflow: hidden;padding: 0;position: absolute;width: 1px;}#sk-container-id-2 div.sk-estimator {font-family: monospace;background-color: #f0f8ff;border: 1px dotted black;border-radius: 0.25em;box-sizing: border-box;margin-bottom: 0.5em;}#sk-container-id-2 div.sk-estimator:hover {background-color: #d4ebff;}#sk-container-id-2 div.sk-parallel-item::after {content: \"\";width: 100%;border-bottom: 1px solid gray;flex-grow: 1;}#sk-container-id-2 div.sk-label:hover label.sk-toggleable__label {background-color: #d4ebff;}#sk-container-id-2 div.sk-serial::before {content: \"\";position: absolute;border-left: 1px solid gray;box-sizing: border-box;top: 0;bottom: 0;left: 50%;z-index: 0;}#sk-container-id-2 div.sk-serial {display: flex;flex-direction: column;align-items: center;background-color: white;padding-right: 0.2em;padding-left: 0.2em;position: relative;}#sk-container-id-2 div.sk-item {position: relative;z-index: 1;}#sk-container-id-2 div.sk-parallel {display: flex;align-items: stretch;justify-content: center;background-color: white;position: relative;}#sk-container-id-2 div.sk-item::before, #sk-container-id-2 div.sk-parallel-item::before {content: \"\";position: absolute;border-left: 1px solid gray;box-sizing: border-box;top: 0;bottom: 0;left: 50%;z-index: -1;}#sk-container-id-2 div.sk-parallel-item {display: flex;flex-direction: column;z-index: 1;position: relative;background-color: white;}#sk-container-id-2 div.sk-parallel-item:first-child::after {align-self: flex-end;width: 50%;}#sk-container-id-2 div.sk-parallel-item:last-child::after {align-self: flex-start;width: 50%;}#sk-container-id-2 div.sk-parallel-item:only-child::after {width: 0;}#sk-container-id-2 div.sk-dashed-wrapped {border: 1px dashed gray;margin: 0 0.4em 0.5em 0.4em;box-sizing: border-box;padding-bottom: 0.4em;background-color: white;}#sk-container-id-2 div.sk-label label {font-family: monospace;font-weight: bold;display: inline-block;line-height: 1.2em;}#sk-container-id-2 div.sk-label-container {text-align: center;}#sk-container-id-2 div.sk-container {/* jupyter's `normalize.less` sets `[hidden] { display: none; }` but bootstrap.min.css set `[hidden] { display: none !important; }` so we also need the `!important` here to be able to override the default hidden behavior on the sphinx rendered scikit-learn.org. See: https://github.com/scikit-learn/scikit-learn/issues/21755 */display: inline-block !important;position: relative;}#sk-container-id-2 div.sk-text-repr-fallback {display: none;}</style><div id=\"sk-container-id-2\" class=\"sk-top-container\"><div class=\"sk-text-repr-fallback\"><pre>LogisticRegression()</pre><b>In a Jupyter environment, please rerun this cell to show the HTML representation or trust the notebook. <br />On GitHub, the HTML representation is unable to render, please try loading this page with nbviewer.org.</b></div><div class=\"sk-container\" hidden><div class=\"sk-item\"><div class=\"sk-estimator sk-toggleable\"><input class=\"sk-toggleable__control sk-hidden--visually\" id=\"sk-estimator-id-2\" type=\"checkbox\" checked><label for=\"sk-estimator-id-2\" class=\"sk-toggleable__label sk-toggleable__label-arrow\">LogisticRegression</label><div class=\"sk-toggleable__content\"><pre>LogisticRegression()</pre></div></div></div></div></div>"
      ],
      "text/plain": [
       "LogisticRegression()"
      ]
     },
     "execution_count": 68,
     "metadata": {},
     "output_type": "execute_result"
    }
   ],
   "source": [
    "newmodel.fit(x_train, y_train)"
   ]
  },
  {
   "cell_type": "code",
   "execution_count": 69,
   "metadata": {},
   "outputs": [
    {
     "name": "stdout",
     "output_type": "stream",
     "text": [
      "0.6323185011709602\n"
     ]
    }
   ],
   "source": [
    "predicted_y = model.predict(x_test)\n",
    "\n",
    "accuracy = accuracy_score(y_test, predicted_y)\n",
    "print(accuracy)"
   ]
  },
  {
   "cell_type": "code",
   "execution_count": 70,
   "metadata": {},
   "outputs": [
    {
     "name": "stdout",
     "output_type": "stream",
     "text": [
      "              precision    recall  f1-score   support\n",
      "\n",
      "          no       0.58      0.99      0.73      6408\n",
      "         yes       0.96      0.28      0.43      6402\n",
      "\n",
      "    accuracy                           0.63     12810\n",
      "   macro avg       0.77      0.63      0.58     12810\n",
      "weighted avg       0.77      0.63      0.58     12810\n",
      "\n"
     ]
    }
   ],
   "source": [
    "class_report = classification_report(y_test, predicted_y)\n",
    "print(class_report)"
   ]
  },
  {
   "cell_type": "markdown",
   "metadata": {},
   "source": [
    "The model now predicts clients who will subscribe to the term deposit by 95%, an increment from the 66% in the earlier model. Accuracy has however dropped to 58% because the imbalance has been resolved."
   ]
  },
  {
   "cell_type": "code",
   "execution_count": 73,
   "metadata": {},
   "outputs": [],
   "source": [
    "undersample = RandomUnderSampler(random_state=0)\n",
    "\n",
    "resample_x, resample_y = undersample.fit_resample(x,y)"
   ]
  },
  {
   "cell_type": "code",
   "execution_count": 74,
   "metadata": {},
   "outputs": [],
   "source": [
    "x_train, x_test, y_train, y_test = train_test_split(resample_x, resample_y, test_size=0.2, random_state=0)"
   ]
  },
  {
   "cell_type": "code",
   "execution_count": 75,
   "metadata": {},
   "outputs": [],
   "source": [
    "undersampledmodel = LogisticRegression()"
   ]
  },
  {
   "cell_type": "code",
   "execution_count": 76,
   "metadata": {},
   "outputs": [
    {
     "data": {
      "text/html": [
       "<style>#sk-container-id-3 {color: black;}#sk-container-id-3 pre{padding: 0;}#sk-container-id-3 div.sk-toggleable {background-color: white;}#sk-container-id-3 label.sk-toggleable__label {cursor: pointer;display: block;width: 100%;margin-bottom: 0;padding: 0.3em;box-sizing: border-box;text-align: center;}#sk-container-id-3 label.sk-toggleable__label-arrow:before {content: \"▸\";float: left;margin-right: 0.25em;color: #696969;}#sk-container-id-3 label.sk-toggleable__label-arrow:hover:before {color: black;}#sk-container-id-3 div.sk-estimator:hover label.sk-toggleable__label-arrow:before {color: black;}#sk-container-id-3 div.sk-toggleable__content {max-height: 0;max-width: 0;overflow: hidden;text-align: left;background-color: #f0f8ff;}#sk-container-id-3 div.sk-toggleable__content pre {margin: 0.2em;color: black;border-radius: 0.25em;background-color: #f0f8ff;}#sk-container-id-3 input.sk-toggleable__control:checked~div.sk-toggleable__content {max-height: 200px;max-width: 100%;overflow: auto;}#sk-container-id-3 input.sk-toggleable__control:checked~label.sk-toggleable__label-arrow:before {content: \"▾\";}#sk-container-id-3 div.sk-estimator input.sk-toggleable__control:checked~label.sk-toggleable__label {background-color: #d4ebff;}#sk-container-id-3 div.sk-label input.sk-toggleable__control:checked~label.sk-toggleable__label {background-color: #d4ebff;}#sk-container-id-3 input.sk-hidden--visually {border: 0;clip: rect(1px 1px 1px 1px);clip: rect(1px, 1px, 1px, 1px);height: 1px;margin: -1px;overflow: hidden;padding: 0;position: absolute;width: 1px;}#sk-container-id-3 div.sk-estimator {font-family: monospace;background-color: #f0f8ff;border: 1px dotted black;border-radius: 0.25em;box-sizing: border-box;margin-bottom: 0.5em;}#sk-container-id-3 div.sk-estimator:hover {background-color: #d4ebff;}#sk-container-id-3 div.sk-parallel-item::after {content: \"\";width: 100%;border-bottom: 1px solid gray;flex-grow: 1;}#sk-container-id-3 div.sk-label:hover label.sk-toggleable__label {background-color: #d4ebff;}#sk-container-id-3 div.sk-serial::before {content: \"\";position: absolute;border-left: 1px solid gray;box-sizing: border-box;top: 0;bottom: 0;left: 50%;z-index: 0;}#sk-container-id-3 div.sk-serial {display: flex;flex-direction: column;align-items: center;background-color: white;padding-right: 0.2em;padding-left: 0.2em;position: relative;}#sk-container-id-3 div.sk-item {position: relative;z-index: 1;}#sk-container-id-3 div.sk-parallel {display: flex;align-items: stretch;justify-content: center;background-color: white;position: relative;}#sk-container-id-3 div.sk-item::before, #sk-container-id-3 div.sk-parallel-item::before {content: \"\";position: absolute;border-left: 1px solid gray;box-sizing: border-box;top: 0;bottom: 0;left: 50%;z-index: -1;}#sk-container-id-3 div.sk-parallel-item {display: flex;flex-direction: column;z-index: 1;position: relative;background-color: white;}#sk-container-id-3 div.sk-parallel-item:first-child::after {align-self: flex-end;width: 50%;}#sk-container-id-3 div.sk-parallel-item:last-child::after {align-self: flex-start;width: 50%;}#sk-container-id-3 div.sk-parallel-item:only-child::after {width: 0;}#sk-container-id-3 div.sk-dashed-wrapped {border: 1px dashed gray;margin: 0 0.4em 0.5em 0.4em;box-sizing: border-box;padding-bottom: 0.4em;background-color: white;}#sk-container-id-3 div.sk-label label {font-family: monospace;font-weight: bold;display: inline-block;line-height: 1.2em;}#sk-container-id-3 div.sk-label-container {text-align: center;}#sk-container-id-3 div.sk-container {/* jupyter's `normalize.less` sets `[hidden] { display: none; }` but bootstrap.min.css set `[hidden] { display: none !important; }` so we also need the `!important` here to be able to override the default hidden behavior on the sphinx rendered scikit-learn.org. See: https://github.com/scikit-learn/scikit-learn/issues/21755 */display: inline-block !important;position: relative;}#sk-container-id-3 div.sk-text-repr-fallback {display: none;}</style><div id=\"sk-container-id-3\" class=\"sk-top-container\"><div class=\"sk-text-repr-fallback\"><pre>LogisticRegression()</pre><b>In a Jupyter environment, please rerun this cell to show the HTML representation or trust the notebook. <br />On GitHub, the HTML representation is unable to render, please try loading this page with nbviewer.org.</b></div><div class=\"sk-container\" hidden><div class=\"sk-item\"><div class=\"sk-estimator sk-toggleable\"><input class=\"sk-toggleable__control sk-hidden--visually\" id=\"sk-estimator-id-3\" type=\"checkbox\" checked><label for=\"sk-estimator-id-3\" class=\"sk-toggleable__label sk-toggleable__label-arrow\">LogisticRegression</label><div class=\"sk-toggleable__content\"><pre>LogisticRegression()</pre></div></div></div></div></div>"
      ],
      "text/plain": [
       "LogisticRegression()"
      ]
     },
     "execution_count": 76,
     "metadata": {},
     "output_type": "execute_result"
    }
   ],
   "source": [
    "undersampledmodel.fit(x_train, y_train)"
   ]
  },
  {
   "cell_type": "code",
   "execution_count": 77,
   "metadata": {},
   "outputs": [
    {
     "name": "stdout",
     "output_type": "stream",
     "text": [
      "0.6320132013201321\n"
     ]
    }
   ],
   "source": [
    "prediction = model.predict(x_test)\n",
    "\n",
    "accuracy = accuracy_score(y_test, prediction)\n",
    "print(accuracy)"
   ]
  },
  {
   "cell_type": "code",
   "execution_count": 78,
   "metadata": {},
   "outputs": [
    {
     "name": "stdout",
     "output_type": "stream",
     "text": [
      "              precision    recall  f1-score   support\n",
      "\n",
      "          no       0.58      0.99      0.73       611\n",
      "         yes       0.96      0.27      0.42       601\n",
      "\n",
      "    accuracy                           0.63      1212\n",
      "   macro avg       0.77      0.63      0.58      1212\n",
      "weighted avg       0.77      0.63      0.58      1212\n",
      "\n"
     ]
    }
   ],
   "source": [
    "class_report = classification_report(y_test, prediction)\n",
    "print(class_report)"
   ]
  },
  {
   "cell_type": "markdown",
   "metadata": {},
   "source": [
    "The results of using the undersampled model are similar to the results of the oversampled model. A combination of undersampling and oversampling will be used to develop a new model for potential improvements."
   ]
  },
  {
   "cell_type": "code",
   "execution_count": 79,
   "metadata": {},
   "outputs": [],
   "source": [
    "smote_tomek = SMOTETomek(random_state=0)\n",
    "x_resampled, y_resampled = smote_tomek.fit_resample(x,y)"
   ]
  },
  {
   "cell_type": "code",
   "execution_count": 80,
   "metadata": {},
   "outputs": [],
   "source": [
    "x_train, x_test, y_train, y_test = train_test_split(x_resampled, y_resampled, test_size=0.2, random_state=0)"
   ]
  },
  {
   "cell_type": "code",
   "execution_count": 81,
   "metadata": {},
   "outputs": [],
   "source": [
    "combinedmodel = LogisticRegression()"
   ]
  },
  {
   "cell_type": "code",
   "execution_count": 82,
   "metadata": {},
   "outputs": [
    {
     "data": {
      "text/html": [
       "<style>#sk-container-id-4 {color: black;}#sk-container-id-4 pre{padding: 0;}#sk-container-id-4 div.sk-toggleable {background-color: white;}#sk-container-id-4 label.sk-toggleable__label {cursor: pointer;display: block;width: 100%;margin-bottom: 0;padding: 0.3em;box-sizing: border-box;text-align: center;}#sk-container-id-4 label.sk-toggleable__label-arrow:before {content: \"▸\";float: left;margin-right: 0.25em;color: #696969;}#sk-container-id-4 label.sk-toggleable__label-arrow:hover:before {color: black;}#sk-container-id-4 div.sk-estimator:hover label.sk-toggleable__label-arrow:before {color: black;}#sk-container-id-4 div.sk-toggleable__content {max-height: 0;max-width: 0;overflow: hidden;text-align: left;background-color: #f0f8ff;}#sk-container-id-4 div.sk-toggleable__content pre {margin: 0.2em;color: black;border-radius: 0.25em;background-color: #f0f8ff;}#sk-container-id-4 input.sk-toggleable__control:checked~div.sk-toggleable__content {max-height: 200px;max-width: 100%;overflow: auto;}#sk-container-id-4 input.sk-toggleable__control:checked~label.sk-toggleable__label-arrow:before {content: \"▾\";}#sk-container-id-4 div.sk-estimator input.sk-toggleable__control:checked~label.sk-toggleable__label {background-color: #d4ebff;}#sk-container-id-4 div.sk-label input.sk-toggleable__control:checked~label.sk-toggleable__label {background-color: #d4ebff;}#sk-container-id-4 input.sk-hidden--visually {border: 0;clip: rect(1px 1px 1px 1px);clip: rect(1px, 1px, 1px, 1px);height: 1px;margin: -1px;overflow: hidden;padding: 0;position: absolute;width: 1px;}#sk-container-id-4 div.sk-estimator {font-family: monospace;background-color: #f0f8ff;border: 1px dotted black;border-radius: 0.25em;box-sizing: border-box;margin-bottom: 0.5em;}#sk-container-id-4 div.sk-estimator:hover {background-color: #d4ebff;}#sk-container-id-4 div.sk-parallel-item::after {content: \"\";width: 100%;border-bottom: 1px solid gray;flex-grow: 1;}#sk-container-id-4 div.sk-label:hover label.sk-toggleable__label {background-color: #d4ebff;}#sk-container-id-4 div.sk-serial::before {content: \"\";position: absolute;border-left: 1px solid gray;box-sizing: border-box;top: 0;bottom: 0;left: 50%;z-index: 0;}#sk-container-id-4 div.sk-serial {display: flex;flex-direction: column;align-items: center;background-color: white;padding-right: 0.2em;padding-left: 0.2em;position: relative;}#sk-container-id-4 div.sk-item {position: relative;z-index: 1;}#sk-container-id-4 div.sk-parallel {display: flex;align-items: stretch;justify-content: center;background-color: white;position: relative;}#sk-container-id-4 div.sk-item::before, #sk-container-id-4 div.sk-parallel-item::before {content: \"\";position: absolute;border-left: 1px solid gray;box-sizing: border-box;top: 0;bottom: 0;left: 50%;z-index: -1;}#sk-container-id-4 div.sk-parallel-item {display: flex;flex-direction: column;z-index: 1;position: relative;background-color: white;}#sk-container-id-4 div.sk-parallel-item:first-child::after {align-self: flex-end;width: 50%;}#sk-container-id-4 div.sk-parallel-item:last-child::after {align-self: flex-start;width: 50%;}#sk-container-id-4 div.sk-parallel-item:only-child::after {width: 0;}#sk-container-id-4 div.sk-dashed-wrapped {border: 1px dashed gray;margin: 0 0.4em 0.5em 0.4em;box-sizing: border-box;padding-bottom: 0.4em;background-color: white;}#sk-container-id-4 div.sk-label label {font-family: monospace;font-weight: bold;display: inline-block;line-height: 1.2em;}#sk-container-id-4 div.sk-label-container {text-align: center;}#sk-container-id-4 div.sk-container {/* jupyter's `normalize.less` sets `[hidden] { display: none; }` but bootstrap.min.css set `[hidden] { display: none !important; }` so we also need the `!important` here to be able to override the default hidden behavior on the sphinx rendered scikit-learn.org. See: https://github.com/scikit-learn/scikit-learn/issues/21755 */display: inline-block !important;position: relative;}#sk-container-id-4 div.sk-text-repr-fallback {display: none;}</style><div id=\"sk-container-id-4\" class=\"sk-top-container\"><div class=\"sk-text-repr-fallback\"><pre>LogisticRegression()</pre><b>In a Jupyter environment, please rerun this cell to show the HTML representation or trust the notebook. <br />On GitHub, the HTML representation is unable to render, please try loading this page with nbviewer.org.</b></div><div class=\"sk-container\" hidden><div class=\"sk-item\"><div class=\"sk-estimator sk-toggleable\"><input class=\"sk-toggleable__control sk-hidden--visually\" id=\"sk-estimator-id-4\" type=\"checkbox\" checked><label for=\"sk-estimator-id-4\" class=\"sk-toggleable__label sk-toggleable__label-arrow\">LogisticRegression</label><div class=\"sk-toggleable__content\"><pre>LogisticRegression()</pre></div></div></div></div></div>"
      ],
      "text/plain": [
       "LogisticRegression()"
      ]
     },
     "execution_count": 82,
     "metadata": {},
     "output_type": "execute_result"
    }
   ],
   "source": [
    "undersampledmodel.fit(x_train, y_train)"
   ]
  },
  {
   "cell_type": "code",
   "execution_count": 83,
   "metadata": {},
   "outputs": [
    {
     "name": "stdout",
     "output_type": "stream",
     "text": [
      "0.6260821659058713\n"
     ]
    }
   ],
   "source": [
    "prediction = model.predict(x_test)\n",
    "\n",
    "accuracy = accuracy_score(y_test, prediction)\n",
    "print(accuracy)"
   ]
  },
  {
   "cell_type": "code",
   "execution_count": 84,
   "metadata": {},
   "outputs": [
    {
     "name": "stdout",
     "output_type": "stream",
     "text": [
      "              precision    recall  f1-score   support\n",
      "\n",
      "          no       0.57      0.99      0.72      6237\n",
      "         yes       0.97      0.28      0.43      6469\n",
      "\n",
      "    accuracy                           0.63     12706\n",
      "   macro avg       0.77      0.63      0.58     12706\n",
      "weighted avg       0.77      0.63      0.57     12706\n",
      "\n"
     ]
    }
   ],
   "source": [
    "class_report = classification_report(y_test, prediction)\n",
    "print(class_report)"
   ]
  },
  {
   "cell_type": "markdown",
   "metadata": {},
   "source": [
    "Like the models built on oversampling and undersampling, the model built on the combined method reduces accuracy to 60% because the imabalance in the original dataset has been resolved. The combined method module predicts clients who will subscribe to the term deposit with a precision of 96%.\n",
    "\n",
    "A new model will now be developed using class weighting to check for potential improvements."
   ]
  },
  {
   "cell_type": "code",
   "execution_count": null,
   "metadata": {},
   "outputs": [],
   "source": []
  },
  {
   "cell_type": "code",
   "execution_count": 85,
   "metadata": {},
   "outputs": [
    {
     "data": {
      "text/html": [
       "<style>#sk-container-id-5 {color: black;}#sk-container-id-5 pre{padding: 0;}#sk-container-id-5 div.sk-toggleable {background-color: white;}#sk-container-id-5 label.sk-toggleable__label {cursor: pointer;display: block;width: 100%;margin-bottom: 0;padding: 0.3em;box-sizing: border-box;text-align: center;}#sk-container-id-5 label.sk-toggleable__label-arrow:before {content: \"▸\";float: left;margin-right: 0.25em;color: #696969;}#sk-container-id-5 label.sk-toggleable__label-arrow:hover:before {color: black;}#sk-container-id-5 div.sk-estimator:hover label.sk-toggleable__label-arrow:before {color: black;}#sk-container-id-5 div.sk-toggleable__content {max-height: 0;max-width: 0;overflow: hidden;text-align: left;background-color: #f0f8ff;}#sk-container-id-5 div.sk-toggleable__content pre {margin: 0.2em;color: black;border-radius: 0.25em;background-color: #f0f8ff;}#sk-container-id-5 input.sk-toggleable__control:checked~div.sk-toggleable__content {max-height: 200px;max-width: 100%;overflow: auto;}#sk-container-id-5 input.sk-toggleable__control:checked~label.sk-toggleable__label-arrow:before {content: \"▾\";}#sk-container-id-5 div.sk-estimator input.sk-toggleable__control:checked~label.sk-toggleable__label {background-color: #d4ebff;}#sk-container-id-5 div.sk-label input.sk-toggleable__control:checked~label.sk-toggleable__label {background-color: #d4ebff;}#sk-container-id-5 input.sk-hidden--visually {border: 0;clip: rect(1px 1px 1px 1px);clip: rect(1px, 1px, 1px, 1px);height: 1px;margin: -1px;overflow: hidden;padding: 0;position: absolute;width: 1px;}#sk-container-id-5 div.sk-estimator {font-family: monospace;background-color: #f0f8ff;border: 1px dotted black;border-radius: 0.25em;box-sizing: border-box;margin-bottom: 0.5em;}#sk-container-id-5 div.sk-estimator:hover {background-color: #d4ebff;}#sk-container-id-5 div.sk-parallel-item::after {content: \"\";width: 100%;border-bottom: 1px solid gray;flex-grow: 1;}#sk-container-id-5 div.sk-label:hover label.sk-toggleable__label {background-color: #d4ebff;}#sk-container-id-5 div.sk-serial::before {content: \"\";position: absolute;border-left: 1px solid gray;box-sizing: border-box;top: 0;bottom: 0;left: 50%;z-index: 0;}#sk-container-id-5 div.sk-serial {display: flex;flex-direction: column;align-items: center;background-color: white;padding-right: 0.2em;padding-left: 0.2em;position: relative;}#sk-container-id-5 div.sk-item {position: relative;z-index: 1;}#sk-container-id-5 div.sk-parallel {display: flex;align-items: stretch;justify-content: center;background-color: white;position: relative;}#sk-container-id-5 div.sk-item::before, #sk-container-id-5 div.sk-parallel-item::before {content: \"\";position: absolute;border-left: 1px solid gray;box-sizing: border-box;top: 0;bottom: 0;left: 50%;z-index: -1;}#sk-container-id-5 div.sk-parallel-item {display: flex;flex-direction: column;z-index: 1;position: relative;background-color: white;}#sk-container-id-5 div.sk-parallel-item:first-child::after {align-self: flex-end;width: 50%;}#sk-container-id-5 div.sk-parallel-item:last-child::after {align-self: flex-start;width: 50%;}#sk-container-id-5 div.sk-parallel-item:only-child::after {width: 0;}#sk-container-id-5 div.sk-dashed-wrapped {border: 1px dashed gray;margin: 0 0.4em 0.5em 0.4em;box-sizing: border-box;padding-bottom: 0.4em;background-color: white;}#sk-container-id-5 div.sk-label label {font-family: monospace;font-weight: bold;display: inline-block;line-height: 1.2em;}#sk-container-id-5 div.sk-label-container {text-align: center;}#sk-container-id-5 div.sk-container {/* jupyter's `normalize.less` sets `[hidden] { display: none; }` but bootstrap.min.css set `[hidden] { display: none !important; }` so we also need the `!important` here to be able to override the default hidden behavior on the sphinx rendered scikit-learn.org. See: https://github.com/scikit-learn/scikit-learn/issues/21755 */display: inline-block !important;position: relative;}#sk-container-id-5 div.sk-text-repr-fallback {display: none;}</style><div id=\"sk-container-id-5\" class=\"sk-top-container\"><div class=\"sk-text-repr-fallback\"><pre>LogisticRegression(class_weight=&#x27;balanced&#x27;, random_state=42)</pre><b>In a Jupyter environment, please rerun this cell to show the HTML representation or trust the notebook. <br />On GitHub, the HTML representation is unable to render, please try loading this page with nbviewer.org.</b></div><div class=\"sk-container\" hidden><div class=\"sk-item\"><div class=\"sk-estimator sk-toggleable\"><input class=\"sk-toggleable__control sk-hidden--visually\" id=\"sk-estimator-id-5\" type=\"checkbox\" checked><label for=\"sk-estimator-id-5\" class=\"sk-toggleable__label sk-toggleable__label-arrow\">LogisticRegression</label><div class=\"sk-toggleable__content\"><pre>LogisticRegression(class_weight=&#x27;balanced&#x27;, random_state=42)</pre></div></div></div></div></div>"
      ],
      "text/plain": [
       "LogisticRegression(class_weight='balanced', random_state=42)"
      ]
     },
     "execution_count": 85,
     "metadata": {},
     "output_type": "execute_result"
    }
   ],
   "source": [
    "# Train model with class weight\n",
    "x_train, x_test, y_train, y_test = train_test_split(x, y, test_size=0.2, random_state=0)\n",
    "model = LogisticRegression(class_weight='balanced', random_state=42)\n",
    "model.fit(x_train, y_train)\n"
   ]
  },
  {
   "cell_type": "code",
   "execution_count": 86,
   "metadata": {},
   "outputs": [
    {
     "name": "stdout",
     "output_type": "stream",
     "text": [
      "0.8376836399942946\n"
     ]
    }
   ],
   "source": [
    "predicted = model.predict(x_test)\n",
    "\n",
    "accuracy = accuracy_score(y_test, predicted)\n",
    "print(accuracy)"
   ]
  },
  {
   "cell_type": "code",
   "execution_count": 87,
   "metadata": {},
   "outputs": [
    {
     "name": "stdout",
     "output_type": "stream",
     "text": [
      "              precision    recall  f1-score   support\n",
      "\n",
      "          no       0.98      0.84      0.90      6410\n",
      "         yes       0.32      0.80      0.46       601\n",
      "\n",
      "    accuracy                           0.84      7011\n",
      "   macro avg       0.65      0.82      0.68      7011\n",
      "weighted avg       0.92      0.84      0.87      7011\n",
      "\n"
     ]
    }
   ],
   "source": [
    "class_report = classification_report(y_test, predicted)\n",
    "print(class_report)"
   ]
  },
  {
   "cell_type": "markdown",
   "metadata": {},
   "source": [
    "After using class weighting, the accuracy is 79%, an increment on the models built on the different sampling methods. Even though this model has a precision rate of 30%, it has a recall rate of 66%. This means that 66% of the actual clients who subscribe to a term deposit are captured correctly. From a business perspective, it is better to have a model that has a higher chance of capturing potential subscribers. If the bank misses predicting a client as a potential subscriber (false negative), it misses the chance to market the term deposit to them. While the bank may spend effort marketing to non-subscribers, it’s better than losing out on real potential clients. Therefore the model developed using class weighting will be used."
   ]
  },
  {
   "cell_type": "code",
   "execution_count": 88,
   "metadata": {},
   "outputs": [
    {
     "name": "stdout",
     "output_type": "stream",
     "text": [
      "previous: 0.23167148807171553\n",
      "euribor3m: -0.7016068965346822\n",
      "job_blue-collar: -0.2851804293837079\n",
      "job_entrepreneur: -0.03732073653683828\n",
      "job_retired: 0.31520695703817375\n",
      "job_services: -0.2498720255568381\n",
      "job_student: 0.5111897819198523\n",
      "job_technician: -0.1321794536813251\n",
      "job_unemployed: 0.08274179185575178\n",
      "education_basic.6y: -0.1903157337694463\n",
      "education_basic.9y: -0.2974064887117605\n",
      "education_high.school: -0.23745543906188293\n",
      "education_unknown: 0.07479867204063231\n",
      "default_unknown: -0.5235502050046658\n",
      "loan_yes: -0.13219529510709774\n",
      "contact_telephone: -0.05675479061453878\n",
      "month_dec: 0.8162532552462137\n",
      "month_jul: 0.2910538234064838\n",
      "month_jun: 0.28135671953362945\n",
      "month_mar: 1.237005705424972\n",
      "month_may: -1.042330037431148\n",
      "month_oct: 1.5765876433871187\n",
      "month_sep: 0.3084329048370439\n",
      "day_of_week_mon: -0.14679245099381108\n",
      "poutcome_nonexistent: 0.6820945690714871\n",
      "poutcome_success: 1.989646659016341\n"
     ]
    }
   ],
   "source": [
    "coeffs = model.coef_[0]\n",
    "\n",
    "intercept = model.intercept_[0]\n",
    "\n",
    "feature_importance = dict(zip(selected_features, coeffs))\n",
    "\n",
    "for key, value in feature_importance.items():\n",
    "    print(f\"{key}: {value}\")"
   ]
  },
  {
   "cell_type": "markdown",
   "metadata": {},
   "source": [
    "features with a positive coefficient are the most impactful features in terms of if a client will subscribe to the term deposit."
   ]
  },
  {
   "cell_type": "markdown",
   "metadata": {},
   "source": [
    "<a id=\"conclude\"></a>\n",
    "#### Conclusion\n",
    "\n",
    "##### Impactful features\n",
    "The result of performing feature selection on the dataset indicated that the following are the features which are most impactful on predicting whether a client will subscribe to a term deposit.\n",
    "\n",
    "- campaign\n",
    "- previous\n",
    "- emp.var.rate\n",
    "- euribor3m\n",
    "- job\n",
    "- education\n",
    "- default\n",
    "- contact\n",
    "- month\n",
    "- day_of_week\n",
    "- poutcome\n",
    "\n",
    "##### Clients likely to subscribe\n",
    "The common characteristics of clients likely to subscribe are as follows.\n",
    "- Clients who had a successful outcome in a previous campaign.\n",
    "- Clients contacted in March, December,August, and July are more likely to subscribe.\n",
    "- Clients who are students are more likely to subscribe to the term deposit.\n",
    "- Clients who were previously contacted are more likely to subscribe.\n",
    "- Retired individuals show an increased likelihood to subscribe.\n",
    "\n",
    "##### Recommendations for marketing team\n",
    "- Focus on clients with a history of successful campaigns\n",
    "- Prioritize outreach during high-impact months (March, December,August, and July)\n",
    "- Target students and retired clients\n",
    "- Improve Messaging for Clients with No Previous Contact Outcome\n",
    "\n",
    "\n",
    "##### Limitations\n",
    "- The dataset used is imbalanced.\n",
    "- The model is heavily skewed toward predicting no\n",
    "- Logistic regression is a linear model and assumes a linear relationship between predictors and the log-odds of the outcome."
   ]
  },
  {
   "cell_type": "markdown",
   "metadata": {},
   "source": []
  },
  {
   "cell_type": "markdown",
   "metadata": {},
   "source": []
  }
 ],
 "metadata": {
  "kernelspec": {
   "display_name": "myenv",
   "language": "python",
   "name": "python3"
  },
  "language_info": {
   "codemirror_mode": {
    "name": "ipython",
    "version": 3
   },
   "file_extension": ".py",
   "mimetype": "text/x-python",
   "name": "python",
   "nbconvert_exporter": "python",
   "pygments_lexer": "ipython3",
   "version": "3.11.3"
  }
 },
 "nbformat": 4,
 "nbformat_minor": 2
}
